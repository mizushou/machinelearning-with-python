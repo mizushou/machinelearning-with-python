{
 "cells": [
  {
   "cell_type": "markdown",
   "metadata": {},
   "source": [
    "# Setup\n",
    "\n",
    "- install scikit-learn"
   ]
  },
  {
   "cell_type": "code",
   "execution_count": 1,
   "metadata": {},
   "outputs": [
    {
     "name": "stdout",
     "output_type": "stream",
     "text": [
      "Collecting sklearn\n",
      "  Downloading https://files.pythonhosted.org/packages/1e/7a/dbb3be0ce9bd5c8b7e3d87328e79063f8b263b2b1bfa4774cb1147bfcd3f/sklearn-0.0.tar.gz\n",
      "Collecting scikit-learn (from sklearn)\n",
      "\u001b[?25l  Downloading https://files.pythonhosted.org/packages/85/04/49633f490f726da6e454fddc8e938bbb5bfed2001681118d3814c219b723/scikit_learn-0.21.2-cp36-cp36m-manylinux1_x86_64.whl (6.7MB)\n",
      "\u001b[K     |████████████████████████████████| 6.7MB 2.9MB/s \n",
      "\u001b[?25hRequirement already satisfied: scipy>=0.17.0 in /home/shouhei/anaconda3/envs/6.86x/lib/python3.6/site-packages (from scikit-learn->sklearn) (1.3.0)\n",
      "Collecting joblib>=0.11 (from scikit-learn->sklearn)\n",
      "\u001b[?25l  Downloading https://files.pythonhosted.org/packages/cd/c1/50a758e8247561e58cb87305b1e90b171b8c767b15b12a1734001f41d356/joblib-0.13.2-py2.py3-none-any.whl (278kB)\n",
      "\u001b[K     |████████████████████████████████| 286kB 23.0MB/s \n",
      "\u001b[?25hRequirement already satisfied: numpy>=1.11.0 in /home/shouhei/anaconda3/envs/6.86x/lib/python3.6/site-packages (from scikit-learn->sklearn) (1.16.4)\n",
      "Building wheels for collected packages: sklearn\n",
      "  Building wheel for sklearn (setup.py) ... \u001b[?25ldone\n",
      "\u001b[?25h  Stored in directory: /home/shouhei/.cache/pip/wheels/76/03/bb/589d421d27431bcd2c6da284d5f2286c8e3b2ea3cf1594c074\n",
      "Successfully built sklearn\n",
      "Installing collected packages: joblib, scikit-learn, sklearn\n",
      "Successfully installed joblib-0.13.2 scikit-learn-0.21.2 sklearn-0.0\n"
     ]
    }
   ],
   "source": [
    "!pip install sklearn"
   ]
  },
  {
   "cell_type": "code",
   "execution_count": 2,
   "metadata": {},
   "outputs": [
    {
     "name": "stdout",
     "output_type": "stream",
     "text": [
      "sklearn            0.0     \n"
     ]
    }
   ],
   "source": [
    "!pip list | grep sklearn"
   ]
  },
  {
   "cell_type": "markdown",
   "metadata": {},
   "source": [
    "# 2. Linear Regression with Closed Form Solution\n",
    "\n",
    "> After seeing the problem, your classmate Alice immediately argues that we can apply a linear regression model, as the labels are numbers from 0-9, very similar to the example we learned from the lecture. Though being a little doubtful, you decide to have a try and start simple by using the raw pixel values of each image as features.\n",
    "\n",
    "> Alice wrote a skeleton code run_linear_regression_on_MNIST in main.py, but she needs your help to complete the code and make the model work. "
   ]
  },
  {
   "cell_type": "markdown",
   "metadata": {
    "toc-hr-collapsed": true
   },
   "source": [
    "## Closed Form Solution of Linear Regression\n",
    "\n",
    "> To solve the linear regression problem, you recall the linear regression has a closed form solution:\n",
    "\n",
    "$\n",
    "\\displaystyle  \\displaystyle \\theta = (X^ T X + \\lambda I)^{-1} X^ T Y\n",
    "$\n",
    "\n",
    "> where  𝐼  is the identity matrix.\n",
    "\n",
    "> Write a function closed_form that computes this closed form solution given the features  𝑋 , labels  𝑌  and the regularization parameter  𝜆 .\n",
    "\n",
    "- LESの公式（hyper parametar lambdaの正則化項付き）\n",
    "    - スライド25 https://www.slideshare.net/siritori/6-35685092\n",
    "- closed form = 解析解"
   ]
  },
  {
   "cell_type": "code",
   "execution_count": 3,
   "metadata": {},
   "outputs": [],
   "source": [
    "import numpy as np"
   ]
  },
  {
   "cell_type": "markdown",
   "metadata": {},
   "source": [
    "### 行列の積"
   ]
  },
  {
   "cell_type": "code",
   "execution_count": 16,
   "metadata": {},
   "outputs": [
    {
     "data": {
      "text/plain": [
       "array([[ 1,  2,  3,  4],\n",
       "       [ 5,  6,  7,  8],\n",
       "       [ 9, 10, 11, 12]])"
      ]
     },
     "execution_count": 16,
     "metadata": {},
     "output_type": "execute_result"
    }
   ],
   "source": [
    "x = np.array([[1,2,3,4],[5,6,7,8],[9,10,11,12]])\n",
    "x"
   ]
  },
  {
   "cell_type": "code",
   "execution_count": 17,
   "metadata": {},
   "outputs": [
    {
     "data": {
      "text/plain": [
       "(3, 4)"
      ]
     },
     "execution_count": 17,
     "metadata": {},
     "output_type": "execute_result"
    }
   ],
   "source": [
    "x.shape"
   ]
  },
  {
   "cell_type": "code",
   "execution_count": 18,
   "metadata": {},
   "outputs": [
    {
     "data": {
      "text/plain": [
       "array([[ 1,  5,  9],\n",
       "       [ 2,  6, 10],\n",
       "       [ 3,  7, 11],\n",
       "       [ 4,  8, 12]])"
      ]
     },
     "execution_count": 18,
     "metadata": {},
     "output_type": "execute_result"
    }
   ],
   "source": [
    "x_t = x.transpose()\n",
    "x_t"
   ]
  },
  {
   "cell_type": "code",
   "execution_count": 33,
   "metadata": {},
   "outputs": [
    {
     "data": {
      "text/plain": [
       "(4, 3)"
      ]
     },
     "execution_count": 33,
     "metadata": {},
     "output_type": "execute_result"
    }
   ],
   "source": [
    "x_t.shape"
   ]
  },
  {
   "cell_type": "code",
   "execution_count": 29,
   "metadata": {},
   "outputs": [],
   "source": [
    "x_tx = np.matmul(x_t, x)"
   ]
  },
  {
   "cell_type": "markdown",
   "metadata": {},
   "source": [
    "### 逆行列\n",
    "\n",
    "- https://stackoverflow.com/questions/21638895/inverse-of-a-matrix-using-numpy"
   ]
  },
  {
   "cell_type": "code",
   "execution_count": 31,
   "metadata": {},
   "outputs": [
    {
     "data": {
      "text/plain": [
       "array([[ 4.69124961e+13, -5.93736279e+13, -2.19902326e+13,\n",
       "         3.44513643e+13],\n",
       "       [-7.03687442e+13,  7.14682558e+13,  6.81697209e+13,\n",
       "        -6.92692325e+13],\n",
       "       [-0.00000000e+00,  3.51843721e+13, -7.03687442e+13,\n",
       "         3.51843721e+13],\n",
       "       [ 2.34562481e+13, -4.72790000e+13,  2.41892558e+13,\n",
       "        -3.66503876e+11]])"
      ]
     },
     "execution_count": 31,
     "metadata": {},
     "output_type": "execute_result"
    }
   ],
   "source": [
    "x_inverse = np.linalg.inv(x_tx)\n",
    "x_inverse"
   ]
  },
  {
   "cell_type": "markdown",
   "metadata": {},
   "source": [
    "### 単位行列の生成"
   ]
  },
  {
   "cell_type": "code",
   "execution_count": 27,
   "metadata": {},
   "outputs": [
    {
     "data": {
      "text/plain": [
       "array([[1., 0., 0.],\n",
       "       [0., 1., 0.],\n",
       "       [0., 0., 1.]])"
      ]
     },
     "execution_count": 27,
     "metadata": {},
     "output_type": "execute_result"
    }
   ],
   "source": [
    "np.identity(3)"
   ]
  },
  {
   "cell_type": "code",
   "execution_count": 36,
   "metadata": {},
   "outputs": [],
   "source": [
    "def closed_form(X, Y, lambda_factor):\n",
    "    \"\"\"\n",
    "    Computes the closed form solution of linear regression with L2 regularization\n",
    "\n",
    "    Args:\n",
    "        X - (n, d + 1) NumPy array (n datapoints each with d features plus the bias feature in the first dimension)\n",
    "        Y - (n, ) NumPy array containing the labels (a number from 0-9) for each\n",
    "            data point\n",
    "        lambda_factor - the regularization constant (scalar)\n",
    "    Returns:\n",
    "        theta - (d + 1, ) NumPy array containing the weights of linear regression. Note that theta[0]\n",
    "        represents the y-axis intercept of the model and therefore X[0] = 1\n",
    "    \"\"\"\n",
    "    # YOUR CODE HERE\n",
    "    X_T = X.transpose()\n",
    "    X_TX = np.matmul(X_T, X)\n",
    "    dim_X = X.shape[1]\n",
    "    I = np.identity(dim_X)\n",
    "    theta = np.matmul(np.linalg.inv(X_TX + lambda_factor*I), np.matmul(X_T,Y))\n",
    "    return theta\n"
   ]
  },
  {
   "cell_type": "markdown",
   "metadata": {},
   "source": [
    "## Test Error on Linear Regression\n",
    "\n",
    "> Apply the linear regression model on the test set. For classification purpose, you decide to round the predicted label into numbers 0-9.\n",
    "\n",
    "> Note: For this project we will be looking at the error rate defined as the fraction of labels that don't match the target labels, also known as the \"gold labels\" or ground truth. (In other context, you might want to consider other performance measures such as precision and recall, which we have not discussed in this course).\n",
    "\n",
    "- [precision and recall](https://en.wikipedia.org/wiki/Precision_and_recall)\n",
    "\n",
    "> Please enter the test error of your linear regression algorithm for different  𝜆  (copy the output from the main.py run)."
   ]
  },
  {
   "cell_type": "markdown",
   "metadata": {},
   "source": [
    "## What went Wrong?\n",
    "\n",
    "> Alice and you find that no matter what  𝜆  factor you try, the test error is large. With some thinking, you realize that something is wrong with this approach."
   ]
  },
  {
   "cell_type": "markdown",
   "metadata": {},
   "source": [
    "# 3. Support Vector Machine\n",
    "\n",
    ">Bob thinks it is clearly not a regression problem, but a classification problem. He thinks that we can change it into a binary classification and use the support vector machine we learned in Lecture 4 to solve the problem. In order to do so, he suggests that we can build an one vs. rest model for every digit. For example, classifying the digits into two classes: 0 and not 0.\n",
    "\n",
    ">Bob wrote a function run_svm_one_vs_rest_on_MNIST where he changed the labels of digits 1-9 to 1 and keeps the label 0 for digit 0. He also found that sklearn package contains an SVM model that you can use directly. He gave you the link to this model and hopes you can tell him how to use that.\n",
    "\n",
    "- SVC is Support Vector Machine Classifiers\n",
    "    - [sklearn.svm.LinearSVC](https://scikit-learn.org/stable/modules/generated/sklearn.svm.LinearSVC.html#sklearn-svm-linearsvc)\n",
    "    - [Plot different SVM classifiers in the iris dataset](https://scikit-learn.org/stable/auto_examples/svm/plot_iris_svc.html#plot-different-svm-classifiers-in-the-iris-dataset)\n",
    "    - [1.4. Support Vector Machines](https://scikit-learn.org/stable/modules/svm.html#support-vector-machines)\n",
    "- one-vs-the-rest: [one-vs-the-rest](https://scikit-learn.org/stable/modules/multiclass.html#one-vs-the-rest)\n",
    "- Choosing the right estimator\n",
    "    - classification -> Linear SVC\n",
    "![](./ml_map.png)\n",
    "\n"
   ]
  },
  {
   "cell_type": "code",
   "execution_count": 37,
   "metadata": {},
   "outputs": [],
   "source": [
    "from sklearn.svm import LinearSVC"
   ]
  },
  {
   "cell_type": "code",
   "execution_count": 38,
   "metadata": {},
   "outputs": [],
   "source": [
    "def one_vs_rest_svm(train_x, train_y, test_x):\n",
    "    \"\"\"\n",
    "    Trains a linear SVM for binary classifciation\n",
    "\n",
    "    Args:\n",
    "        train_x - (n, d) NumPy array (n datapoints each with d features)\n",
    "        train_y - (n, ) NumPy array containing the labels (0 or 1) for each training data point\n",
    "        test_x - (m, d) NumPy array (m datapoints each with d features)\n",
    "    Returns:\n",
    "        pred_test_y - (m,) NumPy array containing the labels (0 or 1) for each test data point\n",
    "    \"\"\"\n",
    "    clf = LinearSVC(random_state = 0, C=0.1)\n",
    "    pred_tes_y = clf.fit(train_x, train_y).predict(test_x)\n",
    "    return pred_tes_y\n"
   ]
  },
  {
   "cell_type": "markdown",
   "metadata": {},
   "source": [
    "## Binary classification error\n",
    "\n",
    "> Report the test error by running run_svm_one_vs_rest_on_MNIST.\n",
    "\n",
    "`compute_test_error_svm(test_y, pred_test_y)`@svm.pyを実装する。"
   ]
  },
  {
   "cell_type": "code",
   "execution_count": 42,
   "metadata": {},
   "outputs": [],
   "source": [
    "test_y = np.array([1,0,1,1])\n",
    "pred_y = np.array([1,1,1,1])"
   ]
  },
  {
   "cell_type": "code",
   "execution_count": 43,
   "metadata": {},
   "outputs": [
    {
     "data": {
      "text/plain": [
       "0.75"
      ]
     },
     "execution_count": 43,
     "metadata": {},
     "output_type": "execute_result"
    }
   ],
   "source": [
    "np.mean(pred_y == test_y)"
   ]
  },
  {
   "cell_type": "markdown",
   "metadata": {},
   "source": [
    "## Implement C-SVM\n",
    "\n",
    "> Play with the C parameter of SVM, what statement is true about the C parameter?\n",
    "\n",
    "- `LinearSVC(random_state = 0, C=0.1)`のCパラメータのこと\n",
    "    > Penalty parameter C of the error term.\n",
    "- https://scikit-learn.org/stable/modules/generated/sklearn.svm.LinearSVC.html#sklearn.svm.LinearSVC.decision_function\n",
    "- https://stats.stackexchange.com/questions/31066/what-is-the-influence-of-c-in-svms-with-linear-kernel\n",
    "\n",
    "- Answer\n",
    "    - Larger C gives smaller tolerance of violation.\n",
    "    - Larger C gives a smaller-margin separating hyperplane."
   ]
  },
  {
   "cell_type": "markdown",
   "metadata": {},
   "source": [
    "## Multiclass SVM"
   ]
  },
  {
   "cell_type": "markdown",
   "metadata": {},
   "source": [
    "# 4. Multinomial (Softmax) Regression and Gradient Descent\n",
    "\n",
    "> Daniel suggests that instead of building ten models, we can expand a single logistic regression model into a multinomial regression and solve it with similar gradient descent algorithm.\n",
    "\n",
    "> The main function which you will call to run the code you will implement in this section is run_softmax_on_MNIST in main.py (already implemented). In the appendix at the bottom of this page, we describe a number of the methods that are already implemented for you in softmax.py that will be useful.\n",
    "\n",
    "> In order for the regression to work, you will need to implement three methods. Below we describe what the functions should do. We have included some test cases in test.py to help you verify that the methods you have implemented are behaving sensibly."
   ]
  },
  {
   "cell_type": "markdown",
   "metadata": {},
   "source": [
    "## Computing Probabilities for Softmax\n",
    "\n",
    "> Write a function compute_probabilities that computes, for each data point  𝑥(𝑖) , the probability that  𝑥(𝑖)  is labeled as  𝑗  for  𝑗=0,1,…,𝑘−1 .\n",
    "\n",
    "> The softmax function  ℎ  for a particular vector  𝑥  requires computing\n",
    "\n",
    "$\n",
    "h(x) = \\frac{1}{\\sum _{j=1}^ k e^{\\theta _ j \\cdot x / \\tau }} \\begin{bmatrix}  e^{\\theta _1 \\cdot x / \\tau } \\\\ e^{\\theta _2 \\cdot x / \\tau } \\\\ \\vdots \\\\ e^{\\theta _ k \\cdot x / \\tau } \\end{bmatrix}\n",
    "$\n",
    "\n",
    "> where  𝜏>0  is the temperature parameter . When computing the output probabilities (they should always be in the range  [0,1] ), the terms  𝑒𝜃𝑗⋅𝑥/𝜏  may be very large or very small, due to the use of the exponential function. This can cause numerical or overflow errors. To deal with this, we can simply subtract some fixed amount  𝑐  from each exponent to keep the resulting number from getting too large. Since\n",
    "\n",
    "$\n",
    "h(x) = \\frac{e^{-c}}{e^{-c}\\sum _{j=1}^ k e^{\\theta _ j \\cdot x / \\tau }} \\begin{bmatrix}  e^{\\theta _1 \\cdot x / \\tau } \\\\ e^{\\theta _2 \\cdot x / \\tau } \\\\ \\vdots \\\\ e^{\\theta _ k \\cdot x / \\tau } \\end{bmatrix} \\\\ = \\frac{1}{\\sum _{j=1}^ k e^{[\\theta _ j \\cdot x / \\tau ] - c}} \\begin{bmatrix}  e^{[\\theta _1 \\cdot x / \\tau ] - c} \\\\ e^{[\\theta _2 \\cdot x / \\tau ] - c} \\\\ \\vdots \\\\ e^{[\\theta _ k \\cdot x / \\tau ] - c} \\end{bmatrix}\n",
    "$\n",
    "\n",
    "subtracting some fixed amount  𝑐  from each exponent will not change the final probabilities. A suitable choice for this fixed amount is $c = \\max _ j \\theta _ j \\cdot x / \\tau$ ."
   ]
  },
  {
   "cell_type": "code",
   "execution_count": null,
   "metadata": {},
   "outputs": [],
   "source": [
    "def compute_probabilities(X, theta, temp_parameter):\n",
    "    \"\"\"\n",
    "    Computes, for each datapoint X[i], the probability that X[i] is labeled as j\n",
    "    for j = 0, 1, ..., k-1\n",
    "\n",
    "    Args:\n",
    "        X - (n, d) NumPy array (n datapoints each with d features)\n",
    "        theta - (k, d) NumPy array, where row j represents the parameters of our model for label j\n",
    "        temp_parameter - the temperature parameter of softmax function (scalar)\n",
    "    Returns:\n",
    "        H - (k, n) NumPy array, where each entry H[j][i] is the probability that X[i] is labeled as j\n",
    "    \"\"\"\n",
    "    #YOUR CODE HERE\n",
    "    k = theta.shape[0]\n",
    "    n = X.shape[0]\n",
    "    H = np.zeros((k,n))\n",
    "    c = np.zeros(n)\n",
    "    print('-----------------------------------')\n",
    "    print(X)\n",
    "    print(theta)\n",
    "    print(temp_parameter)\n",
    "    print(c)\n",
    "            \n",
    "    for i in range(n):\n",
    "        x_i = X[i]\n",
    "        for j in range(k):\n",
    "            theta_j = theta[j]\n",
    "            c[i] = max(c[i], np.dot(theta_j, x_i)/temp_parameter)\n",
    "            H[j][i] = np.dot(theta_j, x_i)/temp_parameter\n",
    "    print(c)\n",
    "    H_T = np.transpose(H)\n",
    "    print(H_T)\n",
    "    for i in range(n):\n",
    "        coefficient = np.exp(H_T[i] - c[i]).sum()\n",
    "        print('cofficient: ' + str(coefficient))\n",
    "        H_T_i = np.exp(H_T[i] - c[i]) / coefficient\n",
    "        print(H_T_i)\n",
    "        H_T[i] = H_T_i\n",
    "        \n",
    "    H = np.transpose(H_T)\n",
    "    print('-------Result-------')\n",
    "    print(H)\n",
    "    return H"
   ]
  },
  {
   "cell_type": "code",
   "execution_count": 44,
   "metadata": {},
   "outputs": [],
   "source": [
    "a = np.array([1,1,1])"
   ]
  },
  {
   "cell_type": "code",
   "execution_count": 46,
   "metadata": {},
   "outputs": [
    {
     "data": {
      "text/plain": [
       "array([2.71828183, 2.71828183, 2.71828183])"
      ]
     },
     "execution_count": 46,
     "metadata": {},
     "output_type": "execute_result"
    }
   ],
   "source": [
    "np.exp(a)"
   ]
  },
  {
   "cell_type": "code",
   "execution_count": 47,
   "metadata": {},
   "outputs": [],
   "source": [
    "H = np.array([])"
   ]
  },
  {
   "cell_type": "code",
   "execution_count": 48,
   "metadata": {},
   "outputs": [
    {
     "data": {
      "text/plain": [
       "(0,)"
      ]
     },
     "execution_count": 48,
     "metadata": {},
     "output_type": "execute_result"
    }
   ],
   "source": [
    "H.shape"
   ]
  },
  {
   "cell_type": "code",
   "execution_count": 50,
   "metadata": {},
   "outputs": [
    {
     "ename": "AxisError",
     "evalue": "axis 1 is out of bounds for array of dimension 1",
     "output_type": "error",
     "traceback": [
      "\u001b[0;31m---------------------------------------------------------------------------\u001b[0m",
      "\u001b[0;31mAxisError\u001b[0m                                 Traceback (most recent call last)",
      "\u001b[0;32m<ipython-input-50-7353191a3a73>\u001b[0m in \u001b[0;36m<module>\u001b[0;34m\u001b[0m\n\u001b[0;32m----> 1\u001b[0;31m \u001b[0mnp\u001b[0m\u001b[0;34m.\u001b[0m\u001b[0mappend\u001b[0m\u001b[0;34m(\u001b[0m\u001b[0mH\u001b[0m\u001b[0;34m,\u001b[0m \u001b[0ma\u001b[0m\u001b[0;34m,\u001b[0m \u001b[0maxis\u001b[0m \u001b[0;34m=\u001b[0m \u001b[0;36m1\u001b[0m\u001b[0;34m)\u001b[0m\u001b[0;34m\u001b[0m\u001b[0;34m\u001b[0m\u001b[0m\n\u001b[0m",
      "\u001b[0;32m~/anaconda3/envs/6.86x/lib/python3.6/site-packages/numpy/lib/function_base.py\u001b[0m in \u001b[0;36mappend\u001b[0;34m(arr, values, axis)\u001b[0m\n\u001b[1;32m   4692\u001b[0m         \u001b[0mvalues\u001b[0m \u001b[0;34m=\u001b[0m \u001b[0mravel\u001b[0m\u001b[0;34m(\u001b[0m\u001b[0mvalues\u001b[0m\u001b[0;34m)\u001b[0m\u001b[0;34m\u001b[0m\u001b[0;34m\u001b[0m\u001b[0m\n\u001b[1;32m   4693\u001b[0m         \u001b[0maxis\u001b[0m \u001b[0;34m=\u001b[0m \u001b[0marr\u001b[0m\u001b[0;34m.\u001b[0m\u001b[0mndim\u001b[0m\u001b[0;34m-\u001b[0m\u001b[0;36m1\u001b[0m\u001b[0;34m\u001b[0m\u001b[0;34m\u001b[0m\u001b[0m\n\u001b[0;32m-> 4694\u001b[0;31m     \u001b[0;32mreturn\u001b[0m \u001b[0mconcatenate\u001b[0m\u001b[0;34m(\u001b[0m\u001b[0;34m(\u001b[0m\u001b[0marr\u001b[0m\u001b[0;34m,\u001b[0m \u001b[0mvalues\u001b[0m\u001b[0;34m)\u001b[0m\u001b[0;34m,\u001b[0m \u001b[0maxis\u001b[0m\u001b[0;34m=\u001b[0m\u001b[0maxis\u001b[0m\u001b[0;34m)\u001b[0m\u001b[0;34m\u001b[0m\u001b[0;34m\u001b[0m\u001b[0m\n\u001b[0m\u001b[1;32m   4695\u001b[0m \u001b[0;34m\u001b[0m\u001b[0m\n\u001b[1;32m   4696\u001b[0m \u001b[0;34m\u001b[0m\u001b[0m\n",
      "\u001b[0;31mAxisError\u001b[0m: axis 1 is out of bounds for array of dimension 1"
     ]
    }
   ],
   "source": [
    "np.append(H, a, axis = 1)"
   ]
  },
  {
   "cell_type": "code",
   "execution_count": 87,
   "metadata": {},
   "outputs": [
    {
     "data": {
      "text/plain": [
       "array([[1., 1., 1., 1.],\n",
       "       [1., 1., 1., 1.],\n",
       "       [1., 1., 1., 1.]])"
      ]
     },
     "execution_count": 87,
     "metadata": {},
     "output_type": "execute_result"
    }
   ],
   "source": [
    "init = np.ones((3,4))\n",
    "init"
   ]
  },
  {
   "cell_type": "code",
   "execution_count": 88,
   "metadata": {},
   "outputs": [
    {
     "data": {
      "text/plain": [
       "array([[2., 1., 1., 1.],\n",
       "       [1., 1., 1., 1.],\n",
       "       [1., 1., 1., 1.]])"
      ]
     },
     "execution_count": 88,
     "metadata": {},
     "output_type": "execute_result"
    }
   ],
   "source": [
    "init[0][0] = 2\n",
    "init"
   ]
  },
  {
   "cell_type": "code",
   "execution_count": 89,
   "metadata": {},
   "outputs": [
    {
     "data": {
      "text/plain": [
       "array([[2., 1., 1., 1.],\n",
       "       [2., 1., 1., 1.],\n",
       "       [1., 1., 1., 1.]])"
      ]
     },
     "execution_count": 89,
     "metadata": {},
     "output_type": "execute_result"
    }
   ],
   "source": [
    "init[1][0] = 2\n",
    "init"
   ]
  },
  {
   "cell_type": "code",
   "execution_count": 90,
   "metadata": {},
   "outputs": [
    {
     "data": {
      "text/plain": [
       "array([[2., 1., 1., 1.],\n",
       "       [2., 1., 1., 1.],\n",
       "       [2., 1., 1., 1.]])"
      ]
     },
     "execution_count": 90,
     "metadata": {},
     "output_type": "execute_result"
    }
   ],
   "source": [
    "init[2][0] = 2\n",
    "init"
   ]
  },
  {
   "cell_type": "code",
   "execution_count": 92,
   "metadata": {},
   "outputs": [
    {
     "data": {
      "text/plain": [
       "array([4., 4., 4.])"
      ]
     },
     "execution_count": 92,
     "metadata": {},
     "output_type": "execute_result"
    }
   ],
   "source": [
    "d = init.transpose()[0]*2\n",
    "d"
   ]
  },
  {
   "cell_type": "code",
   "execution_count": 101,
   "metadata": {},
   "outputs": [
    {
     "data": {
      "text/plain": [
       "array([[4., 4., 4.],\n",
       "       [1., 1., 1.],\n",
       "       [1., 1., 1.],\n",
       "       [1., 1., 1.]])"
      ]
     },
     "execution_count": 101,
     "metadata": {},
     "output_type": "execute_result"
    }
   ],
   "source": [
    "init_T = init.transpose()\n",
    "init_T[0] = d\n",
    "init_T"
   ]
  },
  {
   "cell_type": "code",
   "execution_count": 102,
   "metadata": {},
   "outputs": [
    {
     "data": {
      "text/plain": [
       "12.0"
      ]
     },
     "execution_count": 102,
     "metadata": {},
     "output_type": "execute_result"
    }
   ],
   "source": [
    "init_T[0].sum()"
   ]
  },
  {
   "cell_type": "code",
   "execution_count": 104,
   "metadata": {},
   "outputs": [
    {
     "data": {
      "text/plain": [
       "99"
      ]
     },
     "execution_count": 104,
     "metadata": {},
     "output_type": "execute_result"
    }
   ],
   "source": [
    "np.max(np.array([1,2,99,4,5]))"
   ]
  },
  {
   "cell_type": "markdown",
   "metadata": {},
   "source": [
    "## Cost Function\n",
    "\n",
    "> Write a function compute_cost_function that computes the total cost over every data point.\n",
    "\n",
    "> The cost function  𝐽(𝜃)  is given by: (Use natural log)\n",
    "\n",
    "$\n",
    "J(\\theta ) = -\\frac{1}{n}\\Bigg[\\sum _{i=1}^ n \\sum _{j={{0}} }^{{{k-1}} } [[y^{(i)} == j]] \\log {\\frac{e^{\\theta _ j \\cdot x^{(i)} / \\tau }}{\\sum _{l={{0}} }^{{{k-1}} } e^{\\theta _ l \\cdot x^{(i)} / \\tau }}}\\Bigg] + \\frac{\\lambda }{2}\\sum _{{{j=0}} }^{{{k-1}} }\\sum _{{{i}} =0}^{d-1} \\theta _{{{ji}} }^2\n",
    "$"
   ]
  },
  {
   "cell_type": "code",
   "execution_count": 105,
   "metadata": {},
   "outputs": [],
   "source": [
    "def compute_cost_function(X, Y, theta, lambda_factor, temp_parameter):\n",
    "    \"\"\"\n",
    "    Computes the total cost over every datapoint.\n",
    "\n",
    "    Args:\n",
    "        X - (n, d) NumPy array (n datapoints each with d features)\n",
    "        Y - (n, ) NumPy array containing the labels (a number from 0-9) for each\n",
    "            data point\n",
    "        theta - (k, d) NumPy array, where row j represents the parameters of our\n",
    "                model for label j\n",
    "        lambda_factor - the regularization constant (scalar)\n",
    "        temp_parameter - the temperature parameter of softmax function (scalar)\n",
    "\n",
    "    Returns\n",
    "        c - the cost value (scalar)\n",
    "    \"\"\"\n",
    "    n, k, d = X.shape[0], theta.shape[0], theta.shape[1]\n",
    "    H = compute_probabilities(X, theta, temp_parameter)\n",
    "    first_term_cost = 0.0\n",
    "    second_term_cost = 0.0\n",
    "    H_T = H.transpose()\n",
    "    \n",
    "    # compute first term of cost function\n",
    "    for i in range(n):\n",
    "        x_i = H_T[i]\n",
    "        for j in range(k):\n",
    "            if Y[i] != j:\n",
    "                first_term_cost += 0\n",
    "            else:\n",
    "                first_term_cost += np.log(H_T[i][j])\n",
    "                \n",
    "    # compute second term of cost function\n",
    "    for i in range(k):\n",
    "        for j in range(d):\n",
    "            second_term_cost += theta[i][j]**2\n",
    "    \n",
    "    c = - (first_term_cost / n) + (lambda_factor * second_term_cost / 2)\n",
    "    return c"
   ]
  },
  {
   "cell_type": "code",
   "execution_count": 107,
   "metadata": {},
   "outputs": [],
   "source": [
    "first_term = 1"
   ]
  },
  {
   "cell_type": "code",
   "execution_count": 108,
   "metadata": {},
   "outputs": [],
   "source": [
    "first_term += 2"
   ]
  },
  {
   "cell_type": "code",
   "execution_count": 109,
   "metadata": {},
   "outputs": [
    {
     "data": {
      "text/plain": [
       "3"
      ]
     },
     "execution_count": 109,
     "metadata": {},
     "output_type": "execute_result"
    }
   ],
   "source": [
    "first_term"
   ]
  },
  {
   "cell_type": "markdown",
   "metadata": {},
   "source": [
    "## Gradient Descent\n",
    "\n",
    "> Write a function run_gradient_descent_iteration that runs one step of batch gradient descent.\n",
    "\n",
    "> The partial derivative of  𝐽(𝜃)  wrt a particular  𝜃𝑗  is given by:\n",
    "\n",
    "$\n",
    "\\nabla _{\\Theta _ j} J(\\theta ) = -\\frac{1}{\\tau n} \\sum _{i = 1} ^{n} [x^{(i)}([[y^{(i)} == j]] - p(y^{(i)} = j | x^{(i)}, \\theta ))] + \\lambda \\theta _ j\n",
    "$"
   ]
  },
  {
   "cell_type": "markdown",
   "metadata": {},
   "source": [
    "### Solution to this problem available before due date: \n",
    "\n",
    "> The function run_gradient_descent_iteration is necessary for the rest of the project. Hence, once you have either submitted the correct function or finished your attempts for this problem, the solution to this function will be available. We are sorry we acted this late, but hope that it will still help.\n",
    "\n",
    "> Now, in order to run the gradient descent algorithm to minimize the cost function, we need to take the derivative of  𝐽(𝜃)  wrt a particular  𝜃𝑚 . Notice that within  𝐽(𝜃) , we have:\n",
    "\n",
    "$\n",
    "\\frac{e^{\\theta _ j \\cdot x^{(i)} / \\tau }}{\\sum _{l=0}^{k-1} e^{\\theta _ l \\cdot x^{(i)} / \\tau }} = p(y^{(i)} = j | x^{(i)}, \\theta )\n",
    "$\n",
    "\n",
    "so we first compute: $\\frac{\\partial p(y^{(i)} = j | x^{(i)}, \\theta )}{\\partial \\theta _ m}$\n",
    "\n",
    "when $m=j$,\n",
    "\n",
    "$\n",
    "\\frac{\\partial p(y^{(i)} = j | x^{(i)}, \\theta )}{\\partial \\theta _ m}=\\frac{x^{(i)}}{\\tau }p(y^{(i)} = m | x^{(i)}, \\theta )[1-p(y^{(i)} = m | x^{(i)}, \\theta )]\n",
    "$\n",
    "\n",
    "when $m\\neq j$\n",
    "\n",
    "$\n",
    "\\frac{\\partial p(y^{(i)} = j | x^{(i)}, \\theta )}{\\partial \\theta _ m}=- \\frac{x^{(i)}}{\\tau }p(y^{(i)} = m | x^{(i)}, \\theta )p(y^{(i)} = j | x^{(i)}, \\theta )\n",
    "$\n",
    "\n",
    "Now we compute\n",
    "\n",
    "$\n",
    "\\displaystyle  \\displaystyle \\frac{\\partial }{\\partial \\theta _ m} \\Bigg[ \\sum _{j=0}^{k-1} [[y^{(i)} == j]] \\log {\\frac{e^{\\theta _ j \\cdot x^{(i)} / \\tau }}{\\sum _{l=0}^{k-1} e^{\\theta _ l \\cdot x^{(i)} / \\tau }}} \\Bigg]\n",
    "\\displaystyle  = \\sum _{j=0, j\\neq m}^{k-1} \\Bigg[ [[y^{(i)} == j]] [- \\frac{x^{(i)}}{\\tau }p(y^{(i)} = m | x^{(i)}, \\theta )] \\Bigg]\n",
    "\\displaystyle + [[y^{(i)} == m]] \\frac{x^{(i)}}{\\tau }[1-p(y^{(i)} = m | x^{(i)}, \\theta )]\n",
    "$\n",
    "$\n",
    "\\displaystyle  = \\frac{x^{(i)}}{\\tau } \\Bigg[ [[y^{(i)} == m]] - p(y^{(i)} = m | x^{(i)}, \\theta ) \\sum _{j=0}^{k-1} [[y^{(i)} == j]] \\Bigg]\n",
    "$\n",
    "\n",
    "$\n",
    "\\displaystyle  = \\frac{x^{(i)}}{\\tau } \\Bigg[ [[y^{(i)} == m]] - p(y^{(i)} = m | x^{(i)}, \\theta ) \\Bigg]\n",
    "$\n",
    "\n",
    "Plug this into the derivatite of  $J(\\theta )$ , we have\n",
    "\n",
    "$\n",
    "\\displaystyle  \\displaystyle \\frac{\\partial J(\\theta )}{\\partial \\theta _ m}\n",
    "$\n",
    "$\n",
    "\\displaystyle  = \\frac{\\partial }{\\partial \\theta _ m}\\Bigg[-\\frac{1}{n}\\Bigg[\\sum _{i=1}^ n \\sum _{j=0}^{k-1} [[y^{(i)} == j]] \\log p(y^{(i)} = j | x^{(i)}, \\theta ) \\Bigg] + \\frac{\\lambda }{2}\\sum _{j=0}^{k-1}\\sum _{i=0}^{d-1} \\theta _{ji}^2\\Bigg]\n",
    "$\n",
    "\n",
    "$\n",
    "\\displaystyle  = -\\frac{1}{\\tau n} \\sum _{i = 1} ^{n} [x^{(i)}([[y^{(i)} == m]] - p(y^{(i)} = m | x^{(i)}, \\theta ))] + \\lambda \\theta _ m\n",
    "$\n",
    "\n",
    "To run gradient descent, we will update $\\theta$ at each step with $\\theta \\leftarrow \\theta - \\alpha \\nabla _{\\theta } J(\\theta )$, where $\\alpha$ is the learning rate.\n",
    "\n",
    "Write a function `run_gradient_descent_iteration` that runs one step of the gradient descent algorithm.\n"
   ]
  },
  {
   "cell_type": "markdown",
   "metadata": {},
   "source": [
    "- ToDo: 以下の理由で改善点がいくつかある\n",
    "    - `sparse.coo_martix`使用していない\n",
    "    - MNISTのデータでの実行時間が40分ほどかかる"
   ]
  },
  {
   "cell_type": "code",
   "execution_count": 110,
   "metadata": {},
   "outputs": [],
   "source": [
    "def run_gradient_descent_iteration(X, Y, theta, alpha, lambda_factor, temp_parameter):\n",
    "    \"\"\"\n",
    "    Runs one step of batch gradient descent\n",
    "\n",
    "    Args:\n",
    "        X - (n, d) NumPy array (n datapoints each with d features)\n",
    "        Y - (n, ) NumPy array containing the labels (a number from 0-9) for each\n",
    "            data point\n",
    "        theta - (k, d) NumPy array, where row j represents the parameters of our\n",
    "                model for label j\n",
    "        alpha - the learning rate (scalar)\n",
    "        lambda_factor - the regularization constant (scalar)\n",
    "        temp_parameter - the temperature parameter of softmax function (scalar)\n",
    "\n",
    "    Returns:\n",
    "        theta - (k, d) NumPy array that is the final value of parameters theta\n",
    "    \"\"\"\n",
    "    #YOUR CODE HERE\n",
    "    n, k, d = X.shape[0], theta.shape[0], theta.shape[1]\n",
    "    H = compute_probabilities(X, theta, temp_parameter)\n",
    "    H_T = H.transpose()\n",
    "    \n",
    "    for m in range(k):\n",
    "        first_term_grad_cost = 0.0\n",
    "        second_term_grad_cost = 0.0\n",
    "        for i in range(n):\n",
    "            if Y[i] != m:\n",
    "                first_term_grad_cost += X[i]*(-H_T[i][m])\n",
    "            else:\n",
    "                first_term_grad_cost += X[i]*(1-H_T[i][m])\n",
    "        first_term_grad_cost  = first_term_grad_cost / (- temp_parameter * n)\n",
    "        second_term_grad_cost = lambda_factor * theta[m]\n",
    "        grad_cost = first_term_grad_cost + second_term_grad_cost\n",
    "        for l in range(d):\n",
    "            theta[m][l] -= alpha * grad_cost[l] \n",
    "        \n",
    "    return theta\n"
   ]
  },
  {
   "cell_type": "markdown",
   "metadata": {},
   "source": [
    "### scipy.sparse.coo_matrix\n",
    "\n",
    "- sparse matrix: 疎行列（スパース行列）。成分のほとんどがゼロである行列\n",
    "- 今回は`COO(座標リスト)`での格納方法を使う\n",
    "\n",
    "> You should use sparse.coo_martix so that your function can handle larger matrices efficiently (and not time out for the online graders). The sparse matrix representation can handle sparse matrices efficiently.\n",
    "\n",
    "- [scipy.sparse.coo_matrix](https://docs.scipy.org/doc/scipy/reference/generated/scipy.sparse.coo_matrix.html)\n",
    "- [疎行列](https://ja.wikipedia.org/wiki/%E7%96%8E%E8%A1%8C%E5%88%97)\n"
   ]
  },
  {
   "cell_type": "code",
   "execution_count": 111,
   "metadata": {},
   "outputs": [],
   "source": [
    "from scipy.sparse import coo_matrix"
   ]
  },
  {
   "cell_type": "code",
   "execution_count": 112,
   "metadata": {},
   "outputs": [
    {
     "data": {
      "text/plain": [
       "array([[0., 0., 0., 0.],\n",
       "       [0., 0., 0., 0.],\n",
       "       [0., 0., 0., 0.]])"
      ]
     },
     "execution_count": 112,
     "metadata": {},
     "output_type": "execute_result"
    }
   ],
   "source": [
    "# Constructing an empty matrix\n",
    "coo_matrix((3,4)).toarray()"
   ]
  },
  {
   "cell_type": "markdown",
   "metadata": {},
   "source": [
    "- 座標を指定してない要素は0になる"
   ]
  },
  {
   "cell_type": "code",
   "execution_count": 116,
   "metadata": {},
   "outputs": [
    {
     "data": {
      "text/plain": [
       "array([[4, 0, 9, 0],\n",
       "       [0, 7, 0, 0],\n",
       "       [0, 0, 0, 0],\n",
       "       [0, 0, 0, 5]])"
      ]
     },
     "execution_count": 116,
     "metadata": {},
     "output_type": "execute_result"
    }
   ],
   "source": [
    "# Constructing a matrix using ijv format\n",
    "row  = np.array([0, 3, 1, 0])\n",
    "col  = np.array([0, 3, 1, 2])\n",
    "data = np.array([4, 5, 7, 9])\n",
    "coo_matrix((data, (row, col)), shape=(4,4)).toarray()"
   ]
  },
  {
   "cell_type": "markdown",
   "metadata": {},
   "source": [
    "- 同一座標を複数指定するとそのdataが足される"
   ]
  },
  {
   "cell_type": "code",
   "execution_count": 117,
   "metadata": {},
   "outputs": [
    {
     "data": {
      "text/plain": [
       "1"
      ]
     },
     "execution_count": 117,
     "metadata": {},
     "output_type": "execute_result"
    }
   ],
   "source": [
    "# Constructing a matrix with duplicate indices\n",
    "row  = np.array([0, 0, 1, 3, 1, 0, 0])\n",
    "col  = np.array([0, 2, 1, 3, 1, 0, 0])\n",
    "data = np.array([1, 1, 1, 1, 1, 1, 1])\n",
    "coo = coo_matrix((data, (row, col)), shape=(4, 4))\n",
    "# Duplicate indices are maintained until implicitly or explicitly summed\n",
    "np.max(coo.data)"
   ]
  },
  {
   "cell_type": "code",
   "execution_count": 118,
   "metadata": {},
   "outputs": [
    {
     "data": {
      "text/plain": [
       "array([[3, 0, 1, 0],\n",
       "       [0, 2, 0, 0],\n",
       "       [0, 0, 0, 0],\n",
       "       [0, 0, 0, 1]])"
      ]
     },
     "execution_count": 118,
     "metadata": {},
     "output_type": "execute_result"
    }
   ],
   "source": [
    "coo.toarray()"
   ]
  },
  {
   "cell_type": "code",
   "execution_count": 120,
   "metadata": {},
   "outputs": [
    {
     "data": {
      "text/plain": [
       "array([1, 0, 1])"
      ]
     },
     "execution_count": 120,
     "metadata": {},
     "output_type": "execute_result"
    }
   ],
   "source": [
    "Y = np.array([1,0,1])\n",
    "Y"
   ]
  },
  {
   "cell_type": "code",
   "execution_count": 125,
   "metadata": {},
   "outputs": [
    {
     "data": {
      "text/plain": [
       "3"
      ]
     },
     "execution_count": 125,
     "metadata": {},
     "output_type": "execute_result"
    }
   ],
   "source": [
    "n = Y.shape[0]\n",
    "n"
   ]
  },
  {
   "cell_type": "code",
   "execution_count": 126,
   "metadata": {},
   "outputs": [],
   "source": [
    "k = 9"
   ]
  },
  {
   "cell_type": "markdown",
   "metadata": {},
   "source": [
    "> This is how to use scipy's sparse.coo_matrix function to create a sparse matrix of 0's and 1's:"
   ]
  },
  {
   "cell_type": "code",
   "execution_count": 129,
   "metadata": {},
   "outputs": [
    {
     "data": {
      "text/plain": [
       "array([[0, 1, 0],\n",
       "       [1, 0, 1],\n",
       "       [0, 0, 0],\n",
       "       [0, 0, 0],\n",
       "       [0, 0, 0],\n",
       "       [0, 0, 0],\n",
       "       [0, 0, 0],\n",
       "       [0, 0, 0],\n",
       "       [0, 0, 0]])"
      ]
     },
     "execution_count": 129,
     "metadata": {},
     "output_type": "execute_result"
    }
   ],
   "source": [
    "M = coo_matrix(([1]*n, (Y, range(n))), shape=(k,n)).toarray()\n",
    "M"
   ]
  },
  {
   "cell_type": "markdown",
   "metadata": {},
   "source": [
    "> This will create a normal numpy array with 1s and 0s.\n",
    "\n",
    "> On larger inputs (i.e. MNIST), this is  10x faster than using a naive for loop. (See example code if interested).\n",
    "\n",
    "> Note: As a personal challenge, try to see if you can use special numpy functions to add 1 in-place. This would be even faster."
   ]
  },
  {
   "cell_type": "code",
   "execution_count": 130,
   "metadata": {},
   "outputs": [
    {
     "name": "stdout",
     "output_type": "stream",
     "text": [
      "6.585542917251587\n",
      "0.3834571838378906\n"
     ]
    }
   ],
   "source": [
    "import time\n",
    "import numpy as np\n",
    "import scipy.sparse as sparse\n",
    "\n",
    "ITER = 100\n",
    "K = 10\n",
    "N = 10000\n",
    "\n",
    "def naive(indices, k):\n",
    "    mat = [[1 if i == j else 0 for j in range(k)] for i in indices]\n",
    "    return np.array(mat).T\n",
    "\n",
    "\n",
    "def with_sparse(indices, k):\n",
    "    n = len(indices)\n",
    "    M = sparse.coo_matrix(([1]*n, (Y, range(n))), shape=(k,n)).toarray()\n",
    "    return M\n",
    "\n",
    "\n",
    "Y = np.random.randint(0, K, size=N)\n",
    "\n",
    "t0 = time.time()\n",
    "for i in range(ITER):\n",
    "    naive(Y, K)\n",
    "print(time.time() - t0)\n",
    "\n",
    "\n",
    "t0 = time.time()\n",
    "for i in range(ITER):\n",
    "    with_sparse(Y, K)\n",
    "print(time.time() - t0)"
   ]
  },
  {
   "cell_type": "markdown",
   "metadata": {},
   "source": [
    "## numpy.concatenate\n",
    "- rowを連結してnp.arrayを生成"
   ]
  },
  {
   "cell_type": "code",
   "execution_count": 135,
   "metadata": {},
   "outputs": [
    {
     "ename": "AxisError",
     "evalue": "axis 1 is out of bounds for array of dimension 1",
     "output_type": "error",
     "traceback": [
      "\u001b[0;31m---------------------------------------------------------------------------\u001b[0m",
      "\u001b[0;31mAxisError\u001b[0m                                 Traceback (most recent call last)",
      "\u001b[0;32m<ipython-input-135-67a32771197d>\u001b[0m in \u001b[0;36m<module>\u001b[0;34m\u001b[0m\n\u001b[1;32m      1\u001b[0m \u001b[0mrow1\u001b[0m \u001b[0;34m=\u001b[0m \u001b[0mnp\u001b[0m\u001b[0;34m.\u001b[0m\u001b[0marray\u001b[0m\u001b[0;34m(\u001b[0m\u001b[0;34m[\u001b[0m\u001b[0;36m1\u001b[0m\u001b[0;34m,\u001b[0m\u001b[0;36m2\u001b[0m\u001b[0;34m,\u001b[0m\u001b[0;36m3\u001b[0m\u001b[0;34m]\u001b[0m\u001b[0;34m)\u001b[0m\u001b[0;34m\u001b[0m\u001b[0;34m\u001b[0m\u001b[0m\n\u001b[1;32m      2\u001b[0m \u001b[0mrow2\u001b[0m \u001b[0;34m=\u001b[0m \u001b[0mnp\u001b[0m\u001b[0;34m.\u001b[0m\u001b[0marray\u001b[0m\u001b[0;34m(\u001b[0m\u001b[0;34m[\u001b[0m\u001b[0;36m4\u001b[0m\u001b[0;34m,\u001b[0m\u001b[0;36m5\u001b[0m\u001b[0;34m,\u001b[0m\u001b[0;36m6\u001b[0m\u001b[0;34m]\u001b[0m\u001b[0;34m)\u001b[0m\u001b[0;34m\u001b[0m\u001b[0;34m\u001b[0m\u001b[0m\n\u001b[0;32m----> 3\u001b[0;31m \u001b[0mnp\u001b[0m\u001b[0;34m.\u001b[0m\u001b[0mconcatenate\u001b[0m\u001b[0;34m(\u001b[0m\u001b[0;34m(\u001b[0m\u001b[0mrow1\u001b[0m\u001b[0;34m,\u001b[0m\u001b[0mrow2\u001b[0m\u001b[0;34m)\u001b[0m\u001b[0;34m,\u001b[0m \u001b[0maxis\u001b[0m\u001b[0;34m=\u001b[0m\u001b[0;36m1\u001b[0m\u001b[0;34m)\u001b[0m\u001b[0;34m\u001b[0m\u001b[0;34m\u001b[0m\u001b[0m\n\u001b[0m",
      "\u001b[0;31mAxisError\u001b[0m: axis 1 is out of bounds for array of dimension 1"
     ]
    }
   ],
   "source": [
    "row1 = np.array([1,2,3])\n",
    "row2 = np.array([4,5,6])\n",
    "np.concatenate((row1,row2), axis=1)"
   ]
  },
  {
   "cell_type": "markdown",
   "metadata": {},
   "source": [
    "# 5. Temperature\n",
    "\n",
    "> We will now explore the effects of the temperature parameter in our algorithm."
   ]
  },
  {
   "cell_type": "markdown",
   "metadata": {},
   "source": [
    "## Reporting Error Rates\n",
    "\n",
    "- $\\text {Error}|_{T=0.5} =$ 0.08399999999999996\n",
    "\n",
    "    ![temp-para=0.5](temp-para=0.5.png)\n",
    "\n",
    "- $\\text {Error}|_{T=1} =$ 0.10050000000000003\n",
    "\n",
    "    ![temp-para=1](temp-para=1.png)\n",
    "\n",
    "- $\\text {Error}|_{T=2} =$ 0.1261\n",
    "\n",
    "    ![temp-para=2](temp-para=2.png)"
   ]
  },
  {
   "cell_type": "markdown",
   "metadata": {},
   "source": [
    "# 6. Changing Labels\n",
    "\n",
    "> We now wish to classify the digits by their (mod 3) value, such that the new label  𝑦(𝑖)  of sample  𝑖  is the old  𝑦(𝑖)(mod3) . (Reminder: Return the temp_parameter to be 1 if you changed it for the last section)\n"
   ]
  },
  {
   "cell_type": "markdown",
   "metadata": {},
   "source": [
    "## Using the Current Model - update target\n",
    "\n",
    ">Given that we already classified every  𝑥(𝑖)  as a digit, we could use the model we already trained and just calculate our estimations (mod 3).\n",
    "\n",
    ">Implement update_y function, which changes the old digit labels for the training and test set for the new (mod 3) labels.\n",
    "\n",
    "- digit: 0-9"
   ]
  },
  {
   "cell_type": "code",
   "execution_count": 140,
   "metadata": {},
   "outputs": [],
   "source": [
    "def update_y(train_y, test_y):\n",
    "    \"\"\"\n",
    "    Changes the old digit labels for the training and test set for the new (mod 3)\n",
    "    labels.\n",
    "\n",
    "    Args:\n",
    "        train_y - (n, ) NumPy array containing the labels (a number between 0-9)\n",
    "                 for each datapoint in the training set\n",
    "        test_y - (n, ) NumPy array containing the labels (a number between 0-9)\n",
    "                for each datapoint in the test set\n",
    "\n",
    "    Returns:\n",
    "        train_y_mod3 - (n, ) NumPy array containing the new labels (a number between 0-2)\n",
    "                     for each datapoint in the training set\n",
    "        test_y_mod3 - (n, ) NumPy array containing the new labels (a number between 0-2)\n",
    "                    for each datapoint in the test set\n",
    "    \"\"\"\n",
    "    #YOUR CODE HERE\n",
    "    return train_y % 3, test_y %3"
   ]
  },
  {
   "cell_type": "code",
   "execution_count": 137,
   "metadata": {},
   "outputs": [
    {
     "data": {
      "text/plain": [
       "array([[0, 1, 2, 3, 4, 5, 6, 7, 8, 9]])"
      ]
     },
     "execution_count": 137,
     "metadata": {},
     "output_type": "execute_result"
    }
   ],
   "source": [
    "digit = np.array([range(10)])\n",
    "digit"
   ]
  },
  {
   "cell_type": "code",
   "execution_count": 138,
   "metadata": {},
   "outputs": [
    {
     "data": {
      "text/plain": [
       "array([[0, 1, 2, 0, 1, 2, 0, 1, 2, 0]])"
      ]
     },
     "execution_count": 138,
     "metadata": {},
     "output_type": "execute_result"
    }
   ],
   "source": [
    "digit % 3"
   ]
  },
  {
   "cell_type": "code",
   "execution_count": 143,
   "metadata": {},
   "outputs": [
    {
     "data": {
      "text/plain": [
       "array([0, 1, 2, 0, 1, 2, 0, 1, 2, 0])"
      ]
     },
     "execution_count": 143,
     "metadata": {},
     "output_type": "execute_result"
    }
   ],
   "source": [
    "train_y = np.array([0,1,2,3,4,5,6,7,8,9])\n",
    "test_y = np.array([0,1,2,3,4,5,6,7,8,9])\n",
    "update_y(train_y, test_y)[1]"
   ]
  },
  {
   "cell_type": "markdown",
   "metadata": {},
   "source": [
    "## Using the Current Model - compute test error\n",
    "\n",
    "> Implement compute_test_error_mod3 function, which takes the test points X, their correct labels Y (digits (mod 3) from 0-2), theta, and the temp_parameter, and returns the error."
   ]
  },
  {
   "cell_type": "code",
   "execution_count": 139,
   "metadata": {},
   "outputs": [],
   "source": [
    "def compute_test_error_mod3(X, Y, theta, temp_parameter):\n",
    "    \"\"\"\n",
    "    Returns the error of these new labels when the classifier predicts the digit. (mod 3)\n",
    "\n",
    "    Args:\n",
    "        X - (n, d - 1) NumPy array (n datapoints each with d - 1 features)\n",
    "        Y - (n, ) NumPy array containing the labels (a number from 0-2) for each\n",
    "            data point\n",
    "        theta - (k, d) NumPy array, where row j represents the parameters of our\n",
    "                model for label j\n",
    "        temp_parameter - the temperature parameter of softmax function (scalar)\n",
    "\n",
    "    Returns:\n",
    "        test_error - the error rate of the classifier (scalar)\n",
    "    \"\"\"\n",
    "    #YOUR CODE HERE\n",
    "    estimated_Y = get_classification(X, theta, temp_parameter)\n",
    "    estimated_Y_mod3 = estimated_Y % 3\n",
    "    \n",
    "    test_error = 1 - np.mean(Y == estimated_Y_mod3)\n",
    "    \n",
    "    return test_error\n"
   ]
  },
  {
   "cell_type": "markdown",
   "metadata": {
    "slideshow": {
     "slide_type": "skip"
    }
   },
   "source": [
    "## Using the Current Model - test error\n",
    "\n",
    "> Find the error rate of the new labels (call these two functions at the end of run_softmax_on_MNIST). See the functions' documentation for detailed explanations of the inputs and outputs."
   ]
  },
  {
   "cell_type": "code",
   "execution_count": 144,
   "metadata": {},
   "outputs": [
    {
     "ename": "NameError",
     "evalue": "name 'get_MNIST_data' is not defined",
     "output_type": "error",
     "traceback": [
      "\u001b[0;31m---------------------------------------------------------------------------\u001b[0m",
      "\u001b[0;31mNameError\u001b[0m                                 Traceback (most recent call last)",
      "\u001b[0;32m<ipython-input-144-44f86bc992bf>\u001b[0m in \u001b[0;36m<module>\u001b[0;34m\u001b[0m\n\u001b[1;32m     28\u001b[0m \u001b[0;34m\u001b[0m\u001b[0m\n\u001b[1;32m     29\u001b[0m \u001b[0;34m\u001b[0m\u001b[0m\n\u001b[0;32m---> 30\u001b[0;31m \u001b[0mprint\u001b[0m\u001b[0;34m(\u001b[0m\u001b[0;34m'softmax test_error='\u001b[0m\u001b[0;34m,\u001b[0m \u001b[0mrun_softmax_on_MNIST\u001b[0m\u001b[0;34m(\u001b[0m\u001b[0mtemp_parameter\u001b[0m\u001b[0;34m=\u001b[0m\u001b[0;36m1\u001b[0m\u001b[0;34m)\u001b[0m\u001b[0;34m[\u001b[0m\u001b[0;36m0\u001b[0m\u001b[0;34m]\u001b[0m\u001b[0;34m)\u001b[0m\u001b[0;34m\u001b[0m\u001b[0;34m\u001b[0m\u001b[0m\n\u001b[0m\u001b[1;32m     31\u001b[0m \u001b[0mprint\u001b[0m\u001b[0;34m(\u001b[0m\u001b[0;34m'softmax test_error_mod3='\u001b[0m\u001b[0;34m,\u001b[0m \u001b[0mrun_softmax_on_MNIST\u001b[0m\u001b[0;34m(\u001b[0m\u001b[0mtemp_parameter\u001b[0m\u001b[0;34m=\u001b[0m\u001b[0;36m1\u001b[0m\u001b[0;34m)\u001b[0m\u001b[0;34m[\u001b[0m\u001b[0;36m1\u001b[0m\u001b[0;34m]\u001b[0m\u001b[0;34m)\u001b[0m\u001b[0;34m\u001b[0m\u001b[0;34m\u001b[0m\u001b[0m\n",
      "\u001b[0;32m<ipython-input-144-44f86bc992bf>\u001b[0m in \u001b[0;36mrun_softmax_on_MNIST\u001b[0;34m(temp_parameter)\u001b[0m\n\u001b[1;32m     14\u001b[0m         \u001b[0mFinal\u001b[0m \u001b[0mtest\u001b[0m \u001b[0merror\u001b[0m\u001b[0;34m\u001b[0m\u001b[0;34m\u001b[0m\u001b[0m\n\u001b[1;32m     15\u001b[0m     \"\"\"\n\u001b[0;32m---> 16\u001b[0;31m     \u001b[0mtrain_x\u001b[0m\u001b[0;34m,\u001b[0m \u001b[0mtrain_y\u001b[0m\u001b[0;34m,\u001b[0m \u001b[0mtest_x\u001b[0m\u001b[0;34m,\u001b[0m \u001b[0mtest_y\u001b[0m \u001b[0;34m=\u001b[0m \u001b[0mget_MNIST_data\u001b[0m\u001b[0;34m(\u001b[0m\u001b[0;34m)\u001b[0m\u001b[0;34m\u001b[0m\u001b[0;34m\u001b[0m\u001b[0m\n\u001b[0m\u001b[1;32m     17\u001b[0m     \u001b[0mtheta\u001b[0m\u001b[0;34m,\u001b[0m \u001b[0mcost_function_history\u001b[0m \u001b[0;34m=\u001b[0m \u001b[0msoftmax_regression\u001b[0m\u001b[0;34m(\u001b[0m\u001b[0mtrain_x\u001b[0m\u001b[0;34m,\u001b[0m \u001b[0mtrain_y\u001b[0m\u001b[0;34m,\u001b[0m \u001b[0mtemp_parameter\u001b[0m\u001b[0;34m,\u001b[0m \u001b[0malpha\u001b[0m\u001b[0;34m=\u001b[0m\u001b[0;36m0.3\u001b[0m\u001b[0;34m,\u001b[0m \u001b[0mlambda_factor\u001b[0m\u001b[0;34m=\u001b[0m\u001b[0;36m1.0e-4\u001b[0m\u001b[0;34m,\u001b[0m \u001b[0mk\u001b[0m\u001b[0;34m=\u001b[0m\u001b[0;36m10\u001b[0m\u001b[0;34m,\u001b[0m \u001b[0mnum_iterations\u001b[0m\u001b[0;34m=\u001b[0m\u001b[0;36m150\u001b[0m\u001b[0;34m)\u001b[0m\u001b[0;34m\u001b[0m\u001b[0;34m\u001b[0m\u001b[0m\n\u001b[1;32m     18\u001b[0m     \u001b[0mplot_cost_function_over_time\u001b[0m\u001b[0;34m(\u001b[0m\u001b[0mcost_function_history\u001b[0m\u001b[0;34m)\u001b[0m\u001b[0;34m\u001b[0m\u001b[0;34m\u001b[0m\u001b[0m\n",
      "\u001b[0;31mNameError\u001b[0m: name 'get_MNIST_data' is not defined"
     ]
    }
   ],
   "source": [
    "def run_softmax_on_MNIST(temp_parameter=1):\n",
    "    \"\"\"\n",
    "    Trains softmax, classifies test data, computes test error, and plots cost function\n",
    "\n",
    "    Runs softmax_regression on the MNIST training set and computes the test error using\n",
    "    the test set. It uses the following values for parameters:\n",
    "    alpha = 0.3\n",
    "    lambda = 1e-4\n",
    "    num_iterations = 150\n",
    "\n",
    "    Saves the final theta to ./theta.pkl.gz\n",
    "\n",
    "    Returns:\n",
    "        Final test error\n",
    "    \"\"\"\n",
    "    train_x, train_y, test_x, test_y = get_MNIST_data()\n",
    "    theta, cost_function_history = softmax_regression(train_x, train_y, temp_parameter, alpha=0.3, lambda_factor=1.0e-4, k=10, num_iterations=150)\n",
    "    plot_cost_function_over_time(cost_function_history)\n",
    "    test_error = compute_test_error(test_x, test_y, theta, temp_parameter)\n",
    "    # Save the model parameters theta obtained from calling softmax_regression to disk.\n",
    "    write_pickle_data(theta, \"./theta.pkl.gz\")\n",
    "\n",
    "    # TODO: add your code here for the \"Using the Current Model\" question in tab 4.\n",
    "    #      and print the test_error_mod3\n",
    "    test_y_mod3 = update_y(train_y, test_y)[1]\n",
    "    test_error_mod3 = compute_test_error_mod3(test_x, test_y_mod3, theta, temp_parameter)\n",
    "    return test_error, test_error_mod3\n",
    "\n",
    "\n",
    "print('softmax test_error=', run_softmax_on_MNIST(temp_parameter=1)[0])\n",
    "print('softmax test_error_mod3=', run_softmax_on_MNIST(temp_parameter=1)[1])"
   ]
  },
  {
   "cell_type": "markdown",
   "metadata": {},
   "source": [
    "## Retrain with New Labels\n",
    "\n",
    "> Now suppose that instead we want to retrain our classifier with the new labels. In other words, rather than training the model to predict the original digits and then taking those predictions modulo 3, we explicitly train the model to predict the digits modulo 3 from the original image.\n",
    "\n",
    "> How do you expect the performance to change using the new labels?"
   ]
  },
  {
   "cell_type": "code",
   "execution_count": 145,
   "metadata": {},
   "outputs": [],
   "source": [
    "def run_softmax_on_MNIST_mod3(temp_parameter=1):\n",
    "    \"\"\"\n",
    "    Trains Softmax regression on digit (mod 3) classifications.\n",
    "\n",
    "    See run_softmax_on_MNIST for more info.\n",
    "    \"\"\"\n",
    "    # YOUR CODE HERE\n",
    "    train_x, train_y, test_x, test_y = get_MNIST_data()\n",
    "    train_y_mod3, test_y_mod3 = update_y(train_y, test_y)[0], update_y(train_y, test_y)[1]\n",
    "    theta, cost_function_history = softmax_regression(train_x, train_y_mod3, temp_parameter, alpha=0.3, lambda_factor=1.0e-4, k=10, num_iterations=150)\n",
    "    plot_cost_function_over_time(cost_function_history)\n",
    "    test_error_mod3 = compute_test_error_mod3(test_x, test_y_mod3, theta, temp_parameter)\n",
    "    # Save the model parameters theta obtained from calling softmax_regression to disk.\n",
    "    write_pickle_data(theta, \"./theta.pkl.gz\")\n",
    "\n",
    "    # TODO: add your code here for the \"Using the Current Model\" question in tab 4.\n",
    "    #      and print the test_error_mod3\n",
    "    return test_error_mod3"
   ]
  },
  {
   "cell_type": "markdown",
   "metadata": {},
   "source": [
    "## Softmax(Multinomial) Regression modelのまとめ\n",
    "\n",
    "- 4. Multinomial (Softmax) Regression\n",
    "- 6. Changing Labels -> labelをmod3に変更\n",
    "- 8. Dimensionality Reduction Using PCA -> PCAを用いてデータセットのdimensionを落として、Softmaxを実行\n",
    "- 9. Cubic Features -> cubuic featureを適用する。ただし、raw datasetのまま適用すると高次元になってしまうため、PCAで次元を落としてから適用する\n",
    "\n",
    "|No.| Function                      | Traing data set         | Test errorを算出に使ったdata set                |Test error| Description                                          |\n",
    "|:---:|:---------------------------:|:-----------------------:| :-------------------------------------------:|:----:|:----------------------------------------------------:|\n",
    "|4,6| run_softmax_on_MNIST          | (train_x, train_y)      | (test_x, test_y), (test_x, test_y_mod3)      |0.10050000000000003, 0.07679999999999998(mod3)| lableが0-9(digit)のデータセットでtrainingしてtheataを求める  |\n",
    "|6| run_softmax_on_MNIST_mod3       | (train_x, train_y_mod3) | (test_x, test_y_mod3)                        |0.18720000000000003| lableが0,1,2(mod3)のデータセットでtrainingしてtheataを求める |\n",
    "|8| run_softmax_on_MNIST_pca        | (train_pca, train_y)    | (test_pca, test_y)                           |0.1483             | 784-dimのデータセットをpcaにより18-dimにしてtrainingしてtheataを求める |\n",
    "|9|run_softmax_on_MNIST_pca10_cubic |(train_cube, train_y)    | (test_cube, test_y)                          |0.08640000000000003| 784-dimのデータセットをpcsにより10-dimにして、さらにcubic kernelに適用したデータ・セットでtrainingしてthetaを求める|\n"
   ]
  },
  {
   "cell_type": "markdown",
   "metadata": {
    "toc-hr-collapsed": false
   },
   "source": [
    "# 7. Classification Using Manually Crafted Features\n",
    "\n",
    "> The performance of most learning algorithms depends heavily on the representation of the training data. In this section, we will try representing each image using different features in place of the raw pixel values. Subsequently, we will investigate how well our regression model from the previous section performs when fed different representations of the data."
   ]
  },
  {
   "cell_type": "markdown",
   "metadata": {},
   "source": [
    "## Dimensionality Reduction via PCA\n",
    "\n",
    "> Principal Components Analysis (PCA) is the most popular method for linear dimension reduction of data and is widely used in data analysis. For an in-depth exposition see: \n",
    "[http://snobear.colorado.edu/Markw/BioMath/Otis/PCA/principal_components.ps](http://snobear.colorado.edu/Markw/BioMath/Otis/PCA/principal_components.ps)\n",
    "\n",
    ">Briefly, this method finds (orthogonal) directions of maximal variation in the data. By projecting an $n \\times d$ dataset  $X$ onto  $k \\leq d$  of these directions, we get a new dataset of lower dimension that reflects more variation in the original data than any other  $k$-dimensional linear projection of $𝑋$ . By going through some linear algebra, it can be proven that these directions are equal to the  $𝑘$ eigenvectors corresponding to the $𝑘$ largest eigenvalues of the covariance matrix  $\\widetilde{X}^ T \\widetilde{X}$ , where  $\\widetilde{X}$  is a centered version of our original data.\n",
    "\n",
    "\n",
    "> Remark: The best implementations of PCA actually use the Singular Value Decomposition of $\\widetilde{X}$ rather than the more straightforward approach outlined here, but these concepts are beyond the scope of this course."
   ]
  },
  {
   "cell_type": "markdown",
   "metadata": {},
   "source": [
    "## Cubic Features\n",
    "\n",
    "In this section, we will also work with a cubic feature mapping which maps an input vector  $x = [x_1,\\dots , x_ d]$  into a new feature vector  $\\phi (x)$ , defined so that for any  $x, x' \\in \\mathbb {R}^ d$:\n",
    "\n",
    "$\n",
    "\\phi (x)^ T \\phi (x') = (x^ T x' + 1)^3\n",
    "$\n"
   ]
  },
  {
   "cell_type": "code",
   "execution_count": 147,
   "metadata": {},
   "outputs": [
    {
     "data": {
      "text/plain": [
       "(2,)"
      ]
     },
     "execution_count": 147,
     "metadata": {},
     "output_type": "execute_result"
    }
   ],
   "source": [
    "a = np.array([-0.4035,  0.915])\n",
    "a.shape"
   ]
  },
  {
   "cell_type": "code",
   "execution_count": 148,
   "metadata": {},
   "outputs": [],
   "source": [
    "b = np.array([0.915 ,  0.4035])"
   ]
  },
  {
   "cell_type": "code",
   "execution_count": 150,
   "metadata": {},
   "outputs": [
    {
     "data": {
      "text/plain": [
       "0.0"
      ]
     },
     "execution_count": 150,
     "metadata": {},
     "output_type": "execute_result"
    }
   ],
   "source": [
    "np.dot(a, b)"
   ]
  },
  {
   "cell_type": "code",
   "execution_count": 163,
   "metadata": {},
   "outputs": [
    {
     "data": {
      "text/plain": [
       "array([[0.05194688, 0.51665608, 0.54277497, 0.2346091 , 0.12200716],\n",
       "       [0.12782774, 0.48055288, 0.62581373, 0.56599878, 0.36839801],\n",
       "       [0.57735819, 0.60481533, 0.70493835, 0.63290267, 0.10632069],\n",
       "       [0.34825322, 0.32315491, 0.82751388, 0.60932118, 0.61791211],\n",
       "       [0.32421745, 0.19315761, 0.15519407, 0.04214597, 0.81223093]])"
      ]
     },
     "execution_count": 163,
     "metadata": {},
     "output_type": "execute_result"
    }
   ],
   "source": [
    "c = np.random.rand(5,5)\n",
    "c"
   ]
  },
  {
   "cell_type": "code",
   "execution_count": 164,
   "metadata": {},
   "outputs": [
    {
     "data": {
      "text/plain": [
       "array([0.05194688, 0.12782774, 0.57735819, 0.34825322, 0.32421745])"
      ]
     },
     "execution_count": 164,
     "metadata": {},
     "output_type": "execute_result"
    }
   ],
   "source": [
    "c[:,0]"
   ]
  },
  {
   "cell_type": "code",
   "execution_count": 165,
   "metadata": {},
   "outputs": [
    {
     "data": {
      "text/plain": [
       "array([0.51665608, 0.48055288, 0.60481533, 0.32315491, 0.19315761])"
      ]
     },
     "execution_count": 165,
     "metadata": {},
     "output_type": "execute_result"
    }
   ],
   "source": [
    "c[:,1]"
   ]
  },
  {
   "cell_type": "code",
   "execution_count": 230,
   "metadata": {},
   "outputs": [
    {
     "data": {
      "text/plain": [
       "array([[0.05194688, 0.51665608, 0.54277497],\n",
       "       [0.12782774, 0.48055288, 0.62581373],\n",
       "       [0.57735819, 0.60481533, 0.70493835],\n",
       "       [0.34825322, 0.32315491, 0.82751388],\n",
       "       [0.32421745, 0.19315761, 0.15519407]])"
      ]
     },
     "execution_count": 230,
     "metadata": {},
     "output_type": "execute_result"
    }
   ],
   "source": [
    "c[:,range(3)]"
   ]
  },
  {
   "cell_type": "markdown",
   "metadata": {},
   "source": [
    "## Step 4: Calculate the eigenvectors and eignevalues of the covariance matrix\n",
    "\n",
    "- pricipal_components.psの内容を確認"
   ]
  },
  {
   "cell_type": "code",
   "execution_count": 167,
   "metadata": {},
   "outputs": [
    {
     "data": {
      "text/plain": [
       "array([[0.61655556, 0.61544444],\n",
       "       [0.61544444, 0.71655556]])"
      ]
     },
     "execution_count": 167,
     "metadata": {},
     "output_type": "execute_result"
    }
   ],
   "source": [
    "cov = np.array([[.616555556, .615444444],[.615444444, .716555556]])\n",
    "cov"
   ]
  },
  {
   "cell_type": "markdown",
   "metadata": {},
   "source": [
    "- [numpy.linalg.eig](https://docs.scipy.org/doc/numpy-1.15.1/reference/generated/numpy.linalg.eig.html)\n",
    "    - columnがeigen vector\n",
    "    \n",
    "    > The normalized (unit “length”) eigenvectors, such that the column v[:,i] is the eigenvector corresponding to the eigenvalue w[i].\n"
   ]
  },
  {
   "cell_type": "code",
   "execution_count": 194,
   "metadata": {},
   "outputs": [
    {
     "data": {
      "text/plain": [
       "(array([0.0490834 , 1.28402771]), array([[-0.73517866, -0.6778734 ],\n",
       "        [ 0.6778734 , -0.73517866]]))"
      ]
     },
     "execution_count": 194,
     "metadata": {},
     "output_type": "execute_result"
    }
   ],
   "source": [
    "np.linalg.eig(cov)"
   ]
  },
  {
   "cell_type": "code",
   "execution_count": 172,
   "metadata": {},
   "outputs": [
    {
     "name": "stdout",
     "output_type": "stream",
     "text": [
      "eigenvalues:\n"
     ]
    },
    {
     "data": {
      "text/plain": [
       "array([0.0490834 , 1.28402771])"
      ]
     },
     "execution_count": 172,
     "metadata": {},
     "output_type": "execute_result"
    }
   ],
   "source": [
    "print('eigenvalues:')\n",
    "np.linalg.eig(cov)[0]"
   ]
  },
  {
   "cell_type": "code",
   "execution_count": 211,
   "metadata": {},
   "outputs": [
    {
     "name": "stdout",
     "output_type": "stream",
     "text": [
      "eigenvectors, eigenvalue:\n",
      "u1 :[-0.73517866  0.6778734 ] eigenvalue :0.0490833998257566\n",
      "u2 :[-0.6778734  -0.73517866] eigenvalue :1.2840277121742432\n"
     ]
    }
   ],
   "source": [
    "v1 =  np.linalg.eig(cov)[0][0]\n",
    "v2 =  np.linalg.eig(cov)[0][1]\n",
    "u1 = np.linalg.eig(cov)[1][:,0]\n",
    "u2 = np.linalg.eig(cov)[1][:,1]\n",
    "\n",
    "print('eigenvectors, eigenvalue:')\n",
    "print('u1 :' + str(u1) + ' eigenvalue :' + str(v1))\n",
    "print('u2 :' + str(u2) + ' eigenvalue :' + str(v2))"
   ]
  },
  {
   "cell_type": "code",
   "execution_count": 212,
   "metadata": {},
   "outputs": [
    {
     "name": "stdout",
     "output_type": "stream",
     "text": [
      "u1 norm :0.9999999999999999\n",
      "u2 norm :0.9999999999999999\n"
     ]
    }
   ],
   "source": [
    "print('u1 norm :' + str(np.linalg.norm(u1)))\n",
    "print('u2 norm :' + str(np.linalg.norm(u2)))"
   ]
  },
  {
   "cell_type": "code",
   "execution_count": 213,
   "metadata": {},
   "outputs": [
    {
     "data": {
      "text/plain": [
       "0.0"
      ]
     },
     "execution_count": 213,
     "metadata": {},
     "output_type": "execute_result"
    }
   ],
   "source": [
    "u1@u2"
   ]
  },
  {
   "cell_type": "code",
   "execution_count": 215,
   "metadata": {},
   "outputs": [
    {
     "data": {
      "image/png": "[encoded data removed]",
      "text/plain": [
       "<Figure size 432x288 with 1 Axes>"
      ]
     },
     "metadata": {
      "needs_background": "light"
     },
     "output_type": "display_data"
    }
   ],
   "source": [
    "import matplotlib.pyplot as plt\n",
    "\n",
    "plt.figure()\n",
    "\n",
    "O = np.array([0,0])\n",
    "\n",
    "plt.quiver(\n",
    "    O[0],O[1],\n",
    "    u1[0],u1[1],\n",
    "    angles='xy', scale_units='xy', scale=1\n",
    ")\n",
    "\n",
    "plt.quiver(\n",
    "    O[0],O[1],\n",
    "    u2[0],u2[1],\n",
    "    angles='xy', scale_units='xy', scale=1\n",
    ")\n",
    "\n",
    "\n",
    "plt.xlim([-2,2])\n",
    "plt.ylim([-2,2])\n",
    "plt.grid()\n",
    "plt.draw()\n"
   ]
  },
  {
   "cell_type": "markdown",
   "metadata": {},
   "source": [
    "## principle componentの判断の仕方 P.16\n",
    "\n",
    "> the eigenvector with the highest eigenvalue is the principle component of the data set.\n",
    "\n",
    "つまり今回だと、次のeigenvectorがprinciple componentとなる(eigenvalueが一番大きいeigenvector)"
   ]
  },
  {
   "cell_type": "code",
   "execution_count": 217,
   "metadata": {},
   "outputs": [
    {
     "name": "stdout",
     "output_type": "stream",
     "text": [
      "u2 :[-0.6778734  -0.73517866] eigenvalue :1.2840277121742432\n"
     ]
    }
   ],
   "source": [
    "print('u2 :' + str(u2) + ' eigenvalue :' + str(v2))"
   ]
  },
  {
   "cell_type": "markdown",
   "metadata": {},
   "source": [
    "## PCAの流れ\n",
    "\n",
    "1. covariance matrixを求める\n",
    "1. covariance matrixのeigenvector(eigenvalue)を求める（ここまでを上記で行った）\n",
    "1. eigenvectorsを見つけたら、そのeigenvectorをeigenvalueで降順でソートする\n",
    "    - これがこのdata setで重要な方向順となる。\n",
    "    - 上でも述べたが、eigenvalueが一番大きいeigenvectorが一番重要(つまりprinciple component)\n",
    "    - ちなみに、eigenvector = component(要素)と呼んでいる\n",
    "    > This give you the components in order of significance.\n",
    "1. その中から好きなようにあまり重要でないcomponentsを除いていく\n",
    "    > Now, if you like, you can decide to ignore the components of lesser siginicance. You do lose some information, but if the eigenvalues are small, you don't lose much.\n",
    "    \n",
    "    > To be precise, if you originally have n dimensions in your data, and so you calculate n eigenvectors and eigenvalues, and the you choose only the first p eigenvectors, then the final data set has only p dimensions."
   ]
  },
  {
   "cell_type": "markdown",
   "metadata": {},
   "source": [
    "## プログラミングのための線形代数 P. xi"
   ]
  },
  {
   "cell_type": "code",
   "execution_count": 190,
   "metadata": {},
   "outputs": [
    {
     "data": {
      "text/plain": [
       "array([[ 1. , -0.3],\n",
       "       [-0.7,  0.6]])"
      ]
     },
     "execution_count": 190,
     "metadata": {},
     "output_type": "execute_result"
    }
   ],
   "source": [
    "A = np.array([[1,-0.3],[-0.7,0.6]])\n",
    "A"
   ]
  },
  {
   "cell_type": "code",
   "execution_count": 200,
   "metadata": {},
   "outputs": [
    {
     "name": "stdout",
     "output_type": "stream",
     "text": [
      "eigenvectors, eigenvalue:\n",
      "u1 :[ 0.70710678 -0.70710678] eigenvalue :1.2999999999999998\n",
      "u2 :[0.3939193  0.91914503] eigenvalue :0.3\n"
     ]
    }
   ],
   "source": [
    "av1 = np.linalg.eig(A)[0][0]\n",
    "av2 = np.linalg.eig(A)[0][1]\n",
    "au1 = np.linalg.eig(A)[1][:,0]\n",
    "au2 = np.linalg.eig(A)[1][:,1]\n",
    "\n",
    "print('eigenvectors, eigenvalue:')\n",
    "print('u1 :' + str(au1) + ' eigenvalue :' + str(av1))\n",
    "print('u2 :' + str(au2) + ' eigenvalue :' + str(av2))"
   ]
  },
  {
   "cell_type": "code",
   "execution_count": 216,
   "metadata": {},
   "outputs": [
    {
     "data": {
      "image/png": "[encoded data removed]",
      "text/plain": [
       "<Figure size 432x288 with 1 Axes>"
      ]
     },
     "metadata": {
      "needs_background": "light"
     },
     "output_type": "display_data"
    }
   ],
   "source": [
    "plt.figure()\n",
    "\n",
    "O = np.array([0,0])\n",
    "\n",
    "plt.quiver(\n",
    "    O[0],O[1],\n",
    "    au1[0],au1[1],\n",
    "    angles='xy', scale_units='xy', scale=1\n",
    ")\n",
    "\n",
    "plt.quiver(\n",
    "    O[0],O[1],\n",
    "    au2[0],au2[1],\n",
    "    angles='xy', scale_units='xy', scale=1\n",
    ")\n",
    "\n",
    "\n",
    "plt.xlim([-2,2])\n",
    "plt.ylim([-2,2])\n",
    "plt.grid()\n",
    "plt.draw()"
   ]
  },
  {
   "cell_type": "markdown",
   "metadata": {},
   "source": [
    "# 8. Dimensionality Reduction Using PCA\n",
    "\n",
    "> PCA finds (orthogonal) directions of maximal variation in the data. In this problem we're going to project our data onto the principal components and explore the effects on performance.\n",
    "\n"
   ]
  },
  {
   "cell_type": "markdown",
   "metadata": {},
   "source": [
    "## Project onto Principal Components\n",
    "\n",
    "> Fill in function project_onto_PC in features.py that implements PCA dimensionality reduction of dataset $X$.\n",
    "\n",
    "> $\\widetilde{X} V$\n",
    "\n",
    "> where $\\widetilde{X}$ is the centered version of the original data $X$ and $V$ is the $d \\times k$ matrix whose columns are the top $k$ eigenvectors of $\\widetilde{X}^ T \\widetilde{X}$. This is because the eigenvectors are of unit-norm, so there is no need to divide by their length.\n",
    "\n",
    "> You are given the full principal component matrix $V'$ as pcs in this function.\n",
    "\n",
    "> Available Functions: You have access to the NumPy python library as np and the function center_data which returns a centered version of the data, where each feature now has mean = 0\n",
    "\n",
    "- $X$ : 元のdataset\n",
    "- $\\widetilde{X}$ : centeredしたdataset [`X_center_ajusted`]\n",
    "- $V'$ : covariance matrixのeigen vectorの集まり。full principal component matrix　[`pcs`]\n",
    "- $V$ : $V'$からtop k componentsだけを抽出したmatrix [`feature_vector`]\n",
    "- $\\widetilde{X} V$ : projcet $X$ into its k-dim PCA representaion. $X$を$n$-dimから$k$-dimへの射影"
   ]
  },
  {
   "cell_type": "code",
   "execution_count": 232,
   "metadata": {},
   "outputs": [],
   "source": [
    "def project_onto_PC(X, pcs, n_components):\n",
    "    \"\"\"\n",
    "    Given principal component vectors pcs = principal_components(X)\n",
    "    this function returns a new data array in which each sample in X\n",
    "    has been projected onto the first n_components principcal components.\n",
    "    \"\"\"\n",
    "    # TODO: first center data using the centerData() function.\n",
    "    # TODO: Return the projection of the centered dataset\n",
    "    #       on the first n_components principal components.\n",
    "    #       This should be an array with dimensions: n x n_components.\n",
    "    # Hint: these principal components = first n_components columns\n",
    "    #       of the eigenvectors returned by principal_components().\n",
    "    #       Note that each eigenvector is already be a unit-vector,\n",
    "    #       so the projection may be done using matrix multiplication.\n",
    "    X_center_ajusted = center_data(X)\n",
    "    feature_vector = pcs[:,range(n_components)]\n",
    "    final_data_T = feature_vector.transpose()@X_center_ajusted.transpose()\n",
    "    return final_data_T.transpose()"
   ]
  },
  {
   "cell_type": "markdown",
   "metadata": {},
   "source": [
    "> Note: we only use the training dataset to determine the principal components. It is improper to use the test dataset for anything except evaluating the accuracy of our predictive model. If the test data is used for other purposes such as selecting good features, it is possible to overfit the test set and obtain overconfident estimates of a model's performance."
   ]
  },
  {
   "cell_type": "markdown",
   "metadata": {},
   "source": [
    "## Testing PCA\n",
    "\n",
    "> Use project_onto_PC to compute a 18-dimensional PCA representation of the MNIST training and test datasets, as illustrated in main.py.\n",
    "\n",
    "> Retrain your softmax regression model (using the original labels) on the MNIST training dataset and report its error on the test data, this time using these 18-dimensional PCA-representations rather than the raw pixel values.\n",
    "\n",
    "> If your PCA implementation is correct, the model should perform nearly as well when only given 18 numbers encoding each image as compared to the 784 in the original data (error on the test set using PCA features should be around 0.15). This is because PCA ensures these 18 feature values capture the maximal amount of variation from the original 784-dimensional data.\n",
    "\n",
    "- pcaでd=784 -> n=18に次元を落とす\n",
    "\n",
    "> Use plot_PC in main.py to visualize the first 100 MNIST images, as represented in the space spanned by the first 2 principal components of the training data. What does your PCA look like?\n"
   ]
  },
  {
   "cell_type": "markdown",
   "metadata": {},
   "source": [
    "![Dimensionality_Reduction_Using_PCA](./Dimensionality_Reduction_Using_PCA.png)"
   ]
  },
  {
   "cell_type": "markdown",
   "metadata": {},
   "source": [
    "> Remark: Two dimensional PCA plots offer a nice way to visualize some global structure in high-dimensional data, although approaches based on nonlinear dimension reduction may be more insightful in certain cases. Notice that for our data, the first 2 principal components are insufficent for fully separating the different classes of MNIST digits.\n",
    "\n",
    "- top 2のprincipal componentsでデータを可視化。しかし、図からわかるように2 componentsだけではclssifyはできないことがわかる"
   ]
  },
  {
   "cell_type": "markdown",
   "metadata": {},
   "source": [
    "# 9. Cubic Features\n",
    "\n",
    "In this section, we will work with a cubic feature mapping which maps an input vector $x = [x_1,\\dots , x_ d]$ into a new feature vector $\\phi (x)$, defined so that for any $x, x' \\in \\mathbb {R}^ d$:\n",
    "\n",
    "$\\phi (x)^ T \\phi (x') = (x^ T x' + 1)^3$"
   ]
  },
  {
   "cell_type": "markdown",
   "metadata": {},
   "source": [
    "## Computing Cubic Features\n",
    "\n",
    "In 2-D, let $x = [x_1, x_2]$. Write down the explicit cubic feature mapping $\\phi (x)$ as a vector; i.e., $\\phi (x) = [f_1(x_1, x_2), \\cdots , f_ N(x_1, x_2)]$\n",
    "\n",
    "$\\phi (x) = [(x_1)^3,(x_2)^3,sqrt(3)*(x_1)^2*(x_2),sqrt(3)*(x_1)^2,sqrt(3)*(x_2)^2,sqrt(3)*(x_1)*(x_2)^2,sqrt(6)*(x_1)*(x_2),sqrt(3)*(x_1),sqrt(3)*(x_2),1]$"
   ]
  },
  {
   "cell_type": "markdown",
   "metadata": {},
   "source": [
    "> The cubic_features function in features.py is already implemented for you. That function can handle input with an arbitrary dimension and compute the corresponding features for the cubic Kernel. Note that here we don't leverage the kernel properties that allow us to do a more efficient computation with the kernel function (without computing the features themselves). Instead, here we do compute the cubic features explicitly and apply the PCA on the output features"
   ]
  },
  {
   "cell_type": "markdown",
   "metadata": {},
   "source": [
    "## Applying to MNIST\n",
    "\n",
    "\n",
    "> If we explicitly apply the cubic feature mapping to the original 784-dimensional raw pixel features, the resulting representation would be of massive dimensionality. Instead, we will apply the quadratic feature mapping to the 10-dimensional PCA representation of our training data which we will have to calculate just as we calculated the 18-dimensional representation in the previous problem. After applying the cubic feature mapping to the PCA representations for both the train and test datasets, retrain the softmax regression model using these new features and report the resulting test set error below.\n",
    "\n",
    "- PCAで784-dim -> 10-dimに落とす\n",
    "- 10-dimのdatasetをcubic kernelに代入する\n",
    "- そのcubic kernelのdatasetでsoftmax regression modelでtrainingし直す。"
   ]
  },
  {
   "cell_type": "code",
   "execution_count": 234,
   "metadata": {},
   "outputs": [
    {
     "ename": "NameError",
     "evalue": "name 'principal_components' is not defined",
     "output_type": "error",
     "traceback": [
      "\u001b[0;31m---------------------------------------------------------------------------\u001b[0m",
      "\u001b[0;31mNameError\u001b[0m                                 Traceback (most recent call last)",
      "\u001b[0;32m<ipython-input-234-afaff2a7f00a>\u001b[0m in \u001b[0;36m<module>\u001b[0;34m\u001b[0m\n\u001b[1;32m      3\u001b[0m \u001b[0;34m\u001b[0m\u001b[0m\n\u001b[1;32m      4\u001b[0m \u001b[0mn_components\u001b[0m \u001b[0;34m=\u001b[0m \u001b[0;36m10\u001b[0m\u001b[0;34m\u001b[0m\u001b[0;34m\u001b[0m\u001b[0m\n\u001b[0;32m----> 5\u001b[0;31m \u001b[0mpcs\u001b[0m \u001b[0;34m=\u001b[0m \u001b[0mprincipal_components\u001b[0m\u001b[0;34m(\u001b[0m\u001b[0mtrain_x\u001b[0m\u001b[0;34m)\u001b[0m\u001b[0;34m\u001b[0m\u001b[0;34m\u001b[0m\u001b[0m\n\u001b[0m\u001b[1;32m      6\u001b[0m \u001b[0mtrain_pca10\u001b[0m \u001b[0;34m=\u001b[0m \u001b[0mproject_onto_PC\u001b[0m\u001b[0;34m(\u001b[0m\u001b[0mtrain_x\u001b[0m\u001b[0;34m,\u001b[0m \u001b[0mpcs\u001b[0m\u001b[0;34m,\u001b[0m \u001b[0mn_components\u001b[0m\u001b[0;34m)\u001b[0m\u001b[0;34m\u001b[0m\u001b[0;34m\u001b[0m\u001b[0m\n\u001b[1;32m      7\u001b[0m \u001b[0mtest_pca10\u001b[0m \u001b[0;34m=\u001b[0m \u001b[0mproject_onto_PC\u001b[0m\u001b[0;34m(\u001b[0m\u001b[0mtest_x\u001b[0m\u001b[0;34m,\u001b[0m \u001b[0mpcs\u001b[0m\u001b[0;34m,\u001b[0m \u001b[0mn_components\u001b[0m\u001b[0;34m)\u001b[0m\u001b[0;34m\u001b[0m\u001b[0;34m\u001b[0m\u001b[0m\n",
      "\u001b[0;31mNameError\u001b[0m: name 'principal_components' is not defined"
     ]
    }
   ],
   "source": [
    "## Cubic Kernel ##\n",
    "# TODO: Find the 10-dimensional PCA representation of the training and test set\n",
    "\n",
    "n_components = 10\n",
    "pcs = principal_components(train_x)\n",
    "train_pca10 = project_onto_PC(train_x, pcs, n_components)\n",
    "test_pca10 = project_onto_PC(test_x, pcs, n_components)\n",
    "\n",
    "# TODO: First fill out cubicFeatures() function in features.py as the below code requires it.\n",
    "\n",
    "train_cube = cubic_features(train_pca10)\n",
    "test_cube = cubic_features(test_pca10)\n",
    "\n",
    "def run_softmax_on_MNIST_pca10_cubic(temp_parameter=1):\n",
    "    \"\"\"\n",
    "    Trains softmax, classifies test data, computes test error, and plots cost function\n",
    "\n",
    "    Runs softmax_regression on the MNIST training set and computes the test error using\n",
    "    the test set. It uses the following values for parameters:\n",
    "    alpha = 0.3\n",
    "    lambda = 1e-4\n",
    "    num_iterations = 150\n",
    "\n",
    "    Saves the final theta to ./theta.pkl.gz\n",
    "\n",
    "    Returns:\n",
    "        Final test error\n",
    "    \"\"\"\n",
    "    train_x, train_y, test_x, test_y = get_MNIST_data()\n",
    "    theta, cost_function_history = softmax_regression(train_cube, train_y, temp_parameter, alpha=0.3, lambda_factor=1.0e-4, k=10, num_iterations=150)\n",
    "    plot_cost_function_over_time(cost_function_history)\n",
    "    test_error_pca10_cube = compute_test_error(test_cube, test_y, theta, temp_parameter)\n",
    "    # Save the model parameters theta obtained from calling softmax_regression to disk.\n",
    "    write_pickle_data(theta, \"./theta.pkl.gz\")\n",
    "\n",
    "    return test_error_pca10_cube"
   ]
  }
 ],
 "metadata": {
  "kernelspec": {
   "display_name": "Environment (conda_6.86x)",
   "language": "python",
   "name": "conda_6.86x"
  },
  "language_info": {
   "codemirror_mode": {
    "name": "ipython",
    "version": 3
   },
   "file_extension": ".py",
   "mimetype": "text/x-python",
   "name": "python",
   "nbconvert_exporter": "python",
   "pygments_lexer": "ipython3",
   "version": "3.6.8"
  }
 },
 "nbformat": 4,
 "nbformat_minor": 2
}
