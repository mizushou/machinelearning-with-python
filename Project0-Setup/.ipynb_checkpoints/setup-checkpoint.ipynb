{
 "cells": [
  {
   "cell_type": "markdown",
   "metadata": {},
   "source": [
    "### Required python packages \n",
    "\n",
    "1. [NumPy](https://www.numpy.org/)\n",
    "1. [matplotlib](https://matplotlib.org/)\n",
    "1. [SciPy](https://www.scipy.org/)\n",
    "1. [tqdm](https://github.com/tqdm/tqdm)\n",
    "1. [PyTorch](https://pytorch.org/)"
   ]
  },
  {
   "cell_type": "markdown",
   "metadata": {},
   "source": [
    "### Terminalのconadaで作成した仮想環境をjupyter labでも利用できるようにする\n",
    "\n",
    "- Ref1. [Create virtual environments for python with conda](https://uoa-eresearch.github.io/eresearch-cookbook/recipe/2014/11/20/conda/)\n",
    "- Ref2. [Anacondaの仮想環境をJupyter notebookに反映させる方法](https://qiita.com/yuj/items/b9e82aeb0e4b2ffd34b9)\n",
    "\n",
    "#### 1. check conda is install and in your path\n",
    "\n",
    "- terminal上で以下のコマンドでcondaがインストールされていることを確認\n",
    "\n",
    "```shell\n",
    "conda -V\n",
    "```\n",
    "\n",
    "#### 2. check conda is up to date\n",
    "\n",
    "- terminal上でcondaが最新であることを確認\n",
    "\n",
    "```shell\n",
    "conda update conda\n",
    "```\n",
    "\n",
    "#### 3. create a virtual environment for your project\n",
    "\n",
    "- environment name: 6.86x\n",
    "- python version: 3.6\n",
    "- package: jupyter\n",
    "\n",
    "```shell\n",
    "conda create -n 6.86x python=3.6 jupyter\n",
    "```\n",
    "\n",
    "- 作成した環境を確認する\n",
    "\n",
    "```shell\n",
    "conda info -e\n",
    "# conda environments:\n",
    "#\n",
    "base                  *  /home/shouhei/anaconda3\n",
    "6.86x                    /home/shouhei/anaconda3/envs/6.86x\n",
    "```\n",
    "\n",
    "- condaで設定できるpythonのバージョンは以下の様にしらべることができる\n",
    "\n",
    "```shell\n",
    "conda search \"^python$\"\n",
    "```\n",
    "\n",
    "- 仮想環境の削除は以下のコマンド\n",
    "\n",
    "```shell\n",
    "conda remove -n ${envname} -all\n",
    "```\n",
    "\n",
    "#### 4. 作成した仮想環境(6.86x)にjupyter labaで切り替えることができるよう設定する\n",
    "\n",
    "- `jupyter_environment_kernels`のインストール\n",
    "\n",
    "```\n",
    "pip install environment_kernels\n",
    "```\n",
    "\n",
    "- 以下のパスの`jupyter_notebook_config.py`を編集する\n",
    "- なければ`jupyter notebook --generate-config`で作成する\n",
    "\n",
    "```shell\n",
    "vi /home/shouhei/.jupyter/jupyter_notebook_config.py\n",
    "```\n",
    "\n",
    "- 以下を追記\n",
    "\n",
    "```py\n",
    "c.NotebookApp.kernel_spec_manager_class='environment_kernels.EnvironmentKernelSpecManager'\n",
    "c.EnvironmentKernelSpecManager.env_dirs=['/home/shouhei/anaconda3/envs']\n",
    "```\n",
    "\n",
    "#### 5. jupyter labを起動する\n",
    "\n",
    "- jupyter labを起動すると、File作成またはKernelでterminaのcondaで作成した仮想環境を選択できるようになっている\n",
    "\n",
    "```shell\n",
    "jupyter lab\n",
    "```\n",
    "\n",
    "- 起動時にLauncherにcondaで作成した仮想環境が選択できればOK\n",
    "- 仮想環境を選択した後に、`python`,`pip`が作成した仮想環境下であることを確認\n"
   ]
  },
  {
   "cell_type": "code",
   "execution_count": 4,
   "metadata": {},
   "outputs": [
    {
     "name": "stdout",
     "output_type": "stream",
     "text": [
      "/home/shouhei/anaconda3/envs/6.86x/bin/python\n"
     ]
    }
   ],
   "source": [
    "!which python"
   ]
  },
  {
   "cell_type": "code",
   "execution_count": 6,
   "metadata": {},
   "outputs": [
    {
     "name": "stdout",
     "output_type": "stream",
     "text": [
      "/home/shouhei/anaconda3/envs/6.86x/bin/pip\n"
     ]
    }
   ],
   "source": [
    "!which pip"
   ]
  },
  {
   "cell_type": "markdown",
   "metadata": {},
   "source": [
    "### Install the packages\n",
    "\n",
    "#### 1. numpy, matplotlib, scipy, tqdm\n",
    "\n",
    "- 上記の必要なパッケージをインストールする\n",
    "- まず、`pytorch`以外は`pip`でインストールする\n",
    "- 試しにterminalでインストールしたパッケージがjupter上でもインストールされているかを確認する\n",
    "\n",
    "```shell\n",
    "pip install numpy\n",
    "pip list | grep numpy\n",
    "numpy              1.16.4\n",
    "```\n",
    "\n",
    "- 同様に、jupyter notebook上でも`numpy`がインストールされていればOK"
   ]
  },
  {
   "cell_type": "code",
   "execution_count": 3,
   "metadata": {},
   "outputs": [
    {
     "name": "stdout",
     "output_type": "stream",
     "text": [
      "numpy              1.16.4  \n"
     ]
    }
   ],
   "source": [
    "!pip list | grep numpy"
   ]
  },
  {
   "cell_type": "markdown",
   "metadata": {},
   "source": [
    "残りのパッケージはjupyter notebook上でインストール"
   ]
  },
  {
   "cell_type": "code",
   "execution_count": 8,
   "metadata": {},
   "outputs": [
    {
     "name": "stdout",
     "output_type": "stream",
     "text": [
      "Collecting matplotlib\n",
      "\u001b[?25l  Downloading https://files.pythonhosted.org/packages/da/83/d989ee20c78117c737ab40e0318ea221f1aed4e3f5a40b4f93541b369b93/matplotlib-3.1.0-cp36-cp36m-manylinux1_x86_64.whl (13.1MB)\n",
      "\u001b[K     |████████████████████████████████| 13.1MB 3.0MB/s eta 0:00:01\n",
      "\u001b[?25hCollecting pyparsing!=2.0.4,!=2.1.2,!=2.1.6,>=2.0.1 (from matplotlib)\n",
      "  Using cached https://files.pythonhosted.org/packages/dd/d9/3ec19e966301a6e25769976999bd7bbe552016f0d32b577dc9d63d2e0c49/pyparsing-2.4.0-py2.py3-none-any.whl\n",
      "Collecting cycler>=0.10 (from matplotlib)\n",
      "  Using cached https://files.pythonhosted.org/packages/f7/d2/e07d3ebb2bd7af696440ce7e754c59dd546ffe1bbe732c8ab68b9c834e61/cycler-0.10.0-py2.py3-none-any.whl\n",
      "Requirement already satisfied: python-dateutil>=2.1 in /home/shouhei/anaconda3/envs/6.86x/lib/python3.6/site-packages (from matplotlib) (2.8.0)\n",
      "Requirement already satisfied: numpy>=1.11 in /home/shouhei/anaconda3/envs/6.86x/lib/python3.6/site-packages (from matplotlib) (1.16.4)\n",
      "Collecting kiwisolver>=1.0.1 (from matplotlib)\n",
      "\u001b[?25l  Downloading https://files.pythonhosted.org/packages/f8/a1/5742b56282449b1c0968197f63eae486eca2c35dcd334bab75ad524e0de1/kiwisolver-1.1.0-cp36-cp36m-manylinux1_x86_64.whl (90kB)\n",
      "\u001b[K     |████████████████████████████████| 92kB 26.8MB/s eta 0:00:01\n",
      "\u001b[?25hRequirement already satisfied: six in /home/shouhei/anaconda3/envs/6.86x/lib/python3.6/site-packages (from cycler>=0.10->matplotlib) (1.12.0)\n",
      "Requirement already satisfied: setuptools in /home/shouhei/anaconda3/envs/6.86x/lib/python3.6/site-packages (from kiwisolver>=1.0.1->matplotlib) (41.0.1)\n",
      "Installing collected packages: pyparsing, cycler, kiwisolver, matplotlib\n",
      "Successfully installed cycler-0.10.0 kiwisolver-1.1.0 matplotlib-3.1.0 pyparsing-2.4.0\n",
      "Note: you may need to restart the kernel to use updated packages.\n"
     ]
    }
   ],
   "source": [
    "pip install matplotlib"
   ]
  },
  {
   "cell_type": "code",
   "execution_count": 9,
   "metadata": {},
   "outputs": [
    {
     "name": "stdout",
     "output_type": "stream",
     "text": [
      "matplotlib         3.1.0   \n"
     ]
    }
   ],
   "source": [
    "!pip list | grep matplotlib"
   ]
  },
  {
   "cell_type": "code",
   "execution_count": null,
   "metadata": {},
   "outputs": [],
   "source": [
    "!pip install scipy"
   ]
  },
  {
   "cell_type": "code",
   "execution_count": 10,
   "metadata": {},
   "outputs": [
    {
     "name": "stdout",
     "output_type": "stream",
     "text": [
      "scipy              1.3.0   \n"
     ]
    }
   ],
   "source": [
    "!pip list | grep scipy"
   ]
  },
  {
   "cell_type": "code",
   "execution_count": 11,
   "metadata": {},
   "outputs": [
    {
     "name": "stdout",
     "output_type": "stream",
     "text": [
      "Collecting tqdm\n",
      "\u001b[?25l  Downloading https://files.pythonhosted.org/packages/9f/3d/7a6b68b631d2ab54975f3a4863f3c4e9b26445353264ef01f465dc9b0208/tqdm-4.32.2-py2.py3-none-any.whl (50kB)\n",
      "\u001b[K     |████████████████████████████████| 51kB 1.9MB/s eta 0:00:011\n",
      "\u001b[?25hInstalling collected packages: tqdm\n",
      "Successfully installed tqdm-4.32.2\n"
     ]
    }
   ],
   "source": [
    "!pip install tqdm"
   ]
  },
  {
   "cell_type": "code",
   "execution_count": 12,
   "metadata": {},
   "outputs": [
    {
     "name": "stdout",
     "output_type": "stream",
     "text": [
      "tqdm               4.32.2  \n"
     ]
    }
   ],
   "source": [
    "!pip list | grep tqdm"
   ]
  },
  {
   "cell_type": "markdown",
   "metadata": {},
   "source": [
    "#### 2. pytorchをインストールする\n",
    "\n",
    "- 最後にterminalのcondaでpytorchをインストールする\n",
    "- まず、terminal上で仮想環境環境が`6.86x`に切り替える\n",
    "\n",
    "```shell\n",
    "conda activate 6.86x\n",
    "conda info -e\n",
    "```\n",
    "\n",
    "- pytorchインストール\n",
    "\n",
    "```shell\n",
    "conda install pytorch -c pytorch\n",
    "```\n",
    "\n",
    "- 確認\n",
    "\n",
    "```shell\n",
    "conda list\n",
    "```"
   ]
  },
  {
   "cell_type": "markdown",
   "metadata": {},
   "source": [
    "### 最後に上記のパッケージがすべてインストールされていることを確認する\n",
    "\n",
    "- `setup/project0`配下の`test.py`を実行することで確認\n",
    "- `test.py`を選択し、右クリック。`create console for editor`をクリックして仮想環境を選択してconsoleを開く\n",
    "- コマンドで`test.py`を実行\n",
    "\n",
    "```python\n",
    "%run test.py\n",
    "```\n",
    "\n",
    "- terminalで実行する場合\n",
    "\n",
    "> How to Test Locally: In your terminal, navigate to the directory where your project files reside. Execute the command python test.py to run all the available tests.\n",
    "\n",
    "```shell\n",
    "conda activate 6.86x\n",
    "conda info -e\n",
    "python test.py\n",
    "```\n",
    "\n",
    "- すべてインストールされていれば以下のように表示される\n",
    "\n",
    "```py\n",
    "python test.py\n",
    "PASS NumPy installed\n",
    "PASS SciPy installed\n",
    "PASS matplotlib installed\n",
    "PASS PyTorch installed\n",
    "PASS tqdm installed\n",
    "```\n"
   ]
  },
  {
   "cell_type": "markdown",
   "metadata": {},
   "source": [
    "-　jupyter labでのcodingのイメージ\n",
    "\n",
    "![image](img/jupyter-lab-coding.png)"
   ]
  },
  {
   "cell_type": "code",
   "execution_count": null,
   "metadata": {},
   "outputs": [],
   "source": []
  }
 ],
 "metadata": {
  "kernelspec": {
   "display_name": "Environment (conda_6.86x)",
   "language": "python",
   "name": "conda_6.86x"
  },
  "language_info": {
   "codemirror_mode": {
    "name": "ipython",
    "version": 3
   },
   "file_extension": ".py",
   "mimetype": "text/x-python",
   "name": "python",
   "nbconvert_exporter": "python",
   "pygments_lexer": "ipython3",
   "version": "3.6.8"
  }
 },
 "nbformat": 4,
 "nbformat_minor": 2
}
