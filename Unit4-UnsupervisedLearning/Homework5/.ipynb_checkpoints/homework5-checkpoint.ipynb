{
 "cells": [
  {
   "cell_type": "markdown",
   "metadata": {},
   "source": [
    "# 1. K-means and K-medoids"
   ]
  },
  {
   "cell_type": "code",
   "execution_count": 5,
   "metadata": {},
   "outputs": [],
   "source": [
    "import matplotlib.pyplot as plt\n",
    "import numpy as np"
   ]
  },
  {
   "cell_type": "code",
   "execution_count": 9,
   "metadata": {},
   "outputs": [],
   "source": [
    "xyz = np.array(np.random.random((10, 3)))"
   ]
  },
  {
   "cell_type": "code",
   "execution_count": 12,
   "metadata": {},
   "outputs": [
    {
     "data": {
      "text/plain": [
       "array([[0.46404811, 0.13076363, 0.59725172],\n",
       "       [0.68465952, 0.85329395, 0.92954296],\n",
       "       [0.60723984, 0.56378326, 0.19779387],\n",
       "       [0.85596839, 0.57596359, 0.64395417],\n",
       "       [0.90701294, 0.76002196, 0.0855121 ],\n",
       "       [0.06598361, 0.9075293 , 0.96916163],\n",
       "       [0.50103812, 0.7564418 , 0.43589796],\n",
       "       [0.649374  , 0.82781704, 0.54513567],\n",
       "       [0.51780527, 0.60747369, 0.16127487],\n",
       "       [0.14369468, 0.01694325, 0.56377244]])"
      ]
     },
     "execution_count": 12,
     "metadata": {},
     "output_type": "execute_result"
    }
   ],
   "source": [
    "xyz"
   ]
  },
  {
   "cell_type": "code",
   "execution_count": 10,
   "metadata": {},
   "outputs": [
    {
     "data": {
      "text/plain": [
       "array([0.46404811, 0.68465952, 0.60723984, 0.85596839, 0.90701294,\n",
       "       0.06598361, 0.50103812, 0.649374  , 0.51780527, 0.14369468])"
      ]
     },
     "execution_count": 10,
     "metadata": {},
     "output_type": "execute_result"
    }
   ],
   "source": [
    "xyz[:,0]"
   ]
  },
  {
   "cell_type": "code",
   "execution_count": 11,
   "metadata": {},
   "outputs": [
    {
     "data": {
      "text/plain": [
       "<matplotlib.collections.PathCollection at 0x7f01ac53bf60>"
      ]
     },
     "execution_count": 11,
     "metadata": {},
     "output_type": "execute_result"
    },
    {
     "data": {
      "image/png": "[encoded data removed]",
      "text/plain": [
       "<Figure size 432x288 with 1 Axes>"
      ]
     },
     "metadata": {
      "needs_background": "light"
     },
     "output_type": "display_data"
    }
   ],
   "source": [
    "plt.scatter(xyz[:,0], xyz[:,1])"
   ]
  },
  {
   "cell_type": "code",
   "execution_count": 13,
   "metadata": {},
   "outputs": [],
   "source": [
    "dataset = np.array([\n",
    "    [0, -6],\n",
    "    [4, 4],\n",
    "    [0, 0],\n",
    "    [-5, 2]\n",
    "])"
   ]
  },
  {
   "cell_type": "code",
   "execution_count": 14,
   "metadata": {},
   "outputs": [
    {
     "data": {
      "text/plain": [
       "array([[ 0, -6],\n",
       "       [ 4,  4],\n",
       "       [ 0,  0],\n",
       "       [-5,  2]])"
      ]
     },
     "execution_count": 14,
     "metadata": {},
     "output_type": "execute_result"
    }
   ],
   "source": [
    "dataset"
   ]
  },
  {
   "cell_type": "code",
   "execution_count": 21,
   "metadata": {},
   "outputs": [
    {
     "data": {
      "text/plain": [
       "<matplotlib.collections.PathCollection at 0x7f01ac6f5fd0>"
      ]
     },
     "execution_count": 21,
     "metadata": {},
     "output_type": "execute_result"
    },
    {
     "data": {
      "image/png": "[encoded data removed]",
      "text/plain": [
       "<Figure size 576x504 with 1 Axes>"
      ]
     },
     "metadata": {
      "needs_background": "light"
     },
     "output_type": "display_data"
    }
   ],
   "source": [
    "plt.figure(figsize=(8,7))\n",
    "plt.title(\"Dataset\")\n",
    "plt.xlabel('x')\n",
    "plt.ylabel('y')\n",
    "marker_size = 15\n",
    "plt.grid(b=None, which='major', axis='both')\n",
    "plt.scatter(dataset[:,0], dataset[:,1], marker_size)"
   ]
  },
  {
   "cell_type": "markdown",
   "metadata": {},
   "source": [
    "## Clustering 1\n",
    "\n",
    "- K-medoids algorithm\n",
    "- K-medoidsのcost functionは任意のdistanceで定義する\n",
    "- 今回のcost functionはL1ノルムで定義\n",
    "\n",
    "$\\text {Cost}(z_1, ... z_ K) = \\sum _{i=1}^{n} \\min _{j=1,...,k} \\text {dist}(x^{(i)}, z_ j)$"
   ]
  },
  {
   "cell_type": "code",
   "execution_count": 35,
   "metadata": {},
   "outputs": [],
   "source": [
    "def dist_norm1(x, z):\n",
    "    return np.linalg.norm((x-z), ord=1)"
   ]
  },
  {
   "cell_type": "code",
   "execution_count": 72,
   "metadata": {},
   "outputs": [],
   "source": [
    "def dist_norm2(x, z):\n",
    "    return np.linalg.norm(x, z)"
   ]
  },
  {
   "cell_type": "code",
   "execution_count": 59,
   "metadata": {},
   "outputs": [
    {
     "name": "stdout",
     "output_type": "stream",
     "text": [
      "init the cluster1 center  [-5  2]\n",
      "init the cluster2 center  [ 0 -6]\n"
     ]
    }
   ],
   "source": [
    "z = np.array([dataset[3],dataset[0]])\n",
    "\n",
    "print('init the cluster1 center ', z[0])\n",
    "print('init the cluster2 center ', z[1])"
   ]
  },
  {
   "cell_type": "code",
   "execution_count": 62,
   "metadata": {},
   "outputs": [],
   "source": [
    "K = 2\n",
    "C_1 = []\n",
    "C_2 = []\n",
    "\n",
    "for i in dataset:\n",
    "    dists = {}\n",
    "    for j in range(z.size):\n",
    "        dists[dist_norm1(i, j)] = j\n",
    "    min_key = min(dists.keys())\n",
    "    if dists[min_key] == 0:\n",
    "        C_1.append(i)\n",
    "    else:\n",
    "        C_2.append(i)\n",
    "        \n",
    "clusters = [C_1, C_2]"
   ]
  },
  {
   "cell_type": "code",
   "execution_count": 70,
   "metadata": {},
   "outputs": [
    {
     "data": {
      "text/plain": [
       "[array([ 0, -6]), array([0, 0])]"
      ]
     },
     "execution_count": 70,
     "metadata": {},
     "output_type": "execute_result"
    }
   ],
   "source": [
    "clusters[0]"
   ]
  },
  {
   "cell_type": "code",
   "execution_count": 71,
   "metadata": {},
   "outputs": [
    {
     "data": {
      "text/plain": [
       "[array([4, 4]), array([-5,  2])]"
      ]
     },
     "execution_count": 71,
     "metadata": {},
     "output_type": "execute_result"
    }
   ],
   "source": [
    "clusters[1]"
   ]
  },
  {
   "cell_type": "code",
   "execution_count": 69,
   "metadata": {},
   "outputs": [
    {
     "name": "stdout",
     "output_type": "stream",
     "text": [
      "[ 0 -6]\n",
      "[0 0]\n",
      "[4 4]\n",
      "[-5  2]\n"
     ]
    }
   ],
   "source": [
    "for i in range(len(clusters)):\n",
    "    for j in clusters[i]:\n",
    "        print(j)"
   ]
  },
  {
   "cell_type": "code",
   "execution_count": 73,
   "metadata": {},
   "outputs": [],
   "source": [
    "K = 2\n",
    "C_1 = []\n",
    "C_2 = []\n",
    "\n",
    "for i in dataset:\n",
    "    dists = {}\n",
    "    for j in range(z.size):\n",
    "        dists[dist_norm2(i, j)] = j\n",
    "    min_key = min(dists.keys())\n",
    "    if dists[min_key] == 0:\n",
    "        C_1.append(i)\n",
    "    else:\n",
    "        C_2.append(i)\n",
    "        \n",
    "clusters2 = [C_1, C_2]"
   ]
  },
  {
   "cell_type": "code",
   "execution_count": 74,
   "metadata": {},
   "outputs": [
    {
     "data": {
      "text/plain": [
       "[array([4, 4]), array([-5,  2])]"
      ]
     },
     "execution_count": 74,
     "metadata": {},
     "output_type": "execute_result"
    }
   ],
   "source": [
    "clusters[1]"
   ]
  },
  {
   "cell_type": "code",
   "execution_count": 75,
   "metadata": {},
   "outputs": [
    {
     "data": {
      "text/plain": [
       "[array([ 0, -6]), array([0, 0])]"
      ]
     },
     "execution_count": 75,
     "metadata": {},
     "output_type": "execute_result"
    }
   ],
   "source": [
    "clusters[0]"
   ]
  },
  {
   "cell_type": "markdown",
   "metadata": {},
   "source": [
    "# Clustering 3"
   ]
  }
 ],
 "metadata": {
  "kernelspec": {
   "display_name": "Environment (conda_6.86x)",
   "language": "python",
   "name": "conda_6.86x"
  },
  "language_info": {
   "codemirror_mode": {
    "name": "ipython",
    "version": 3
   },
   "file_extension": ".py",
   "mimetype": "text/x-python",
   "name": "python",
   "nbconvert_exporter": "python",
   "pygments_lexer": "ipython3",
   "version": "3.6.8"
  }
 },
 "nbformat": 4,
 "nbformat_minor": 2
}
