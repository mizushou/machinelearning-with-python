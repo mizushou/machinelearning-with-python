{
 "cells": [
  {
   "cell_type": "markdown",
   "metadata": {},
   "source": [
    "# 1. Introduction\n",
    "\n",
    ">Your task is to build a mixture model for collaborative filtering. You are given a data matrix containing movie ratings made by users where the matrix is extracted from a much larger Netflix database. Any particular user has rated only a small fraction of the movies so the data matrix is only partially filled. The goal is to predict all the remaining entries of the matrix.\n",
    "\n",
    ">You will use mixtures of Gaussians to solve this problem. The model assumes that each user's rating profile is a sample from a mixture model. In other words, we have $K$ possible types of users and, in the context of each user, we must sample a user type and then the rating profile from the Gaussian distribution associated with the type. We will use the Expectation Maximization (EM) algorithm to estimate such a mixture from a partially observed rating matrix. The EM algorithm proceeds by iteratively assigning (softly) users to types (E-step) and subsequently re-estimating the Gaussians associated with each type (M-step). Once we have the mixture, we can use it to predict values for all the missing entries in the data matrix."
   ]
  },
  {
   "cell_type": "markdown",
   "metadata": {},
   "source": [
    "## やること\n",
    "\n",
    "- collaborative filteringを行うためのmixture modelを構築する\n",
    "- data matrixが与えられる。これは、各userのmovie ratingによって構成されたmatrix。このmatrixは巨大なNetflixのdatabaseから抽出されている。\n",
    "- userは映画のごく一部しか評価していないので、そのmatrixは部分的にしか埋まっていない。\n",
    "- goalはmatrixの残りの部分を予測すること\n",
    "- mixture(混ざり具合？)をExpection Maximaization(EM) algorithmを使って見積もる"
   ]
  },
  {
   "cell_type": "markdown",
   "metadata": {},
   "source": [
    "## アプローチ\n",
    "\n",
    "- この問題を解くために、mixtures of Gaussianを使う\n",
    "- このモデルは各ユーザーのrating profileはこのmixture modelの確率分布のサンプルと仮定する\n",
    "- 言い換えると、K possible types of usersを仮定し、各userのcontextからuser typeとそのtypeに関連するGaussian distributionからrating profileを抽出しなければならない"
   ]
  },
  {
   "cell_type": "markdown",
   "metadata": {},
   "source": [
    "## setup\n",
    "\n",
    ">- kmeans where we have implemented a baseline using the K-means algorithm\n",
    ">- naive_em.py where you will implement a first version of the EM algorithm (tabs 3-4)\n",
    ">- em.py where you will build a mixture model for collaborative filtering (tabs 7-8)\n",
    ">- common.py where you will implement the common functions for all models (tab 5)\n",
    ">- main.py where you will write code to answer the questions for this project\n",
    ">- test.py where you will write code to test your implementation of EM for a given test case\n",
    "\n",
    "> Additionnally, you are provided with the following data files:\n",
    "\n",
    ">- toy_data.txt a 2D dataset that you will work with in tabs 2-5\n",
    ">- netflix_incomplete.txt the netflix dataset with missing entries to be completed\n",
    ">- netflix_complete.txt the netflix dataset with missing entries completed\n",
    ">- test_incomplete.txt a test dataset to test for you to test your code against our implementation\n",
    ">- test_complete.txt a test dataset to test for you to test your code against our implementation\n",
    ">- test_solutions.txt a test dataset to test for you to test your code against our implementation"
   ]
  },
  {
   "cell_type": "markdown",
   "metadata": {},
   "source": [
    "## 2. K-means\n",
    "\n",
    "\n"
   ]
  },
  {
   "cell_type": "markdown",
   "metadata": {},
   "source": [
    "- このパートでは、K-meansによるclusterringとEMによるclusteringを比較する\n",
    "    - ここでのK-meansは今まで学習してきたものとは少し異なる\n",
    "- common.py内で`GaussianMixture`クラスが定義されている。直接このクラスを使うことはなさそう\n",
    "- common.py内で定義された関数内で、このクラスをインスタンス化しているみたい\n",
    "- common.init(X, K, seed)でK-meansの初期化を行う。これがランダム初期化になる？\n",
    "    - K: number of clusters\n",
    "    - seed: random seed used to randomly initialize the parameters\n",
    "- K=[1, 2, 3, 4]で計算し、結果をそれぞれ`common.plot`を使ってプロットする\n",
    "- seedsは0, 1, 2, 3, 4を使ってcostが一番小さいものを使う"
   ]
  },
  {
   "cell_type": "code",
   "execution_count": null,
   "metadata": {},
   "outputs": [],
   "source": []
  }
 ],
 "metadata": {
  "kernelspec": {
   "display_name": "Environment (conda_6.86x)",
   "language": "python",
   "name": "conda_6.86x"
  },
  "language_info": {
   "codemirror_mode": {
    "name": "ipython",
    "version": 3
   },
   "file_extension": ".py",
   "mimetype": "text/x-python",
   "name": "python",
   "nbconvert_exporter": "python",
   "pygments_lexer": "ipython3",
   "version": "3.6.8"
  }
 },
 "nbformat": 4,
 "nbformat_minor": 2
}
