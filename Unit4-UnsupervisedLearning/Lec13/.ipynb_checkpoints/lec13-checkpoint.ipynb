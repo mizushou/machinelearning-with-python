{
 "cells": [
  {
   "cell_type": "markdown",
   "metadata": {},
   "source": [
    "# Calculating Costs"
   ]
  },
  {
   "cell_type": "code",
   "execution_count": 4,
   "metadata": {},
   "outputs": [],
   "source": [
    "import numpy as np"
   ]
  },
  {
   "cell_type": "code",
   "execution_count": 5,
   "metadata": {},
   "outputs": [],
   "source": [
    "\"\"\"\n",
    "1,2,3 are inclueded in C1\n",
    "\"\"\"\n",
    "\n",
    "x_1 = np.array([-1,2])\n",
    "x_2 = np.array([-2,1])\n",
    "x_3 = np.array([-1,0])\n",
    "# representative is z1\n",
    "z_1 = np.array([-1,1])\n",
    "\n",
    "\n",
    "\"\"\"\n",
    "4,5 are inclueded in C2\n",
    "\"\"\"\n",
    "\n",
    "x_4 = np.array([2,1])\n",
    "x_5 = np.array([3,2])\n",
    "# representative is z2\n",
    "z_2 = np.array([2,2])\n"
   ]
  },
  {
   "cell_type": "markdown",
   "metadata": {},
   "source": [
    "$\\,   \\text {Cost}(C_1) =  \\,$\n",
    "$\\sum _{i \\in C_ 1} \\| x_ i - z_ 1\\| ^2$\n",
    "\n",
    "C1に含まれるのは、j=1,2,3"
   ]
  },
  {
   "cell_type": "code",
   "execution_count": 14,
   "metadata": {},
   "outputs": [
    {
     "data": {
      "text/plain": [
       "3.0"
      ]
     },
     "execution_count": 14,
     "metadata": {},
     "output_type": "execute_result"
    }
   ],
   "source": [
    "cost_c_1 = np.linalg.norm(x_1 - z_1)**2 + np.linalg.norm(x_2 - z_1)**2 + np.linalg.norm(x_3 - z_1)**2\n",
    "cost_c_1"
   ]
  },
  {
   "cell_type": "markdown",
   "metadata": {},
   "source": [
    "$\\,   \\text {Cost}(C_2) =  \\,$\n",
    "$\\sum _{i \\in C_ 2} \\| x_ i - z_ 2\\| ^2$\n",
    "\n",
    "C2に含まれるのは、j=4,5"
   ]
  },
  {
   "cell_type": "code",
   "execution_count": 16,
   "metadata": {},
   "outputs": [
    {
     "data": {
      "text/plain": [
       "2.0"
      ]
     },
     "execution_count": 16,
     "metadata": {},
     "output_type": "execute_result"
    }
   ],
   "source": [
    "cost_c_2 = np.linalg.norm(x_4 - z_2)**2 + np.linalg.norm(x_5 - z_2)**2\n",
    "cost_c_2"
   ]
  },
  {
   "cell_type": "markdown",
   "metadata": {},
   "source": [
    "$\\text {Cost}(C_1, ..., C_ K) = \\sum _{j=1}^{K} \\text {Cost}(C_ j) = \\sum _{j=1}^{K} \\sum _{i \\in C_ j} \\| x_ i - z_ j\\| ^2$ より、\n",
    "\n",
    "$\\text {Cost}(C_1, C_ 2) = \\text {Cost}(C_ 1) + \\text {Cost}(C_ 2)$"
   ]
  },
  {
   "cell_type": "code",
   "execution_count": 18,
   "metadata": {},
   "outputs": [
    {
     "data": {
      "text/plain": [
       "5.0"
      ]
     },
     "execution_count": 18,
     "metadata": {},
     "output_type": "execute_result"
    }
   ],
   "source": [
    "cost = cost_c_1 + cost_c_2\n",
    "cost"
   ]
  }
 ],
 "metadata": {
  "kernelspec": {
   "display_name": "Environment (conda_6.86x)",
   "language": "python",
   "name": "conda_6.86x"
  },
  "language_info": {
   "codemirror_mode": {
    "name": "ipython",
    "version": 3
   },
   "file_extension": ".py",
   "mimetype": "text/x-python",
   "name": "python",
   "nbconvert_exporter": "python",
   "pygments_lexer": "ipython3",
   "version": "3.6.8"
  }
 },
 "nbformat": 4,
 "nbformat_minor": 2
}
