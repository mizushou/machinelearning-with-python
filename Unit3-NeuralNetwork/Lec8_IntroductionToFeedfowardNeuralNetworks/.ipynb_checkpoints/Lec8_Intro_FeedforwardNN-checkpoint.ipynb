{
 "cells": [
  {
   "cell_type": "markdown",
   "metadata": {},
   "source": [
    "# 4. Neural Network Units"
   ]
  },
  {
   "cell_type": "code",
   "execution_count": 2,
   "metadata": {},
   "outputs": [],
   "source": [
    "import numpy as np"
   ]
  },
  {
   "cell_type": "code",
   "execution_count": 4,
   "metadata": {},
   "outputs": [
    {
     "data": {
      "text/plain": [
       "array([[1],\n",
       "       [0]])"
      ]
     },
     "execution_count": 4,
     "metadata": {},
     "output_type": "execute_result"
    }
   ],
   "source": [
    "x = np.array([[1],[0]])\n",
    "x"
   ]
  },
  {
   "cell_type": "code",
   "execution_count": 7,
   "metadata": {},
   "outputs": [
    {
     "data": {
      "text/plain": [
       "array([[ 1],\n",
       "       [-1]])"
      ]
     },
     "execution_count": 7,
     "metadata": {},
     "output_type": "execute_result"
    }
   ],
   "source": [
    "w = np.array([[1],[-1]])\n",
    "w"
   ]
  },
  {
   "cell_type": "code",
   "execution_count": 14,
   "metadata": {},
   "outputs": [
    {
     "data": {
      "text/plain": [
       "-3"
      ]
     },
     "execution_count": 14,
     "metadata": {},
     "output_type": "execute_result"
    }
   ],
   "source": [
    "w_0 = -3\n",
    "w_0"
   ]
  },
  {
   "cell_type": "code",
   "execution_count": 15,
   "metadata": {},
   "outputs": [
    {
     "data": {
      "text/plain": [
       "array([[-2]])"
      ]
     },
     "execution_count": 15,
     "metadata": {},
     "output_type": "execute_result"
    }
   ],
   "source": [
    "z = w_0 + np.dot(x.transpose(),w)\n",
    "z"
   ]
  },
  {
   "cell_type": "code",
   "execution_count": 18,
   "metadata": {},
   "outputs": [
    {
     "data": {
      "text/plain": [
       "0"
      ]
     },
     "execution_count": 18,
     "metadata": {},
     "output_type": "execute_result"
    }
   ],
   "source": [
    "y_hat = max(0,z)\n",
    "y_hat"
   ]
  },
  {
   "cell_type": "markdown",
   "metadata": {},
   "source": [
    "# 6. Hidden Layer Models"
   ]
  },
  {
   "cell_type": "markdown",
   "metadata": {},
   "source": [
    ">For the following set of problems, let's consider a simple 2-dimensional classification task. The training set is made up of  4  points listed below:\n",
    "\n",
    "> $\\displaystyle  x^{(1)} = (-1, -1)$ , $\\displaystyle  \\quad y^{(1)} = 1$ \n",
    "\n",
    "> $\\displaystyle x^{(2)} = (1, -1)$ , $\\displaystyle  \\quad y^{(2)} = -1$ \n",
    "\n",
    "> $\\displaystyle x^{(3)} = (-1, 1)$ , $\\displaystyle  \\quad y^{(3)} = -1$ \n",
    "\n",
    "> $\\displaystyle x^{(4)} = (1, 1)$ , $\\displaystyle  \\quad y^{(4)} = 1$ \n",
    "\n",
    "> The dataset is illustrated below (blue - positive, red - negative)\n",
    "> For simplicity, assume that we are only interested in binary classification problems for now. That is,  𝑦(𝑖)  can be either  1  or  −1 ."
   ]
  },
  {
   "cell_type": "code",
   "execution_count": 21,
   "metadata": {},
   "outputs": [],
   "source": [
    "import matplotlib.pyplot as plt"
   ]
  },
  {
   "cell_type": "code",
   "execution_count": 22,
   "metadata": {},
   "outputs": [],
   "source": [
    "x_1, x_2, x_3, x_4 = np.array([-1,-1]), np.array([1,-1]), np.array([-1,1]), np.array([1,1])\n",
    "y_1, y_2, y_3, y_4 = 1, -1, -1, 1"
   ]
  },
  {
   "cell_type": "code",
   "execution_count": 222,
   "metadata": {},
   "outputs": [
    {
     "data": {
      "text/plain": [
       "<Figure size 432x288 with 0 Axes>"
      ]
     },
     "metadata": {},
     "output_type": "display_data"
    },
    {
     "data": {
      "image/png": "[encoded data removed]",
      "text/plain": [
       "<Figure size 720x720 with 1 Axes>"
      ]
     },
     "metadata": {
      "needs_background": "light"
     },
     "output_type": "display_data"
    }
   ],
   "source": [
    "fig = plt.figure()\n",
    "\n",
    "fig, ax = plt.subplots(figsize=(10, 10))\n",
    "ax.scatter(x_1[0], x_1[1], s=150, c='blue', marker='+')\n",
    "ax.scatter(x_2[0], x_2[1], s=150, c='red', marker='_')\n",
    "ax.scatter(x_3[0], x_3[1], s=150, c='red', marker='_')\n",
    "ax.scatter(x_4[0], x_4[1], s=150, c='blue', marker='+')\n",
    "\n",
    "ax.set_title('training set')\n",
    "ax.set_xlabel('x[0]')\n",
    "ax.set_ylabel('x[1]')\n",
    "\n",
    "plt.show()"
   ]
  },
  {
   "cell_type": "markdown",
   "metadata": {},
   "source": [
    "## Linear Separability After First Layer\n",
    "\n",
    ">For this problem, let us focus on a network with one hidden layer and two units in that layer:\n",
    "\n",
    "![Linear Separability After First Layer](./image/image1.png)\n",
    "\n",
    ">Let $f^{(i)}_1, f^{(i)}_2$, denote the output of the two units in the hidden layer corresponding to the input $x^{(i)}$ respectively, i.e.\n",
    "\n",
    "> $\\displaystyle  \\displaystyle f^{(i)}_1$ $\\displaystyle =$ $\\displaystyle  f(w_{01} + (w_{11}x^{(i)}_{1} + w_{21} x^{(i)}_{2}))$\n",
    "\n",
    "> $\\displaystyle f^{(i)}_2$ $\\displaystyle =$ $\\displaystyle  f(w_{02} + (w_{12}x^{(i)}_{1} + w_{22} x^{(i)}_{2}))$\n",
    "\n",
    "> Consider the set $\\displaystyle D' = \\left\\{  \\left(\\left[f^{(i)}_1, f^{(i)}_2\\right], y^{(i)}\\right), \\quad i=1,2,3,4 \\right\\}$"
   ]
  },
  {
   "cell_type": "code",
   "execution_count": 205,
   "metadata": {},
   "outputs": [],
   "source": [
    "def f(x_i, y_i, W, W_0):\n",
    "    z_1 = W_0[0] + np.dot(x_i.transpose(), W[0])\n",
    "    z_2 = W_0[1] + np.dot(x_i.transpose(), W[1])\n",
    "\n",
    "    f_1_i = 2*z_1-3\n",
    "    f_2_i = 2*z_2-3\n",
    "    \n",
    "    return (f_1_i, f_2_i, y_i)"
   ]
  },
  {
   "cell_type": "code",
   "execution_count": 206,
   "metadata": {},
   "outputs": [
    {
     "data": {
      "text/plain": [
       "[(-3, -3, 1), (-3, -3, -1), (-3, -3, -1), (-3, -3, 1)]"
      ]
     },
     "execution_count": 206,
     "metadata": {},
     "output_type": "execute_result"
    }
   ],
   "source": [
    "# 1.\n",
    "W_1 = np.array([[0, 0],[0, 0]])\n",
    "W_1_0 = np.array([0, 0])\n",
    "\n",
    "D_1 = [\n",
    "    f(x_1, y_1, W_1, W_1_0),\n",
    "    f(x_2, y_2, W_1, W_1_0),\n",
    "    f(x_3, y_3, W_1, W_1_0),\n",
    "    f(x_4, y_4, W_1, W_1_0),\n",
    "]\n",
    "\n",
    "D_1"
   ]
  },
  {
   "cell_type": "code",
   "execution_count": 207,
   "metadata": {},
   "outputs": [
    {
     "data": {
      "text/plain": [
       "[(-9, 7, 1), (-1, -1, -1), (-1, -1, -1), (7, -9, 1)]"
      ]
     },
     "execution_count": 207,
     "metadata": {},
     "output_type": "execute_result"
    }
   ],
   "source": [
    "#2.\n",
    "\n",
    "W_2 = np.array([[2, 2],[-2, -2]])\n",
    "W_2_0 = np.array([1, 1])\n",
    "\n",
    "D_2 = [\n",
    "    f(x_1, y_1, W_2, W_2_0),\n",
    "    f(x_2, y_2, W_2, W_2_0),\n",
    "    f(x_3, y_3, W_2, W_2_0),\n",
    "    f(x_4, y_4, W_2, W_2_0),\n",
    "]\n",
    "\n",
    "D_2"
   ]
  },
  {
   "cell_type": "code",
   "execution_count": 208,
   "metadata": {},
   "outputs": [
    {
     "data": {
      "text/plain": [
       "[(-9, 7, 1), (-1, -1, -1), (-1, -1, -1), (7, -9, 1)]"
      ]
     },
     "execution_count": 208,
     "metadata": {},
     "output_type": "execute_result"
    }
   ],
   "source": [
    "#3.\n",
    "\n",
    "W_3 = np.array([[-2, -2],[2, 2]])\n",
    "W_3_0 = np.array([1, 1])\n",
    "\n",
    "D_3 = [\n",
    "    f(x_1, y_1, W_2, W_2_0),\n",
    "    f(x_2, y_2, W_2, W_2_0),\n",
    "    f(x_3, y_3, W_2, W_2_0),\n",
    "    f(x_4, y_4, W_2, W_2_0),\n",
    "]\n",
    "\n",
    "D_3"
   ]
  },
  {
   "cell_type": "code",
   "execution_count": 223,
   "metadata": {},
   "outputs": [
    {
     "data": {
      "text/plain": [
       "<Figure size 432x288 with 0 Axes>"
      ]
     },
     "metadata": {},
     "output_type": "display_data"
    },
    {
     "data": {
      "image/png": "[encoded data removed]",
      "text/plain": [
       "<Figure size 1080x1080 with 4 Axes>"
      ]
     },
     "metadata": {
      "needs_background": "light"
     },
     "output_type": "display_data"
    }
   ],
   "source": [
    "fig2 = plt.figure()\n",
    "\n",
    "fig2, ax2 = plt.subplots(2, 2, figsize=(15, 15))\n",
    "\n",
    "# 1.\n",
    "ax2[0][0].scatter(D_1[0][0], D_1[0][1], s=150, c='blue', marker='+')\n",
    "ax2[0][0].scatter(D_1[1][0], D_1[1][1], s=150, c='red', marker='_')\n",
    "ax2[0][0].scatter(D_1[2][0], D_1[2][1], s=150, c='red', marker='_')\n",
    "ax2[0][0].scatter(D_1[3][0], D_1[3][1], s=150, c='blue', marker='+')\n",
    "\n",
    "ax2[0][0].set_title('Linear activation')\n",
    "ax2[0][0].set_xlabel('f_1')\n",
    "ax2[0][0].set_ylabel('f_2')\n",
    "\n",
    "# 2.\n",
    "ax2[0][1].scatter(D_2[0][0], D_2[0][1], s=150, c='blue', marker='+')\n",
    "ax2[0][1].scatter(D_2[1][0], D_2[1][1], s=150, c='red', marker='_')\n",
    "ax2[0][1].scatter(D_2[2][0], D_2[2][1], s=150, c='red', marker='_')\n",
    "ax2[0][1].scatter(D_2[3][0], D_2[3][1], s=150, c='blue', marker='+')\n",
    "\n",
    "ax2[0][1].set_title('Linear activation')\n",
    "ax2[0][1].set_xlabel('f_1')\n",
    "ax2[0][1].set_ylabel('f_2')\n",
    "\n",
    "# 3.\n",
    "ax2[1][0].scatter(D_3[0][0], D_3[0][1], s=150, c='blue', marker='+')\n",
    "ax2[1][0].scatter(D_3[1][0], D_3[1][1], s=150, c='red', marker='_')\n",
    "ax2[1][0].scatter(D_3[2][0], D_3[2][1], s=150, c='red', marker='_')\n",
    "ax2[1][0].scatter(D_3[3][0], D_3[3][1], s=150, c='blue', marker='+')\n",
    "\n",
    "ax2[1][0].set_title('Linear activation')\n",
    "ax2[1][0].set_xlabel('f_1')\n",
    "ax2[1][0].set_ylabel('f_2')\n",
    "\n",
    "plt.show()"
   ]
  },
  {
   "cell_type": "markdown",
   "metadata": {},
   "source": [
    "- 上図からわかるとおり、 hidden layerを通しても not separable"
   ]
  },
  {
   "cell_type": "markdown",
   "metadata": {},
   "source": [
    "## Non-linear Activation Functions\n",
    "\n",
    "> Again, let's focus on a network with one hidden layer with two units and use the same training set as above. The weights of the network are given as follows:\n",
    "\n",
    "> $\\displaystyle  \\displaystyle w_{11} = 1, w_{21} = -1, w_{01} = 1$\n",
    "\n",
    "> $\\displaystyle w_{12} = -1, w_{22} = 1, w_{02} = 1$\n",
    "\n",
    "> Consider the set $D' = \\{  ([f^{(i)}_1, f^{(i)}_2], y^{(i)}), \\quad i=1,2,3,4 \\}$\n",
    "\n",
    "> For which of the following functions $f$, would the set $D'$ be linearly separable? (Select one or more that apply.)"
   ]
  },
  {
   "cell_type": "code",
   "execution_count": 195,
   "metadata": {},
   "outputs": [],
   "source": [
    "def f_linear(x_i, y_i, W, W_0):\n",
    "    z_1 = W_0[0] + np.dot(x_i.transpose(), W[0])\n",
    "    z_2 = W_0[1] + np.dot(x_i.transpose(), W[1])\n",
    "\n",
    "    f_1_i = 5*z_1-2\n",
    "    f_2_i = 5*z_2-2\n",
    "    \n",
    "    return (f_1_i, f_2_i, y_i)"
   ]
  },
  {
   "cell_type": "code",
   "execution_count": 196,
   "metadata": {},
   "outputs": [],
   "source": [
    "def relu(x):\n",
    "    return np.maximum(0, x)\n",
    "\n",
    "def f_relu(x_i, y_i, W, W_0):\n",
    "    z_1 = W_0[0] + np.dot(x_i.transpose(), W[0])\n",
    "    z_2 = W_0[1] + np.dot(x_i.transpose(), W[1])\n",
    "\n",
    "    f_1_i = relu(z_1)\n",
    "    f_2_i = relu(z_2)\n",
    "    \n",
    "    return (f_1_i, f_2_i, y_i)"
   ]
  },
  {
   "cell_type": "code",
   "execution_count": 197,
   "metadata": {},
   "outputs": [],
   "source": [
    "def f_tanh(x_i, y_i, W, W_0):\n",
    "    z_1 = W_0[0] + np.dot(x_i.transpose(), W[0])\n",
    "    z_2 = W_0[1] + np.dot(x_i.transpose(), W[1])\n",
    "\n",
    "    f_1_i = np.tanh(z_1)\n",
    "    f_2_i = np.tanh(z_2)\n",
    "    \n",
    "    return (f_1_i, f_2_i, y_i)"
   ]
  },
  {
   "cell_type": "code",
   "execution_count": 211,
   "metadata": {},
   "outputs": [],
   "source": [
    "def f_linear2(x_i, y_i, W, W_0):\n",
    "    z_1 = W_0[0] + np.dot(x_i.transpose(), W[0])\n",
    "    z_2 = W_0[1] + np.dot(x_i.transpose(), W[1])\n",
    "\n",
    "    f_1_i = z_1\n",
    "    f_2_i = z_2\n",
    "    \n",
    "    return (f_1_i, f_2_i, y_i)"
   ]
  },
  {
   "cell_type": "code",
   "execution_count": 198,
   "metadata": {},
   "outputs": [],
   "source": [
    "#4.\n",
    "\n",
    "W_4 = np.array([[1, -1],[-1, 1]])\n",
    "W_4_0 = np.array([1, 1])"
   ]
  },
  {
   "cell_type": "code",
   "execution_count": 199,
   "metadata": {},
   "outputs": [
    {
     "data": {
      "text/plain": [
       "[(-17, 23, 1), (3, 3, -1), (3, 3, -1), (23, -17, 1)]"
      ]
     },
     "execution_count": 199,
     "metadata": {},
     "output_type": "execute_result"
    }
   ],
   "source": [
    "# linear activation\n",
    "D_4_linear = [\n",
    "    f_linear(x_1, y_1, W_2, W_2_0),\n",
    "    f_linear(x_2, y_2, W_2, W_2_0),\n",
    "    f_linear(x_3, y_3, W_2, W_2_0),\n",
    "    f_linear(x_4, y_4, W_2, W_2_0),\n",
    "]\n",
    "\n",
    "D_4_linear"
   ]
  },
  {
   "cell_type": "code",
   "execution_count": 200,
   "metadata": {},
   "outputs": [
    {
     "data": {
      "text/plain": [
       "[(0, 5, 1), (1, 1, -1), (1, 1, -1), (5, 0, 1)]"
      ]
     },
     "execution_count": 200,
     "metadata": {},
     "output_type": "execute_result"
    }
   ],
   "source": [
    "# ReLU activation\n",
    "D_4_relu = [\n",
    "    f_relu(x_1, y_1, W_2, W_2_0),\n",
    "    f_relu(x_2, y_2, W_2, W_2_0),\n",
    "    f_relu(x_3, y_3, W_2, W_2_0),\n",
    "    f_relu(x_4, y_4, W_2, W_2_0),\n",
    "]\n",
    "\n",
    "D_4_relu"
   ]
  },
  {
   "cell_type": "code",
   "execution_count": 201,
   "metadata": {},
   "outputs": [
    {
     "data": {
      "text/plain": [
       "[(-0.9950547536867305, 0.9999092042625951, 1),\n",
       " (0.7615941559557649, 0.7615941559557649, -1),\n",
       " (0.7615941559557649, 0.7615941559557649, -1),\n",
       " (0.9999092042625951, -0.9950547536867305, 1)]"
      ]
     },
     "execution_count": 201,
     "metadata": {},
     "output_type": "execute_result"
    }
   ],
   "source": [
    "# tanh activation\n",
    "D_4_tanh = [\n",
    "    f_tanh(x_1, y_1, W_2, W_2_0),\n",
    "    f_tanh(x_2, y_2, W_2, W_2_0),\n",
    "    f_tanh(x_3, y_3, W_2, W_2_0),\n",
    "    f_tanh(x_4, y_4, W_2, W_2_0),\n",
    "]\n",
    "\n",
    "D_4_tanh"
   ]
  },
  {
   "cell_type": "code",
   "execution_count": 213,
   "metadata": {},
   "outputs": [
    {
     "data": {
      "text/plain": [
       "[(-3, 5, 1), (1, 1, -1), (1, 1, -1), (5, -3, 1)]"
      ]
     },
     "execution_count": 213,
     "metadata": {},
     "output_type": "execute_result"
    }
   ],
   "source": [
    "# linear activation2\n",
    "D_4_linear2 = [\n",
    "    f_linear2(x_1, y_1, W_2, W_2_0),\n",
    "    f_linear2(x_2, y_2, W_2, W_2_0),\n",
    "    f_linear2(x_3, y_3, W_2, W_2_0),\n",
    "    f_linear2(x_4, y_4, W_2, W_2_0),\n",
    "]\n",
    "\n",
    "D_4_linear2"
   ]
  },
  {
   "cell_type": "code",
   "execution_count": 226,
   "metadata": {},
   "outputs": [
    {
     "data": {
      "text/plain": [
       "<Figure size 432x288 with 0 Axes>"
      ]
     },
     "metadata": {},
     "output_type": "display_data"
    },
    {
     "data": {
      "image/png": "[encoded data removed]",
      "text/plain": [
       "<Figure size 1080x1080 with 4 Axes>"
      ]
     },
     "metadata": {
      "needs_background": "light"
     },
     "output_type": "display_data"
    }
   ],
   "source": [
    "fig3 = plt.figure()\n",
    "\n",
    "fig3, ax3 = plt.subplots(2, 2, figsize=(15, 15))\n",
    "\n",
    "# 1.\n",
    "ax3[0][0].scatter(D_4_linear[0][0], D_4_linear[0][1], s=150, c='blue', marker='+')\n",
    "ax3[0][0].scatter(D_4_linear[1][0], D_4_linear[1][1], s=150, c='red', marker='_')\n",
    "ax3[0][0].scatter(D_4_linear[2][0], D_4_linear[2][1], s=150, c='red', marker='_')\n",
    "ax3[0][0].scatter(D_4_linear[3][0], D_4_linear[3][1], s=150, c='blue', marker='+')\n",
    "\n",
    "ax3[0][0].set_title('Linear activation')\n",
    "ax3[0][0].set_xlabel('f_1')\n",
    "ax3[0][0].set_ylabel('f_2')\n",
    "\n",
    "# 2.\n",
    "ax3[0][1].scatter(D_4_relu[0][0], D_4_relu[0][1], s=150, c='blue', marker='+')\n",
    "ax3[0][1].scatter(D_4_relu[1][0], D_4_relu[1][1], s=150, c='red', marker='_')\n",
    "ax3[0][1].scatter(D_4_relu[2][0], D_4_relu[2][1], s=150, c='red', marker='_')\n",
    "ax3[0][1].scatter(D_4_relu[3][0], D_4_relu[3][1], s=150, c='blue', marker='+')\n",
    "\n",
    "ax3[0][1].set_title('ReLU activation')\n",
    "ax3[0][1].set_xlabel('f_1')\n",
    "ax3[0][1].set_ylabel('f_2')\n",
    "\n",
    "# 3.\n",
    "ax3[1][0].scatter(D_4_tanh[0][0], D_4_tanh[0][1], s=150, c='blue', marker='+')\n",
    "ax3[1][0].scatter(D_4_tanh[1][0], D_4_tanh[1][1], s=150, c='red', marker='_')\n",
    "ax3[1][0].scatter(D_4_tanh[2][0], D_4_tanh[2][1], s=150, c='red', marker='_')\n",
    "ax3[1][0].scatter(D_4_tanh[3][0], D_4_tanh[3][1], s=150, c='blue', marker='+')\n",
    "\n",
    "ax3[1][0].set_title('tanh activation')\n",
    "ax3[1][0].set_xlabel('f_1')\n",
    "ax3[1][0].set_ylabel('f_2')\n",
    "\n",
    "# 3.\n",
    "ax3[1][1].scatter(D_4_linear2[0][0], D_4_linear2[0][1], s=150, c='blue', marker='+')\n",
    "ax3[1][1].scatter(D_4_linear2[1][0], D_4_linear2[1][1], s=150, c='red', marker='_')\n",
    "ax3[1][1].scatter(D_4_linear2[2][0], D_4_linear2[2][1], s=150, c='red', marker='_')\n",
    "ax3[1][1].scatter(D_4_linear2[3][0], D_4_linear2[3][1], s=150, c='blue', marker='+')\n",
    "\n",
    "ax3[1][1].set_title('Linear activation')\n",
    "ax3[1][1].set_xlabel('f_1')\n",
    "ax3[1][1].set_ylabel('f_2')\n",
    "\n",
    "plt.show()"
   ]
  },
  {
   "cell_type": "markdown",
   "metadata": {},
   "source": [
    "- 上記のグラフより、ReLU, tanhがactivation functionの時linealy separabel"
   ]
  }
 ],
 "metadata": {
  "kernelspec": {
   "display_name": "Environment (conda_6.86x)",
   "language": "python",
   "name": "conda_6.86x"
  },
  "language_info": {
   "codemirror_mode": {
    "name": "ipython",
    "version": 3
   },
   "file_extension": ".py",
   "mimetype": "text/x-python",
   "name": "python",
   "nbconvert_exporter": "python",
   "pygments_lexer": "ipython3",
   "version": "3.6.8"
  }
 },
 "nbformat": 4,
 "nbformat_minor": 2
}
