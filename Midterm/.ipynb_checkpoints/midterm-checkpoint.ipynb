{
 "cells": [
  {
   "cell_type": "markdown",
   "metadata": {},
   "source": [
    "# Problem 1"
   ]
  },
  {
   "cell_type": "code",
   "execution_count": 272,
   "metadata": {},
   "outputs": [],
   "source": [
    "import numpy as np\n",
    "import random"
   ]
  },
  {
   "cell_type": "code",
   "execution_count": 21,
   "metadata": {},
   "outputs": [],
   "source": [
    "def get_order(n_samples):\n",
    "    try:\n",
    "        with open(str(n_samples) + '.txt') as fp:\n",
    "            line = fp.readline()\n",
    "            return list(map(int, line.split(',')))\n",
    "    except FileNotFoundError:\n",
    "        random.seed(1)\n",
    "        indices = list(range(n_samples))\n",
    "        random.shuffle(indices)\n",
    "        return indices"
   ]
  },
  {
   "cell_type": "code",
   "execution_count": 2,
   "metadata": {},
   "outputs": [],
   "source": [
    "def perceptron_single_step_update(\n",
    "        feature_vector,\n",
    "        label,\n",
    "        current_theta,\n",
    "        current_theta_0):\n",
    "    \"\"\"\n",
    "    Properly updates the classification parameter, theta and theta_0, on a\n",
    "    single step of the perceptron algorithm.\n",
    "\n",
    "    Args:\n",
    "        feature_vector - A numpy array describing a single data point.\n",
    "        label - The correct classification of the feature vector.\n",
    "        current_theta - The current theta being used by the perceptron\n",
    "            algorithm before this update.\n",
    "        current_theta_0 - The current theta_0 being used by the perceptron\n",
    "            algorithm before this update.\n",
    "\n",
    "    Returns: A tuple where the first element is a numpy array with the value of\n",
    "    theta after the current update has completed and the second element is a\n",
    "    real valued number with the value of theta_0 after the current updated has\n",
    "    completed.\n",
    "    \"\"\"\n",
    "    if (label * (np.dot(current_theta, feature_vector) + current_theta_0)) <= 0:\n",
    "        current_theta = current_theta + label * feature_vector\n",
    "        current_theta_0 = current_theta_0 + label\n",
    "    return (current_theta, current_theta_0)"
   ]
  },
  {
   "cell_type": "code",
   "execution_count": 3,
   "metadata": {},
   "outputs": [],
   "source": [
    "def perceptron(feature_matrix, labels, T):\n",
    "    \"\"\"\n",
    "    Runs the full perceptron algorithm on a given set of data. Runs T\n",
    "    iterations through the data set, there is no need to worry about\n",
    "    stopping early.\n",
    "\n",
    "    NOTE: Please use the previously implemented functions when applicable.\n",
    "    Do not copy paste code from previous parts.\n",
    "\n",
    "    NOTE: Iterate the data matrix by the orders returned by get_order(feature_matrix.shape[0])\n",
    "\n",
    "    Args:\n",
    "        feature_matrix -  A numpy matrix describing the given data. Each row\n",
    "            represents a single data point.\n",
    "        labels - A numpy array where the kth element of the array is the\n",
    "            correct classification of the kth row of the feature matrix.\n",
    "        T - An integer indicating how many times the perceptron algorithm\n",
    "            should iterate through the feature matrix.\n",
    "\n",
    "    Returns: A tuple where the first element is a numpy array with the value of\n",
    "    theta, the linear classification parameter, after T iterations through the\n",
    "    feature matrix and the second element is a real number with the value of\n",
    "    theta_0, the offset classification parameter, after T iterations through\n",
    "    the feature matrix.\n",
    "    \"\"\"\n",
    "    # Your code here\n",
    "    dimFv = feature_matrix.shape[1]\n",
    "    theta = np.zeros(dimFv)\n",
    "    theta_0 = 0\n",
    "    parameters = (theta, theta_0)\n",
    "    \n",
    "    for t in range(T):\n",
    "        for i in get_order(feature_matrix.shape[0]):\n",
    "            parameters = perceptron_single_step_update(\n",
    "                feature_matrix[i],\n",
    "                labels[i],\n",
    "                parameters[0],\n",
    "                parameters[1]\n",
    "            )\n",
    "    return parameters"
   ]
  },
  {
   "cell_type": "code",
   "execution_count": 18,
   "metadata": {},
   "outputs": [
    {
     "data": {
      "text/plain": [
       "array([[0, 0],\n",
       "       [2, 0],\n",
       "       [3, 0],\n",
       "       [0, 2],\n",
       "       [2, 2],\n",
       "       [5, 1],\n",
       "       [5, 2],\n",
       "       [2, 4],\n",
       "       [4, 4],\n",
       "       [5, 5]])"
      ]
     },
     "execution_count": 18,
     "metadata": {},
     "output_type": "execute_result"
    }
   ],
   "source": [
    "feature_matrix = np.array([[0,0],[2,0],[3,0],[0,2],[2,2],[5,1],[5,2],[2,4],[4,4],[5,5]])\n",
    "feature_matrix"
   ]
  },
  {
   "cell_type": "code",
   "execution_count": 19,
   "metadata": {},
   "outputs": [
    {
     "data": {
      "text/plain": [
       "array([[-1],\n",
       "       [-1],\n",
       "       [-1],\n",
       "       [-1],\n",
       "       [-1],\n",
       "       [ 1],\n",
       "       [ 1],\n",
       "       [ 1],\n",
       "       [ 1],\n",
       "       [ 1]])"
      ]
     },
     "execution_count": 19,
     "metadata": {},
     "output_type": "execute_result"
    }
   ],
   "source": [
    "labels = np.array([[-1],[-1],[-1],[-1],[-1],[1],[1],[1],[1],[1]])\n",
    "labels"
   ]
  },
  {
   "cell_type": "code",
   "execution_count": 42,
   "metadata": {},
   "outputs": [
    {
     "data": {
      "text/plain": [
       "(10, 1)"
      ]
     },
     "execution_count": 42,
     "metadata": {},
     "output_type": "execute_result"
    }
   ],
   "source": [
    "labels.shape"
   ]
  },
  {
   "cell_type": "code",
   "execution_count": 29,
   "metadata": {},
   "outputs": [
    {
     "data": {
      "text/plain": [
       "(array([3., 2.]), array([-11]))"
      ]
     },
     "execution_count": 29,
     "metadata": {},
     "output_type": "execute_result"
    }
   ],
   "source": [
    "perceptron(feature_matrix, labels, 12)"
   ]
  },
  {
   "cell_type": "code",
   "execution_count": 119,
   "metadata": {},
   "outputs": [],
   "source": [
    "train_x = np.array([[0,0],[2,0],[3,0],[0,2],[2,2],[5,1],[5,2],[2,4],[4,4],[5,5]])"
   ]
  },
  {
   "cell_type": "code",
   "execution_count": 54,
   "metadata": {},
   "outputs": [
    {
     "data": {
      "text/plain": [
       "array([-1, -1, -1, -1, -1,  1,  1,  1,  1,  1])"
      ]
     },
     "execution_count": 54,
     "metadata": {},
     "output_type": "execute_result"
    }
   ],
   "source": [
    "train_y = np.array([-1,-1,-1,-1,-1,1,1,1,1,1])\n",
    "train_y"
   ]
  },
  {
   "cell_type": "code",
   "execution_count": 55,
   "metadata": {},
   "outputs": [
    {
     "data": {
      "text/plain": [
       "(10,)"
      ]
     },
     "execution_count": 55,
     "metadata": {},
     "output_type": "execute_result"
    }
   ],
   "source": [
    "train_y.shape"
   ]
  },
  {
   "cell_type": "code",
   "execution_count": 56,
   "metadata": {},
   "outputs": [],
   "source": [
    "from sklearn.svm import LinearSVC"
   ]
  },
  {
   "cell_type": "code",
   "execution_count": 233,
   "metadata": {},
   "outputs": [],
   "source": [
    "def one_vs_rest_svm(train_x, train_y):\n",
    "    \"\"\"\n",
    "    Trains a linear SVM for binary classifciation\n",
    "\n",
    "    Args:\n",
    "        train_x - (n, d) NumPy array (n datapoints each with d features)\n",
    "        train_y - (n, ) NumPy array containing the labels (0 or 1) for each training data point\n",
    "        test_x - (m, d) NumPy array (m datapoints each with d features)\n",
    "    Returns:\n",
    "        pred_test_y - (m,) NumPy array containing the labels (0 or 1) for each test data point\n",
    "    \"\"\"\n",
    "    clf = LinearSVC(random_state = 0, loss='hinge', C = 15.99)\n",
    "    clf.fit(train_x, train_y)\n",
    "    return clf\n",
    " "
   ]
  },
  {
   "cell_type": "code",
   "execution_count": 260,
   "metadata": {},
   "outputs": [
    {
     "name": "stdout",
     "output_type": "stream",
     "text": [
      "a =  0.9994729485743519\n",
      "b =  0.9994769420278721\n",
      "c =  [-4.99684168]\n"
     ]
    }
   ],
   "source": [
    "clf = one_vs_rest_svm(train_x, train_y)\n",
    "\n",
    "a, b = clf.coef_[0][0], clf.coef_[0][1]\n",
    "c = clf .intercept_\n",
    "\n",
    "print('a = ', a)\n",
    "print('b = ', b)\n",
    "print('c = ', c)"
   ]
  },
  {
   "cell_type": "code",
   "execution_count": 261,
   "metadata": {},
   "outputs": [
    {
     "name": "stdout",
     "output_type": "stream",
     "text": [
      "theta =  [0.99947295 0.99947694]\n",
      "theta_0 =  [-4.99684168]\n"
     ]
    }
   ],
   "source": [
    "theta = np.array([a, b])\n",
    "theta_0 = c\n",
    "print('theta = ', theta)\n",
    "print('theta_0 = ', theta_0)"
   ]
  },
  {
   "cell_type": "code",
   "execution_count": 262,
   "metadata": {},
   "outputs": [],
   "source": [
    "import matplotlib.pyplot as plt"
   ]
  },
  {
   "cell_type": "code",
   "execution_count": 263,
   "metadata": {},
   "outputs": [
    {
     "name": "stdout",
     "output_type": "stream",
     "text": [
      "[[5 1]\n",
      " [5 2]\n",
      " [2 4]\n",
      " [4 4]\n",
      " [5 5]]\n",
      "[[0 0]\n",
      " [2 0]\n",
      " [3 0]\n",
      " [0 2]\n",
      " [2 2]]\n"
     ]
    }
   ],
   "source": [
    "train_x_neg, train_x_pos = train_x[:5], train_x[5:10]\n",
    "print(train_x_pos)\n",
    "print(train_x_neg)"
   ]
  },
  {
   "cell_type": "code",
   "execution_count": 264,
   "metadata": {},
   "outputs": [
    {
     "data": {
      "text/plain": [
       "<matplotlib.legend.Legend at 0x7fab56fc9ac8>"
      ]
     },
     "execution_count": 264,
     "metadata": {},
     "output_type": "execute_result"
    },
    {
     "data": {
      "text/plain": [
       "<Figure size 432x288 with 0 Axes>"
      ]
     },
     "metadata": {},
     "output_type": "display_data"
    },
    {
     "data": {
      "image/png": "[encoded data removed]",
      "text/plain": [
       "<Figure size 576x504 with 1 Axes>"
      ]
     },
     "metadata": {
      "needs_background": "light"
     },
     "output_type": "display_data"
    }
   ],
   "source": [
    "x_pos, y_pos = zip(*train_x_pos)\n",
    "x_neg, y_neg = zip(*train_x_neg)\n",
    "\n",
    "fig = plt.figure()\n",
    "plt.figure(figsize=(8,7))\n",
    "plt.grid(b=None, which='major', axis='both')\n",
    "plt.title('training set')\n",
    "plt.scatter(x_pos, y_pos, marker='o', c='red')\n",
    "plt.scatter(x_neg, y_neg, marker='o', c='blue')\n",
    "plt.xlabel('x1')\n",
    "plt.ylabel('x2')\n",
    "\n",
    "line = np.linspace(0, 5)\n",
    "plt.plot(line, -(line * a + c)/b, c='b', label=\"LinearSVC\")\n",
    "plt.legend()"
   ]
  },
  {
   "cell_type": "code",
   "execution_count": 265,
   "metadata": {},
   "outputs": [],
   "source": [
    "def hinge_loss_single(feature_vector, label, theta, theta_0):\n",
    "    \"\"\"\n",
    "    Finds the hinge loss on a single data point given specific classification\n",
    "    parameters.\n",
    "\n",
    "    Args:\n",
    "        feature_vector - A numpy array describing the given data point.\n",
    "        label - A real valued number, the correct classification of the data\n",
    "            point.\n",
    "        theta - A numpy array describing the linear classifier.\n",
    "        theta_0 - A real valued number representing the offset parameter.\n",
    "\n",
    "\n",
    "    Returns: A real number representing the hinge loss associated with the\n",
    "    given data point and parameters.\n",
    "    \"\"\"\n",
    "    # Your code here\n",
    "    arg = label * (np.dot(theta, feature_vector) + theta_0)\n",
    "    if arg < 1:\n",
    "        return 1 - arg\n",
    "    else:\n",
    "        return 0"
   ]
  },
  {
   "cell_type": "code",
   "execution_count": 266,
   "metadata": {},
   "outputs": [],
   "source": [
    "def hinge_loss_full3(feature_matrix, labels, theta, theta_0):\n",
    "    \"\"\"\n",
    "    Finds the total hinge loss on a set of data given specific classification\n",
    "    parameters.\n",
    "\n",
    "    Args:\n",
    "        feature_matrix - A numpy matrix describing the given data. Each row\n",
    "            represents a single data point.\n",
    "        labels - A numpy array where the kth element of the array is the\n",
    "            correct classification of the kth row of the feature matrix.\n",
    "        theta - A numpy array describing the linear classifier.\n",
    "        theta_0 - A real valued number representing the offset parameter.\n",
    "\n",
    "\n",
    "    Returns: A real number representing the hinge loss associated with the\n",
    "    given dataset and parameters. This number should be the average hinge\n",
    "    loss across all of the points in the feature matrix.\n",
    "    \"\"\"\n",
    "    # Your code here\n",
    "    sumLoss = 0.0\n",
    "    numLabel = labels.size\n",
    "    numFv   = feature_matrix.shape[1]\n",
    "    numData = max(numLabel, numFv)\n",
    "    \n",
    "    if numLabel > numFv:\n",
    "        for i in range(0, (numLabel - numFv)):\n",
    "            ones = np.zeros((numLabel, (numFv + i +1)))\n",
    "            ones[:,:-1] = feature_matrix\n",
    "            feature_matrix = ones\n",
    "            print(feature_matrix)\n",
    "    \n",
    "    if numLabel < numFv:\n",
    "        for i in range(0, (numFv - numLabel)):\n",
    "            c = np.ones(numFv - numLabel)\n",
    "            labels = np.append(labels, c)\n",
    "    \n",
    "    for i in range(0, numData):\n",
    "        fv = feature_matrix.transpose()[i]\n",
    "        l  = labels[i]\n",
    "        \n",
    "        if fv.size > theta.size:\n",
    "            c = np.ones(fv.size - theta.size)\n",
    "            theta = np.append(c, theta)\n",
    "            \n",
    "        if fv.size < theta.size:\n",
    "            c = np.ones(theta.size - fv.size)\n",
    "            fv = np.append(c, fv)\n",
    "        \n",
    "        sumLoss += hinge_loss_single(fv, l, theta, theta_0)\n",
    "    return sumLoss / numData"
   ]
  },
  {
   "cell_type": "code",
   "execution_count": 267,
   "metadata": {},
   "outputs": [
    {
     "data": {
      "text/plain": [
       "array([0.0010581])"
      ]
     },
     "execution_count": 267,
     "metadata": {},
     "output_type": "execute_result"
    }
   ],
   "source": [
    "hinge_loss_single(train_x[4], train_y[4], theta, theta_0)"
   ]
  },
  {
   "cell_type": "code",
   "execution_count": 268,
   "metadata": {},
   "outputs": [
    {
     "data": {
      "text/plain": [
       "array([[0, 2, 3, 0, 2, 5, 5, 2, 4, 5],\n",
       "       [0, 0, 0, 2, 2, 1, 2, 4, 4, 5]])"
      ]
     },
     "execution_count": 268,
     "metadata": {},
     "output_type": "execute_result"
    }
   ],
   "source": [
    "train_x.transpose()"
   ]
  },
  {
   "cell_type": "code",
   "execution_count": 269,
   "metadata": {},
   "outputs": [
    {
     "data": {
      "text/plain": [
       "array([0.00010581])"
      ]
     },
     "execution_count": 269,
     "metadata": {},
     "output_type": "execute_result"
    }
   ],
   "source": [
    "hinge_loss_full3(train_x.transpose(), train_y, theta, theta_0)"
   ]
  },
  {
   "cell_type": "code",
   "execution_count": 270,
   "metadata": {},
   "outputs": [],
   "source": [
    "def hinge_loss_full(feature_matrix, labels, theta, theta_0):\n",
    "    \"\"\"\n",
    "    Finds the total hinge loss on a set of data given specific classification\n",
    "    parameters.\n",
    "\n",
    "    Args:\n",
    "        feature_matrix - A numpy matrix describing the given data. Each row\n",
    "            represents a single data point.\n",
    "        labels - A numpy array where the kth element of the array is the\n",
    "            correct classification of the kth row of the feature matrix.\n",
    "        theta - A numpy array describing the linear classifier.\n",
    "        theta_0 - A real valued number representing the offset parameter.\n",
    "\n",
    "\n",
    "    Returns: A real number representing the hinge loss associated with the\n",
    "    given dataset and parameters. This number should be the average hinge\n",
    "    loss across all of the points in the feature matrix.\n",
    "    \"\"\"\n",
    "    # Your code here\n",
    "    sumLoss = 0.0\n",
    "    numData = labels.size\n",
    "    for i in range(0, numData):\n",
    "        fv = feature_matrix.transpose()[i]\n",
    "        print('fearure vector: ' + str(fv))\n",
    "        print('fearure vector dim: ' + str(fv.shape))\n",
    "        l  = labels[i]\n",
    "        sumLoss += hinge_loss_single(fv, l, theta, theta_0)\n",
    "    return sumLoss / numData"
   ]
  },
  {
   "cell_type": "code",
   "execution_count": 271,
   "metadata": {},
   "outputs": [
    {
     "name": "stdout",
     "output_type": "stream",
     "text": [
      "fearure vector: [0 0]\n",
      "fearure vector dim: (2,)\n",
      "fearure vector: [2 0]\n",
      "fearure vector dim: (2,)\n",
      "fearure vector: [3 0]\n",
      "fearure vector dim: (2,)\n",
      "fearure vector: [0 2]\n",
      "fearure vector dim: (2,)\n",
      "fearure vector: [2 2]\n",
      "fearure vector dim: (2,)\n",
      "fearure vector: [5 1]\n",
      "fearure vector dim: (2,)\n",
      "fearure vector: [5 2]\n",
      "fearure vector dim: (2,)\n",
      "fearure vector: [2 4]\n",
      "fearure vector dim: (2,)\n",
      "fearure vector: [4 4]\n",
      "fearure vector dim: (2,)\n",
      "fearure vector: [5 5]\n",
      "fearure vector dim: (2,)\n"
     ]
    },
    {
     "data": {
      "text/plain": [
       "array([0.00010581])"
      ]
     },
     "execution_count": 271,
     "metadata": {},
     "output_type": "execute_result"
    }
   ],
   "source": [
    "hinge_loss_full(train_x.transpose(), train_y, theta, theta_0)"
   ]
  },
  {
   "cell_type": "markdown",
   "metadata": {},
   "source": [
    "# Problem2"
   ]
  },
  {
   "cell_type": "code",
   "execution_count": 290,
   "metadata": {},
   "outputs": [],
   "source": [
    "train_x = np.array([[0,0],[2,0],[1,1],[0,2],[3,3],[4,1],[5,2],[1,4],[4,4],[5,5]])\n",
    "train_y = np.array([-1,-1,-1,-1,-1,1,1,1,1,1])"
   ]
  },
  {
   "cell_type": "code",
   "execution_count": 291,
   "metadata": {},
   "outputs": [],
   "source": [
    "train_x_neg, train_x_pos = train_x[:5], train_x[5:10]"
   ]
  },
  {
   "cell_type": "code",
   "execution_count": 292,
   "metadata": {},
   "outputs": [
    {
     "data": {
      "text/plain": [
       "Text(0, 0.5, 'x2')"
      ]
     },
     "execution_count": 292,
     "metadata": {},
     "output_type": "execute_result"
    },
    {
     "data": {
      "text/plain": [
       "<Figure size 432x288 with 0 Axes>"
      ]
     },
     "metadata": {},
     "output_type": "display_data"
    },
    {
     "data": {
      "image/png": "[encoded data removed]",
      "text/plain": [
       "<Figure size 576x504 with 1 Axes>"
      ]
     },
     "metadata": {
      "needs_background": "light"
     },
     "output_type": "display_data"
    }
   ],
   "source": [
    "x_pos, y_pos = zip(*train_x_pos)\n",
    "x_neg, y_neg = zip(*train_x_neg)\n",
    "\n",
    "fig = plt.figure()\n",
    "plt.figure(figsize=(8,7))\n",
    "plt.grid(b=None, which='major', axis='both')\n",
    "plt.title('training set')\n",
    "plt.scatter(x_pos, y_pos, marker='o', c='red')\n",
    "plt.scatter(x_neg, y_neg, marker='o', c='blue')\n",
    "plt.xlabel('x1')\n",
    "plt.ylabel('x2')"
   ]
  },
  {
   "cell_type": "code",
   "execution_count": 273,
   "metadata": {},
   "outputs": [],
   "source": [
    "def polynomial_kernel(X, Y, c, p):\n",
    "    \"\"\"\n",
    "        Compute the polynomial kernel between two matrices X and Y::\n",
    "            K(x, y) = (<x, y> + c)^p\n",
    "        for each pair of rows x in X and y in Y.\n",
    "\n",
    "        Args:\n",
    "            X - (n, d) NumPy array (n datapoints each with d features)\n",
    "            Y - (m, d) NumPy array (m datapoints each with d features)\n",
    "            c - an coefficient to trade off high-order and low-order terms (scalar)\n",
    "            p - the degree of the polynomial kernel\n",
    "\n",
    "        Returns:\n",
    "            kernel_matrix - (n, m) Numpy array containing the kernel matrix\n",
    "    \"\"\"\n",
    "    K = X @ Y.transpose()\n",
    "    K += c\n",
    "    K **= p\n",
    "    return K"
   ]
  },
  {
   "cell_type": "code",
   "execution_count": 277,
   "metadata": {},
   "outputs": [
    {
     "data": {
      "text/plain": [
       "array([[1., 1., 1., 1.],\n",
       "       [1., 1., 1., 1.],\n",
       "       [1., 1., 1., 1.]])"
      ]
     },
     "execution_count": 277,
     "metadata": {},
     "output_type": "execute_result"
    }
   ],
   "source": [
    "X = np.ones([3,4])\n",
    "X"
   ]
  },
  {
   "cell_type": "code",
   "execution_count": 278,
   "metadata": {},
   "outputs": [
    {
     "data": {
      "text/plain": [
       "array([[1., 1., 1., 1.],\n",
       "       [1., 1., 1., 1.],\n",
       "       [1., 1., 1., 1.]])"
      ]
     },
     "execution_count": 278,
     "metadata": {},
     "output_type": "execute_result"
    }
   ],
   "source": [
    "Y = np.ones([3,4])\n",
    "Y"
   ]
  },
  {
   "cell_type": "code",
   "execution_count": 279,
   "metadata": {},
   "outputs": [
    {
     "data": {
      "text/plain": [
       "array([[4., 4., 4.],\n",
       "       [4., 4., 4.],\n",
       "       [4., 4., 4.]])"
      ]
     },
     "execution_count": 279,
     "metadata": {},
     "output_type": "execute_result"
    }
   ],
   "source": [
    "polynomial_kernel(X, Y, 0, 1)"
   ]
  },
  {
   "cell_type": "code",
   "execution_count": 280,
   "metadata": {},
   "outputs": [],
   "source": [
    "X = np.array([\n",
    "    [1,1],\n",
    "    [2,2],\n",
    "    [3,3]\n",
    "])"
   ]
  },
  {
   "cell_type": "code",
   "execution_count": 281,
   "metadata": {},
   "outputs": [
    {
     "data": {
      "text/plain": [
       "array([[ 2,  4,  6],\n",
       "       [ 4,  8, 12],\n",
       "       [ 6, 12, 18]])"
      ]
     },
     "execution_count": 281,
     "metadata": {},
     "output_type": "execute_result"
    }
   ],
   "source": [
    "polynomial_kernel(X, X, 0, 1)"
   ]
  },
  {
   "cell_type": "code",
   "execution_count": 397,
   "metadata": {},
   "outputs": [],
   "source": [
    "def kernel_perceptron_single_step_update(\n",
    "        index,\n",
    "        K,\n",
    "        labels,\n",
    "        current_weight,\n",
    "        current_weight_0):\n",
    "    \"\"\"\n",
    "        Args:\n",
    "            k - (n, n) NumPy array\n",
    "            labels - (n, 1) NumPy array\n",
    "            current_weight - (n, 1) NumPy array\n",
    "            current_weight_0 - sclar\n",
    "\n",
    "        Returns:\n",
    "            \n",
    "    \"\"\"\n",
    "#     print('index ', index)\n",
    "#     print('k ', K.transpose()[index].shape)\n",
    "#     print('lables ', labels.shape)\n",
    "#     print('current_weight', current_weight.shape)\n",
    "#     print('labels[index] ', labels[index])\n",
    "    \n",
    "#     a = current_weight * labels * K.transpose()[index]\n",
    "#     print('a ', a.shape)\n",
    "#     print('a ', a)\n",
    "#     print('sum ', np.sum(a))\n",
    "#     print(K.transpose()[index])\n",
    "#     print(current_weight * labels * K.transpose()[index])\n",
    "#     print(np.sum(current_weight * labels * K.transpose()[index]))\n",
    "#     print('hoge', labels * K.transpose()[index])\n",
    "    if labels[index] * np.sum(current_weight * labels * K.transpose()[index]) <= 0:\n",
    "        current_weight[index] = current_weight[index] + 1\n",
    "        current_weight_0 = current_weight_0 + y[index]\n",
    "    return (current_weight, current_weight_0)"
   ]
  },
  {
   "cell_type": "code",
   "execution_count": 287,
   "metadata": {},
   "outputs": [
    {
     "data": {
      "text/plain": [
       "array([3., 3., 3., 3., 3., 3., 3., 3., 3., 3.])"
      ]
     },
     "execution_count": 287,
     "metadata": {},
     "output_type": "execute_result"
    }
   ],
   "source": [
    "current_weight = np.ones(10)\n",
    "labels = np.ones(10)\n",
    "k = np.ones(10)\n",
    "current_weight + labels + k"
   ]
  },
  {
   "cell_type": "code",
   "execution_count": 288,
   "metadata": {},
   "outputs": [
    {
     "data": {
      "text/plain": [
       "10.0"
      ]
     },
     "execution_count": 288,
     "metadata": {},
     "output_type": "execute_result"
    }
   ],
   "source": [
    "np.sum(k)"
   ]
  },
  {
   "cell_type": "code",
   "execution_count": 413,
   "metadata": {},
   "outputs": [],
   "source": [
    "def kernel_perceptron(feature_matrix, labels, T):\n",
    "    \"\"\"\n",
    "    Args:\n",
    "        feature_matrix -  A numpy matrix describing the given data. Each row\n",
    "            represents a single data point.\n",
    "        labels - A numpy array where the kth element of the array is the\n",
    "            correct classification of the kth row of the feature matrix.\n",
    "        T - An integer indicating how many times the perceptron algorithm\n",
    "            should iterate through the feature matrix.\n",
    "\n",
    "    Returns:\n",
    "    \"\"\"\n",
    "    dim_fv = feature_matrix.shape[1]\n",
    "    num_fv = feature_matrix.shape[0]\n",
    "    weight = np.zeros(num_fv)\n",
    "    weight_0 = 0\n",
    "    parameters = (weight, weight_0)\n",
    "    \n",
    "    K = polynomial_kernel(feature_matrix, feature_matrix, 1, 2)\n",
    "    print(K)\n",
    "    \n",
    "    for t in range(T):\n",
    "        for i in range(num_fv):\n",
    "            parameters = kernel_perceptron_single_step_update(\n",
    "                i,\n",
    "                K,\n",
    "                labels,\n",
    "                parameters[0],\n",
    "                parameters[1]\n",
    "            )\n",
    "    return parameters"
   ]
  },
  {
   "cell_type": "code",
   "execution_count": 416,
   "metadata": {},
   "outputs": [
    {
     "name": "stdout",
     "output_type": "stream",
     "text": [
      "[[   1    1    1    1    1    1    1    1    1    1]\n",
      " [   1   25    9    1   49   81  121    9   81  121]\n",
      " [   1    9    9    9   49   36   64   36   81  121]\n",
      " [   1    1    9   25   49    9   25   81   81  121]\n",
      " [   1   49   49   49  361  256  484  256  625  961]\n",
      " [   1   81   36    9  256  324  529   81  441  676]\n",
      " [   1  121   64   25  484  529  900  196  841 1296]\n",
      " [   1    9   36   81  256   81  196  324  441  676]\n",
      " [   1   81   81   81  625  441  841  441 1089 1681]\n",
      " [   1  121  121  121  961  676 1296  676 1681 2601]]\n"
     ]
    }
   ],
   "source": [
    "weights, weight_0 = kernel_perceptron(train_x, train_y, 100)"
   ]
  },
  {
   "cell_type": "code",
   "execution_count": 417,
   "metadata": {},
   "outputs": [],
   "source": [
    "def feature_map(x1, x2):\n",
    "    return np.array([x1**2, np.sqrt(2)*x1*x2, x2**2])"
   ]
  },
  {
   "cell_type": "code",
   "execution_count": 428,
   "metadata": {},
   "outputs": [
    {
     "data": {
      "text/plain": [
       "array([ 2., 23.,  6., 18., 17., 13.,  1., 13.,  2.,  0.])"
      ]
     },
     "execution_count": 428,
     "metadata": {},
     "output_type": "execute_result"
    }
   ],
   "source": [
    "weights"
   ]
  },
  {
   "cell_type": "code",
   "execution_count": 462,
   "metadata": {},
   "outputs": [
    {
     "data": {
      "text/plain": [
       "(10, 3)"
      ]
     },
     "execution_count": 462,
     "metadata": {},
     "output_type": "execute_result"
    }
   ],
   "source": [
    "x1, x2 = zip(*train_x)\n",
    "result = map(feature_map, x1, x2)\n",
    "\n",
    "list_result =  list(result)\n",
    "aa =np.array(list_result)"
   ]
  },
  {
   "cell_type": "code",
   "execution_count": null,
   "metadata": {},
   "outputs": [],
   "source": []
  },
  {
   "cell_type": "code",
   "execution_count": null,
   "metadata": {},
   "outputs": [],
   "source": []
  }
 ],
 "metadata": {
  "kernelspec": {
   "display_name": "Environment (conda_6.86x)",
   "language": "python",
   "name": "conda_6.86x"
  },
  "language_info": {
   "codemirror_mode": {
    "name": "ipython",
    "version": 3
   },
   "file_extension": ".py",
   "mimetype": "text/x-python",
   "name": "python",
   "nbconvert_exporter": "python",
   "pygments_lexer": "ipython3",
   "version": "3.6.8"
  }
 },
 "nbformat": 4,
 "nbformat_minor": 2
}
