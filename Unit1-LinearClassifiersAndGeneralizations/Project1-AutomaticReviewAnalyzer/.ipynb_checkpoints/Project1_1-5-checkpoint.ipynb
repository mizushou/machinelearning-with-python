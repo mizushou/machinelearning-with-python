{
 "cells": [
  {
   "cell_type": "markdown",
   "metadata": {},
   "source": [
    "# 1. Introduction\n",
    "\n",
    "> The goal of this project is to design a classifier to use for sentiment analysis of product reviews. Our training set consists of reviews written by Amazon customers for various food products. The reviews, originally given on a 5 point scale, have been adjusted to a +1 or -1 scale, representing a positive or negative review, respectively. \n",
    "\n",
    "\n",
    "> Below are two example entries from our dataset. Each entry consists of the review and its label. The two reviews were written by different customers describing their experience with a sugar-free candy.\n",
    "\n",
    "| Review        | label           |\n",
    "| ------------- |:-------------:|\n",
    "| Nasty No flavor. The candy is just red, No flavor. Just plan and chewy. I would never buy them again      | -1 |\n",
    "| YUMMY! You would never guess that they're sugar-free and it's so great that you can eat them pretty much guilt free! i was so impressed that i've ordered some for myself (w dark chocolate) to take to the office. These are just EXCELLENT!      | 1      |\n",
    "\n",
    "\n",
    "> In order to automatically analyze reviews, you will need to complete the following tasks:\n",
    "> 1. Implement and compare three types of linear classifiers: the perceptron algorithm, the average perceptron algorithm, and the Pegasos algorithm.\n",
    "> 2. Use your classifiers on the food review dataset, using some simple text features. \n",
    "> 3. Experiment with additional features and explore their impact on classifier performance."
   ]
  },
  {
   "cell_type": "markdown",
   "metadata": {
    "toc-hr-collapsed": true
   },
   "source": [
    "# 2. Hinge Loss\n",
    "\n",
    "> In this project you will be implementing linear classifiers beginning with the Perceptron algorithm. You will begin by writing your loss function, a hinge-loss function. For this function you are given the parameters of your model  𝜃  and  𝜃0 . Additionally, you are given a feature matrix in which the rows are feature vectors and the columns are individual features, and a vector of labels representing the actual sentiment of the corresponding feature vector.\n"
   ]
  },
  {
   "cell_type": "markdown",
   "metadata": {},
   "source": [
    "## Hinge Loss on One Data Sample\n",
    "\n",
    "> First, implement the basic hinge loss calculation on a single data-point. Instead of the entire feature matrix, you are given one row, representing the feature vector of a single data sample, and its label of +1 or -1 representing the ground truth sentiment of the data sample.\n",
    "\n",
    ">Reminder: You can implement this function locally first, and run python test.py in your sentiment_analysis directory to validate basic functionality before checking against the online grader here.\n",
    "\n",
    "> Available Functions: You have access to the NumPy python library as np; No need to import anything.\n"
   ]
  },
  {
   "cell_type": "code",
   "execution_count": 2,
   "metadata": {},
   "outputs": [],
   "source": [
    "import numpy as np"
   ]
  },
  {
   "cell_type": "code",
   "execution_count": 59,
   "metadata": {},
   "outputs": [],
   "source": [
    "feature_vector = np.array([-0.36733535, -0.04013927, -0.52280029, -0.26809445, -0.02125258, -0.24869003, -0.26646973, -0.48695189, -0.27896887, -0.78189388])\n",
    "label = 1.0\n",
    "theta = np.array([0.43560737, 0.87048016, 0.67008539, 0.00667253, 0.12517057, 0.14544758, 0.99615054, 0.4065359, 0.15698489, 0.02624822])\n",
    "theta_0 = 0.27982016594014425"
   ]
  },
  {
   "cell_type": "code",
   "execution_count": 60,
   "metadata": {},
   "outputs": [],
   "source": [
    "def hinge_loss_single(feature_vector, label, theta, theta_0):\n",
    "    \"\"\"\n",
    "    Finds the hinge loss on a single data point given specific classification\n",
    "    parameters.\n",
    "\n",
    "    Args:\n",
    "        feature_vector - A numpy array describing the given data point.\n",
    "        label - A real valued number, the correct classification of the data\n",
    "            point.\n",
    "        theta - A numpy array describing the linear classifier.\n",
    "        theta_0 - A real valued number representing the offset parameter.\n",
    "\n",
    "\n",
    "    Returns: A real number representing the hinge loss associated with the\n",
    "    given data point and parameters.\n",
    "    \"\"\"\n",
    "    # Your code here\n",
    "    arg = label * (np.dot(theta, feature_vector) + theta_0)\n",
    "    if arg < 1:\n",
    "        return 1 - arg\n",
    "    else:\n",
    "        return 0"
   ]
  },
  {
   "cell_type": "code",
   "execution_count": 61,
   "metadata": {},
   "outputs": [
    {
     "data": {
      "text/plain": [
       "1.8338001332569613"
      ]
     },
     "execution_count": 61,
     "metadata": {},
     "output_type": "execute_result"
    }
   ],
   "source": [
    "hinge_loss_single(feature_vector, label, theta, theta_0)"
   ]
  },
  {
   "cell_type": "markdown",
   "metadata": {},
   "source": [
    "## The Complete Hinge Loss\n",
    "\n",
    "> Now it's time to implement the complete hinge loss for a full set of data. Your input will be a full feature matrix this time, and you will have a vector of corresponding labels. The  𝑘𝑡ℎ  row of the feature matrix corresponds to the  𝑘𝑡ℎ  element of the labels vector. This function should return the appropriate loss of the classifier on the given dataset.\n",
    "\n"
   ]
  },
  {
   "cell_type": "code",
   "execution_count": 62,
   "metadata": {},
   "outputs": [],
   "source": [
    "feature_matrix = np.array([[1,2],[1,2]])"
   ]
  },
  {
   "cell_type": "code",
   "execution_count": 63,
   "metadata": {},
   "outputs": [
    {
     "data": {
      "text/plain": [
       "array([[1, 2],\n",
       "       [1, 2]])"
      ]
     },
     "execution_count": 63,
     "metadata": {},
     "output_type": "execute_result"
    }
   ],
   "source": [
    "feature_matrix"
   ]
  },
  {
   "cell_type": "code",
   "execution_count": 64,
   "metadata": {},
   "outputs": [
    {
     "data": {
      "text/plain": [
       "(2, 2)"
      ]
     },
     "execution_count": 64,
     "metadata": {},
     "output_type": "execute_result"
    }
   ],
   "source": [
    "feature_matrix.shape"
   ]
  },
  {
   "cell_type": "code",
   "execution_count": 65,
   "metadata": {},
   "outputs": [
    {
     "name": "stdout",
     "output_type": "stream",
     "text": [
      "feature vector is [1 1]\n",
      "feature vector is [2 2]\n"
     ]
    }
   ],
   "source": [
    "for fv in feature_matrix.transpose():\n",
    "    print('feature vector is ' + str(fv))"
   ]
  },
  {
   "cell_type": "code",
   "execution_count": 66,
   "metadata": {},
   "outputs": [],
   "source": [
    "labels = np.array([1,1])"
   ]
  },
  {
   "cell_type": "code",
   "execution_count": 67,
   "metadata": {},
   "outputs": [
    {
     "name": "stdout",
     "output_type": "stream",
     "text": [
      "1\n",
      "1\n"
     ]
    }
   ],
   "source": [
    "for l in labels:\n",
    "    print(l)"
   ]
  },
  {
   "cell_type": "code",
   "execution_count": 68,
   "metadata": {},
   "outputs": [
    {
     "data": {
      "text/plain": [
       "2"
      ]
     },
     "execution_count": 68,
     "metadata": {},
     "output_type": "execute_result"
    }
   ],
   "source": [
    "labels.size"
   ]
  },
  {
   "cell_type": "code",
   "execution_count": 69,
   "metadata": {},
   "outputs": [],
   "source": [
    "def hinge_loss_full(feature_matrix, labels, theta, theta_0):\n",
    "    \"\"\"\n",
    "    Finds the total hinge loss on a set of data given specific classification\n",
    "    parameters.\n",
    "\n",
    "    Args:\n",
    "        feature_matrix - A numpy matrix describing the given data. Each row\n",
    "            represents a single data point.\n",
    "        labels - A numpy array where the kth element of the array is the\n",
    "            correct classification of the kth row of the feature matrix.\n",
    "        theta - A numpy array describing the linear classifier.\n",
    "        theta_0 - A real valued number representing the offset parameter.\n",
    "\n",
    "\n",
    "    Returns: A real number representing the hinge loss associated with the\n",
    "    given dataset and parameters. This number should be the average hinge\n",
    "    loss across all of the points in the feature matrix.\n",
    "    \"\"\"\n",
    "    # Your code here\n",
    "    sumLoss = 0.0\n",
    "    numData = labels.size\n",
    "    for i in range(0, numData):\n",
    "        fv = feature_matrix.transpose()[i]\n",
    "        print('fearure vector: ' + str(fv))\n",
    "        print('fearure vector dim: ' + str(fv.shape))\n",
    "        l  = labels[i]\n",
    "        sumLoss += hinge_loss_single(fv, l, theta, theta_0)\n",
    "    return sumLoss / numData"
   ]
  },
  {
   "cell_type": "code",
   "execution_count": 70,
   "metadata": {},
   "outputs": [
    {
     "name": "stdout",
     "output_type": "stream",
     "text": [
      "fearure vector: [1 1]\n",
      "fearure vector dim: (2,)\n",
      "fearure vector: [2 2]\n",
      "fearure vector dim: (2,)\n"
     ]
    },
    {
     "data": {
      "text/plain": [
       "1.2"
      ]
     },
     "execution_count": 70,
     "metadata": {},
     "output_type": "execute_result"
    }
   ],
   "source": [
    "theta = np.array([-1,1])\n",
    "theta_0 = -0.2\n",
    "hinge_loss_full(feature_matrix, labels, theta, theta_0)"
   ]
  },
  {
   "cell_type": "code",
   "execution_count": 85,
   "metadata": {},
   "outputs": [],
   "source": [
    "def hinge_loss_full2(feature_matrix, labels, theta, theta_0):\n",
    "    \"\"\"\n",
    "    Finds the total hinge loss on a set of data given specific classification\n",
    "    parameters.\n",
    "\n",
    "    Args:\n",
    "        feature_matrix - A numpy matrix describing the given data. Each row\n",
    "            represents a single data point.\n",
    "        labels - A numpy array where the kth element of the array is the\n",
    "            correct classification of the kth row of the feature matrix.\n",
    "        theta - A numpy array describing the linear classifier.\n",
    "        theta_0 - A real valued number representing the offset parameter.\n",
    "\n",
    "\n",
    "    Returns: A real number representing the hinge loss associated with the\n",
    "    given dataset and parameters. This number should be the average hinge\n",
    "    loss across all of the points in the feature matrix.\n",
    "    \"\"\"\n",
    "    # Your code here\n",
    "    sumLoss = 0.0\n",
    "    numData = labels.size\n",
    "    for i in range(0, numData):\n",
    "        fv = feature_matrix.transpose()[i]\n",
    "        l  = labels[i]\n",
    "        \n",
    "        if fv.size > theta.size:\n",
    "            c = np.ones(fv.size - theta.size)\n",
    "            theta = np.append(c, theta)\n",
    "            \n",
    "        if fv.size < theta.size:\n",
    "            c = np.ones(theta.size - fv.size)\n",
    "            fv = np.append(c, fv)\n",
    "        \n",
    "        sumLoss += hinge_loss_single(fv, l, theta, theta_0)\n",
    "    return sumLoss / numData"
   ]
  },
  {
   "cell_type": "code",
   "execution_count": 230,
   "metadata": {},
   "outputs": [],
   "source": [
    "def hinge_loss_full3(feature_matrix, labels, theta, theta_0):\n",
    "    \"\"\"\n",
    "    Finds the total hinge loss on a set of data given specific classification\n",
    "    parameters.\n",
    "\n",
    "    Args:\n",
    "        feature_matrix - A numpy matrix describing the given data. Each row\n",
    "            represents a single data point.\n",
    "        labels - A numpy array where the kth element of the array is the\n",
    "            correct classification of the kth row of the feature matrix.\n",
    "        theta - A numpy array describing the linear classifier.\n",
    "        theta_0 - A real valued number representing the offset parameter.\n",
    "\n",
    "\n",
    "    Returns: A real number representing the hinge loss associated with the\n",
    "    given dataset and parameters. This number should be the average hinge\n",
    "    loss across all of the points in the feature matrix.\n",
    "    \"\"\"\n",
    "    # Your code here\n",
    "    sumLoss = 0.0\n",
    "    numLabel = labels.size\n",
    "    numFv   = feature_matrix.shape[1]\n",
    "    numData = max(numLabel, numFv)\n",
    "    \n",
    "    if numLabel > numFv:\n",
    "        for i in range(0, (numLabel - numFv)):\n",
    "            ones = np.zeros((numLabel, (numFv + i +1)))\n",
    "            ones[:,:-1] = feature_matrix\n",
    "            feature_matrix = ones\n",
    "            print(feature_matrix)\n",
    "    \n",
    "    if numLabel < numFv:\n",
    "        for i in range(0, (numFv - numLabel)):\n",
    "            c = np.ones(numFv - numLabel)\n",
    "            labels = np.append(labels, c)\n",
    "    \n",
    "    for i in range(0, numData):\n",
    "        fv = feature_matrix.transpose()[i]\n",
    "        l  = labels[i]\n",
    "        \n",
    "        if fv.size > theta.size:\n",
    "            c = np.ones(fv.size - theta.size)\n",
    "            theta = np.append(c, theta)\n",
    "            \n",
    "        if fv.size < theta.size:\n",
    "            c = np.ones(theta.size - fv.size)\n",
    "            fv = np.append(c, fv)\n",
    "        \n",
    "        sumLoss += hinge_loss_single(fv, l, theta, theta_0)\n",
    "    return sumLoss / numData"
   ]
  },
  {
   "cell_type": "code",
   "execution_count": 232,
   "metadata": {},
   "outputs": [
    {
     "name": "stdout",
     "output_type": "stream",
     "text": [
      "[[1. 2. 3. 4. 5. 0.]\n",
      " [1. 2. 3. 4. 5. 0.]\n",
      " [1. 2. 3. 4. 5. 0.]\n",
      " [1. 2. 3. 4. 5. 0.]\n",
      " [1. 2. 3. 4. 5. 0.]\n",
      " [1. 2. 3. 4. 5. 0.]\n",
      " [1. 2. 3. 4. 5. 0.]]\n",
      "[[1. 2. 3. 4. 5. 0. 0.]\n",
      " [1. 2. 3. 4. 5. 0. 0.]\n",
      " [1. 2. 3. 4. 5. 0. 0.]\n",
      " [1. 2. 3. 4. 5. 0. 0.]\n",
      " [1. 2. 3. 4. 5. 0. 0.]\n",
      " [1. 2. 3. 4. 5. 0. 0.]\n",
      " [1. 2. 3. 4. 5. 0. 0.]]\n"
     ]
    },
    {
     "data": {
      "text/plain": [
       "0.34285714285714286"
      ]
     },
     "execution_count": 232,
     "metadata": {},
     "output_type": "execute_result"
    }
   ],
   "source": [
    "feature_matrix = np.array([[1,2,3,4,5],[1,2,3,4,5],[1,2,3,4,5],[1,2,3,4,5],[1,2,3,4,5],[1,2,3,4,5],[1,2,3,4,5]])\n",
    "labels = np.array([1,1,1,1,1,1,1])\n",
    "theta = np.array([1,1,1,1,1])\n",
    "theta_0 = -0.2\n",
    "feature_matrix.shape[1]\n",
    "hinge_loss_full3(feature_matrix, labels, theta, theta_0)"
   ]
  },
  {
   "cell_type": "code",
   "execution_count": 214,
   "metadata": {},
   "outputs": [
    {
     "ename": "ValueError",
     "evalue": "could not broadcast input array from shape (6) into shape (5)",
     "output_type": "error",
     "traceback": [
      "\u001b[0;31m---------------------------------------------------------------------------\u001b[0m",
      "\u001b[0;31mValueError\u001b[0m                                Traceback (most recent call last)",
      "\u001b[0;32m<ipython-input-214-56ab128dcf4d>\u001b[0m in \u001b[0;36m<module>\u001b[0;34m\u001b[0m\n\u001b[0;32m----> 1\u001b[0;31m \u001b[0mfeature_matrix\u001b[0m\u001b[0;34m[\u001b[0m\u001b[0;36m0\u001b[0m\u001b[0;34m]\u001b[0m \u001b[0;34m=\u001b[0m \u001b[0mnp\u001b[0m\u001b[0;34m.\u001b[0m\u001b[0mappend\u001b[0m\u001b[0;34m(\u001b[0m\u001b[0;36m1\u001b[0m\u001b[0;34m,\u001b[0m\u001b[0mfeature_matrix\u001b[0m\u001b[0;34m[\u001b[0m\u001b[0;36m0\u001b[0m\u001b[0;34m]\u001b[0m\u001b[0;34m)\u001b[0m\u001b[0;34m\u001b[0m\u001b[0;34m\u001b[0m\u001b[0m\n\u001b[0m",
      "\u001b[0;31mValueError\u001b[0m: could not broadcast input array from shape (6) into shape (5)"
     ]
    }
   ],
   "source": [
    "feature_matrix[0] = np.append(1,feature_matrix[0])"
   ]
  },
  {
   "cell_type": "code",
   "execution_count": 215,
   "metadata": {},
   "outputs": [
    {
     "data": {
      "text/plain": [
       "array([[1, 1, 1, 2, 3, 4, 5],\n",
       "       [1, 1, 1, 2, 3, 4, 5],\n",
       "       [1, 1, 1, 2, 3, 4, 5],\n",
       "       [1, 1, 1, 2, 3, 4, 5],\n",
       "       [1, 1, 1, 2, 3, 4, 5],\n",
       "       [1, 1, 1, 2, 3, 4, 5],\n",
       "       [1, 1, 1, 2, 3, 4, 5]])"
      ]
     },
     "execution_count": 215,
     "metadata": {},
     "output_type": "execute_result"
    }
   ],
   "source": [
    "np.concatenate((np.ones((7,2), dtype=int), feature_matrix), axis=1)"
   ]
  },
  {
   "cell_type": "code",
   "execution_count": 226,
   "metadata": {},
   "outputs": [],
   "source": [
    "def hinge_loss_full4(feature_matrix, labels, theta, theta_0):\n",
    "    \"\"\"\n",
    "    Finds the total hinge loss on a set of data given specific classification\n",
    "    parameters.\n",
    "\n",
    "    Args:\n",
    "        feature_matrix - A numpy matrix describing the given data. Each row\n",
    "            represents a single data point.\n",
    "        labels - A numpy array where the kth element of the array is the\n",
    "            correct classification of the kth row of the feature matrix.\n",
    "        theta - A numpy array describing the linear classifier.\n",
    "        theta_0 - A real valued number representing the offset parameter.\n",
    "\n",
    "\n",
    "    Returns: A real number representing the hinge loss associated with the\n",
    "    given dataset and parameters. This number should be the average hinge\n",
    "    loss across all of the points in the feature matrix.\n",
    "    \"\"\"\n",
    "    # Your code here\n",
    "    sumLoss = 0.0\n",
    "    numLabel = labels.size\n",
    "    numFv   = feature_matrix.shape[1]\n",
    "    numData = max(numLabel, numFv)\n",
    "    \n",
    "    if numLabel > numFv:\n",
    "        for i in range(0, (numLabel - numFv)):\n",
    "            feature_matrix = np.concatenate((np.zeros((numLabel,1), dtype=int), feature_matrix), axis=1)\n",
    "            \n",
    "    if numLabel < numFv:\n",
    "        for i in range(0, (numFv - numLabel)):\n",
    "            c = np.ones(numFv - numLabel)\n",
    "            labels = np.append(labels, c)\n",
    "    \n",
    "    for i in range(0, numData):\n",
    "        fv = feature_matrix.transpose()[i]\n",
    "        l  = labels[i]\n",
    "        \n",
    "        if fv.size > theta.size:\n",
    "            c = np.ones(fv.size - theta.size)\n",
    "            theta = np.append(c, theta)\n",
    "            \n",
    "        if fv.size < theta.size:\n",
    "            c = np.ones(theta.size - fv.size)\n",
    "            fv = np.append(c, fv)\n",
    "        \n",
    "        sumLoss += hinge_loss_single(fv, l, theta, theta_0)\n",
    "    return sumLoss / numData"
   ]
  },
  {
   "cell_type": "code",
   "execution_count": 227,
   "metadata": {},
   "outputs": [
    {
     "name": "stdout",
     "output_type": "stream",
     "text": [
      "[[0 1 2 3 4 5]\n",
      " [0 1 2 3 4 5]\n",
      " [0 1 2 3 4 5]\n",
      " [0 1 2 3 4 5]\n",
      " [0 1 2 3 4 5]\n",
      " [0 1 2 3 4 5]\n",
      " [0 1 2 3 4 5]]\n",
      "[[0 0 1 2 3 4 5]\n",
      " [0 0 1 2 3 4 5]\n",
      " [0 0 1 2 3 4 5]\n",
      " [0 0 1 2 3 4 5]\n",
      " [0 0 1 2 3 4 5]\n",
      " [0 0 1 2 3 4 5]\n",
      " [0 0 1 2 3 4 5]]\n"
     ]
    },
    {
     "data": {
      "text/plain": [
       "0.34285714285714286"
      ]
     },
     "execution_count": 227,
     "metadata": {},
     "output_type": "execute_result"
    }
   ],
   "source": [
    "feature_matrix = np.array([[1,2,3,4,5],[1,2,3,4,5],[1,2,3,4,5],[1,2,3,4,5],[1,2,3,4,5],[1,2,3,4,5],[1,2,3,4,5]])\n",
    "labels = np.array([1,1,1,1,1,1,1])\n",
    "theta = np.array([1,1,1,1,1])\n",
    "theta_0 = -0.2\n",
    "feature_matrix.shape[1]\n",
    "hinge_loss_full4(feature_matrix, labels, theta, theta_0)"
   ]
  },
  {
   "cell_type": "code",
   "execution_count": null,
   "metadata": {},
   "outputs": [],
   "source": [
    "def hinge_loss_full5(feature_matrix, labels, theta, theta_0):\n",
    "    \"\"\"\n",
    "    Finds the total hinge loss on a set of data given specific classification\n",
    "    parameters.\n",
    "\n",
    "    Args:\n",
    "        feature_matrix - A numpy matrix describing the given data. Each row\n",
    "            represents a single data point.\n",
    "        labels - A numpy array where the kth element of the array is the\n",
    "            correct classification of the kth row of the feature matrix.\n",
    "        theta - A numpy array describing the linear classifier.\n",
    "        theta_0 - A real valued number representing the offset parameter.\n",
    "\n",
    "\n",
    "    Returns: A real number representing the hinge loss associated with the\n",
    "    given dataset and parameters. This number should be the average hinge\n",
    "    loss across all of the points in the feature matrix.\n",
    "    \"\"\"\n",
    "    # Your code here\n",
    "    sumLoss = 0.0\n",
    "    numLabel = labels.size\n",
    "    numFv   = feature_matrix.shape[0]\n",
    "    numData = max(numLabel, numFv)\n",
    "    \n",
    "    if numLabel > numFv:\n",
    "        for i in range(0, (numLabel - numFv)):\n",
    "            ones = np.ones((numLabel, (numFv + i +1)))\n",
    "            ones[:,:-1] = feature_matrix\n",
    "            feature_matrix = ones\n",
    "            print(feature_matrix)\n",
    "    \n",
    "    if numLabel < numFv:\n",
    "        for i in range(0, (numFv - numLabel)):\n",
    "            c = np.ones(numFv - numLabel)\n",
    "            labels = np.append(labels, c)\n",
    "    \n",
    "    for i in range(0, numData):\n",
    "        fv = feature_matrix[i]\n",
    "        l  = labels[i]\n",
    "        \n",
    "        if fv.size > theta.size:\n",
    "            c = np.ones(fv.size - theta.size)\n",
    "            theta = np.append(c, theta)\n",
    "            \n",
    "        if fv.size < theta.size:\n",
    "            c = np.ones(theta.size - fv.size)\n",
    "            fv = np.append(c, fv)\n",
    "        \n",
    "        sumLoss += hinge_loss_single(fv, l, theta, theta_0)\n",
    "    return sumLoss / numData"
   ]
  },
  {
   "cell_type": "markdown",
   "metadata": {
    "toc-hr-collapsed": false
   },
   "source": [
    "# 3. Perceptron Algorithm\n",
    "\n",
    "> Now you will implement the single step update for the perceptron algorithm (implemented with  0−1  loss). You will be given the feature vector as an array of numbers, the current  𝜃  and  𝜃0 parameters, and the correct label of the feature vector. The function should return a tuple in which the first element is the correctly updated value of  𝜃  and the second element is the correctly updated value of  𝜃0 ."
   ]
  },
  {
   "cell_type": "markdown",
   "metadata": {},
   "source": [
    "## Perceptron Single Step Update"
   ]
  },
  {
   "cell_type": "code",
   "execution_count": 233,
   "metadata": {},
   "outputs": [],
   "source": [
    "def perceptron_single_step_update(\n",
    "        feature_vector,\n",
    "        label,\n",
    "        current_theta,\n",
    "        current_theta_0):\n",
    "    \"\"\"\n",
    "    Properly updates the classification parameter, theta and theta_0, on a\n",
    "    single step of the perceptron algorithm.\n",
    "\n",
    "    Args:\n",
    "        feature_vector - A numpy array describing a single data point.\n",
    "        label - The correct classification of the feature vector.\n",
    "        current_theta - The current theta being used by the perceptron\n",
    "            algorithm before this update.\n",
    "        current_theta_0 - The current theta_0 being used by the perceptron\n",
    "            algorithm before this update.\n",
    "\n",
    "    Returns: A tuple where the first element is a numpy array with the value of\n",
    "    theta after the current update has completed and the second element is a\n",
    "    real valued number with the value of theta_0 after the current updated has\n",
    "    completed.\n",
    "    \"\"\"\n",
    "    if (label * (np.dot(current_theta, feature_vector) + current_theta_0)) <= 0:\n",
    "        current_theta = current_theta + label * feature_vector\n",
    "        current_theta_0 = current_theta_0 + label\n",
    "    return (current_theta, current_theta_0)\n",
    "        "
   ]
  },
  {
   "cell_type": "markdown",
   "metadata": {},
   "source": [
    "## Full Perceptron Algorithm\n",
    "\n",
    "> In this step you will implement the full perceptron algorithm. You will be given the same feature matrix and labels array as you were given in The Complete Hinge Loss. You will also be given  𝑇 , the maximum number of times that you should iterate through the feature matrix before terminating the algorithm. Initialize  𝜃  and  𝜃0  to zero. This function should return a tuple in which the first element is the final value of  𝜃  and the second element is the value of  𝜃0 ."
   ]
  },
  {
   "cell_type": "code",
   "execution_count": 234,
   "metadata": {},
   "outputs": [
    {
     "data": {
      "text/plain": [
       "7"
      ]
     },
     "execution_count": 234,
     "metadata": {},
     "output_type": "execute_result"
    }
   ],
   "source": [
    "feature_matrix.shape[0]"
   ]
  },
  {
   "cell_type": "code",
   "execution_count": 235,
   "metadata": {},
   "outputs": [
    {
     "data": {
      "text/plain": [
       "(7, 5)"
      ]
     },
     "execution_count": 235,
     "metadata": {},
     "output_type": "execute_result"
    }
   ],
   "source": [
    "feature_matrix.shape"
   ]
  },
  {
   "cell_type": "code",
   "execution_count": 249,
   "metadata": {},
   "outputs": [],
   "source": [
    "def perceptron(feature_matrix, labels, T):\n",
    "    \"\"\"\n",
    "    Runs the full perceptron algorithm on a given set of data. Runs T\n",
    "    iterations through the data set, there is no need to worry about\n",
    "    stopping early.\n",
    "\n",
    "    NOTE: Please use the previously implemented functions when applicable.\n",
    "    Do not copy paste code from previous parts.\n",
    "\n",
    "    NOTE: Iterate the data matrix by the orders returned by get_order(feature_matrix.shape[0])\n",
    "\n",
    "    Args:\n",
    "        feature_matrix -  A numpy matrix describing the given data. Each row\n",
    "            represents a single data point.\n",
    "        labels - A numpy array where the kth element of the array is the\n",
    "            correct classification of the kth row of the feature matrix.\n",
    "        T - An integer indicating how many times the perceptron algorithm\n",
    "            should iterate through the feature matrix.\n",
    "\n",
    "    Returns: A tuple where the first element is a numpy array with the value of\n",
    "    theta, the linear classification parameter, after T iterations through the\n",
    "    feature matrix and the second element is a real number with the value of\n",
    "    theta_0, the offset classification parameter, after T iterations through\n",
    "    the feature matrix.\n",
    "    \"\"\"\n",
    "    # Your code here\n",
    "    dimFv = feature_matrix.shape[1]\n",
    "    theta = np.zeros(dimFv)\n",
    "    theta_0 = 0\n",
    "    parameters = (theta, theta_0)\n",
    "    \n",
    "    for t in range(T):\n",
    "        for i in get_order(feature_matrix.shape[0]):\n",
    "            parameters = perceptron_single_step_update(\n",
    "                feature_matrix[i],\n",
    "                labels[i],\n",
    "                parameters[0],\n",
    "                parameters[1]\n",
    "            )\n",
    "    return parameters"
   ]
  },
  {
   "cell_type": "markdown",
   "metadata": {
    "toc-hr-collapsed": true
   },
   "source": [
    "## Average Perceptron Algorithm\n",
    "\n",
    "> The average perceptron will add a modification to the original perceptron algorithm: since the basic algorithm continues updating as the algorithm runs, nudging parameters in possibly conflicting directions, it is better to take an average of those parameters as the final answer. Every update of the algorithm is the same as before. The returned parameters  𝜃 , however, are an average of the  𝜃 s across the  𝑛𝑇  steps:\n",
    "\n",
    "$$\n",
    "\\theta _{final} = \\frac{1}{nT}(\\theta ^{(1)} + \\theta ^{(2)} + ... + \\theta ^{(nT)})\n",
    "$$\n",
    "\n",
    "> You will now implement the average perceptron algorithm. This function should be constructed similarly to the Full Perceptron Algorithm above, except that it should return the average values of  𝜃  and  𝜃0\n",
    "\n",
    "> Tip: Tracking a moving average through loops is difficult, but tracking a sum through loops is simple.\n",
    "\n"
   ]
  },
  {
   "cell_type": "code",
   "execution_count": null,
   "metadata": {},
   "outputs": [],
   "source": [
    "def average_perceptron(feature_matrix, labels, T):\n",
    "    \"\"\"\n",
    "    Runs the average perceptron algorithm on a given set of data. Runs T\n",
    "    iterations through the data set, there is no need to worry about\n",
    "    stopping early.\n",
    "\n",
    "    NOTE: Please use the previously implemented functions when applicable.\n",
    "    Do not copy paste code from previous parts.\n",
    "\n",
    "    NOTE: Iterate the data matrix by the orders returned by get_order(feature_matrix.shape[0])\n",
    "\n",
    "\n",
    "    Args:\n",
    "        feature_matrix -  A numpy matrix describing the given data. Each row\n",
    "            represents a single data point.\n",
    "        labels - A numpy array where the kth element of the array is the\n",
    "            correct classification of the kth row of the feature matrix.\n",
    "        T - An integer indicating how many times the perceptron algorithm\n",
    "            should iterate through the feature matrix.\n",
    "\n",
    "    Returns: A tuple where the first element is a numpy array with the value of\n",
    "    the average theta, the linear classification parameter, found after T\n",
    "    iterations through the feature matrix and the second element is a real\n",
    "    number with the value of the average theta_0, the offset classification\n",
    "    parameter, found after T iterations through the feature matrix.\n",
    "\n",
    "    Hint: It is difficult to keep a running average; however, it is simple to\n",
    "    find a sum and divide.\n",
    "    \"\"\"\n",
    "    # Your code here\n",
    "    dimFv       = feature_matrix.shape[1]\n",
    "    theta       = np.zeros(dimFv)\n",
    "    theta_0     = 0\n",
    "    parameters  = (theta, theta_0)\n",
    "    sum_theta   = 0\n",
    "    sum_theta_0 = 0\n",
    "    \n",
    "    for t in range(T):\n",
    "        for i in get_order(feature_matrix.shape[0]):\n",
    "            parameters = perceptron_single_step_update(\n",
    "                feature_matrix[i],\n",
    "                labels[i],\n",
    "                parameters[0],\n",
    "                parameters[1]\n",
    "            )\n",
    "            sum_theta += parameters[0]\n",
    "            sum_theta_0 += parameters[1]\n",
    "    n = feature_matrix.shape[0]\n",
    "    ave_theta = sum_theta / (n * T)\n",
    "    ave_theta_0 = sum_theta_0 / (n * T)\n",
    "    return (ave_theta, ave_theta_0)"
   ]
  },
  {
   "cell_type": "markdown",
   "metadata": {},
   "source": [
    "# 4. Pegasos Algorithm\n",
    "\n",
    "> Now you will implement the Pegasos algorithm. For more information, refer to the original paper at original paper.\n",
    "The following pseudo-code describes the Pegasos update rule.\n",
    "\n",
    "Pegasos update rule $\\displaystyle \\left(x^{(i)}, y^{(i)}, \\lambda , \\eta , \\theta \\right):$\n",
    "\n",
    "if $y^{(i)}(\\theta \\cdot x^{(i)}) \\leq 1$ then  \n",
    "update $\\theta = (1 - \\eta \\lambda ) \\theta + \\eta y^{(i)}x^{(i)}$  \n",
    "else:  \n",
    "update $\\theta = (1 - \\eta \\lambda ) \\theta$\n",
    "\n",
    "> The  𝜂  parameter is a decaying factor that will decrease over time. The  𝜆  parameter is a regularizing parameter.\n",
    "In this problem, you will need to adapt this update rule to add a bias term ( 𝜃0 ) to the hypothesis, but take care not to penalize the magnitude of  𝜃0 ."
   ]
  },
  {
   "cell_type": "markdown",
   "metadata": {},
   "source": [
    "## Pegasos Single Step Update\n",
    "\n",
    "> Next you will implement the single step update for the Pegasos algorithm. This function is very similar to the function that you implemented in Perceptron Single Step Update, except that it should utilize the Pegasos parameter update rules instead of those for perceptron. The function will also be passed a  𝜆  and  𝜂  value to use for updates.\n",
    "\n",
    "- bias term $\\theta_0$ を追加したPegasos update rule\n",
    "    - $\\theta_0$ 自体の大きさは時間減衰しない\n",
    "\n",
    "if $y^{(i)}(\\theta \\cdot x^{(i)}) + \\theta_0 \\leq 1$ then  \n",
    "update $\\theta = (1 - \\eta \\lambda ) \\theta + \\eta y^{(i)}x^{(i)}$  \n",
    "update $\\theta_0 = \\theta_0 + \\eta y^{(i)}$  \n",
    "else:  \n",
    "update $\\theta = (1 - \\eta \\lambda ) \\theta$\n"
   ]
  },
  {
   "cell_type": "code",
   "execution_count": 261,
   "metadata": {},
   "outputs": [],
   "source": [
    "def pegasos_single_step_update(\n",
    "        feature_vector,\n",
    "        label,\n",
    "        L,\n",
    "        eta,\n",
    "        current_theta,\n",
    "        current_theta_0):\n",
    "    \"\"\"\n",
    "    Properly updates the classification parameter, theta and theta_0, on a\n",
    "    single step of the Pegasos algorithm\n",
    "\n",
    "    Args:\n",
    "        feature_vector - A numpy array describing a single data point.\n",
    "        label - The correct classification of the feature vector.\n",
    "        L - The lamba value being used to update the parameters.\n",
    "        eta - Learning rate to update parameters.\n",
    "        current_theta - The current theta being used by the Pegasos\n",
    "            algorithm before this update.\n",
    "        current_theta_0 - The current theta_0 being used by the\n",
    "            Pegasos algorithm before this update.\n",
    "\n",
    "    Returns: A tuple where the first element is a numpy array with the value of\n",
    "    theta after the current update has completed and the second element is a\n",
    "    real valued number with the value of theta_0 after the current updated has\n",
    "    completed.\n",
    "    \"\"\"\n",
    "    # Your code here\n",
    "    if (label * (np.dot(current_theta, feature_vector) + current_theta_0)) <= 1:\n",
    "        current_theta = (1 - eta * L) * current_theta + eta * label * feature_vector\n",
    "        current_theta_0 = current_theta_0 + eta * label\n",
    "    else:\n",
    "        current_theta = (1 - eta * L) * current_theta\n",
    "        current_theta_0 = current_theta_0\n",
    "    return (current_theta, current_theta_0)"
   ]
  },
  {
   "cell_type": "markdown",
   "metadata": {},
   "source": [
    "## Full Pegasos Algorithm\n",
    "\n",
    "> Finally you will implement the full Pegasos algorithm. You will be given the same feature matrix and labels array as you were given in Full Perceptron Algorithm. You will also be given  𝑇 , the maximum number of times that you should iterate through the feature matrix before terminating the algorithm. Initialize  𝜃  and  𝜃0  to zero. For each update, set  𝜂=1𝑡√  where  𝑡  is a counter for the number of updates performed so far (between  1  and  𝑛𝑇  inclusive). This function should return a tuple in which the first element is the final value of  𝜃  and the second element is the value of  𝜃0 ."
   ]
  },
  {
   "cell_type": "code",
   "execution_count": 264,
   "metadata": {},
   "outputs": [],
   "source": [
    "def pegasos(feature_matrix, labels, T, L):\n",
    "    \"\"\"\n",
    "    Runs the Pegasos algorithm on a given set of data. Runs T\n",
    "    iterations through the data set, there is no need to worry about\n",
    "    stopping early.\n",
    "\n",
    "    For each update, set learning rate = 1/sqrt(t),\n",
    "    where t is a counter for the number of updates performed so far (between 1\n",
    "    and nT inclusive).\n",
    "\n",
    "    NOTE: Please use the previously implemented functions when applicable.\n",
    "    Do not copy paste code from previous parts.\n",
    "\n",
    "    Args:\n",
    "        feature_matrix - A numpy matrix describing the given data. Each row\n",
    "            represents a single data point.\n",
    "        labels - A numpy array where the kth element of the array is the\n",
    "            correct classification of the kth row of the feature matrix.\n",
    "        T - An integer indicating how many times the algorithm\n",
    "            should iterate through the feature matrix.\n",
    "        L - The lamba value being used to update the Pegasos\n",
    "            algorithm parameters.\n",
    "\n",
    "    Returns: A tuple where the first element is a numpy array with the value of\n",
    "    the theta, the linear classification parameter, found after T\n",
    "    iterations through the feature matrix and the second element is a real\n",
    "    number with the value of the theta_0, the offset classification\n",
    "    parameter, found after T iterations through the feature matrix.\n",
    "    \"\"\"\n",
    "    # Your code here\n",
    "    dimFv = feature_matrix.shape[1]\n",
    "    numFv = feature_matrix.shape[0]\n",
    "    theta = np.zeros(dimFv)\n",
    "    theta_0 = 0.0\n",
    "    parameters = (theta, theta_0)\n",
    "    eta_t = 0.0\n",
    "    count = 0\n",
    "    base = 0\n",
    "    \n",
    "    maxCnt = numFv * T\n",
    "    \n",
    "    for t in range(T):\n",
    "        base = (T - t - 1) * numFv\n",
    "        for i in get_order(feature_matrix.shape[0]):\n",
    "            count = maxCnt - (base + i)\n",
    "            eta_t = 1 / (count)**(1/2)\n",
    "            \n",
    "            parameters = pegasos_single_step_update(\n",
    "                feature_matrix[i],\n",
    "                labels[i],\n",
    "                L,\n",
    "                eta_t,\n",
    "                parameters[0],\n",
    "                parameters[1]\n",
    "            )\n",
    "    return parameters"
   ]
  }
 ],
 "metadata": {
  "kernelspec": {
   "display_name": "Environment (conda_6.86x)",
   "language": "python",
   "name": "conda_6.86x"
  },
  "language_info": {
   "codemirror_mode": {
    "name": "ipython",
    "version": 3
   },
   "file_extension": ".py",
   "mimetype": "text/x-python",
   "name": "python",
   "nbconvert_exporter": "python",
   "pygments_lexer": "ipython3",
   "version": "3.6.8"
  }
 },
 "nbformat": 4,
 "nbformat_minor": 2
}
