{
 "cells": [
  {
   "cell_type": "code",
   "execution_count": 1,
   "metadata": {},
   "outputs": [],
   "source": [
    "import numpy as np"
   ]
  },
  {
   "cell_type": "code",
   "execution_count": 2,
   "metadata": {},
   "outputs": [],
   "source": [
    "T = [\n",
    "    [np.array([-4, 2]), 1, 0],\n",
    "    [np.array([-2, 1]), 1, 0],\n",
    "    [np.array([-1, -1]), -1, 0],\n",
    "    [np.array([2, 2]), -1, 0],\n",
    "    [np.array([1, -2]), -1, 0] \n",
    "]"
   ]
  },
  {
   "cell_type": "code",
   "execution_count": 3,
   "metadata": {},
   "outputs": [
    {
     "data": {
      "text/plain": [
       "[[array([-4,  2]), 1, 0],\n",
       " [array([-2,  1]), 1, 0],\n",
       " [array([-1, -1]), -1, 0],\n",
       " [array([2, 2]), -1, 0],\n",
       " [array([ 1, -2]), -1, 0]]"
      ]
     },
     "execution_count": 3,
     "metadata": {},
     "output_type": "execute_result"
    }
   ],
   "source": [
    "T"
   ]
  },
  {
   "cell_type": "markdown",
   "metadata": {},
   "source": [
    "この条件だと、無限ループしてしまう"
   ]
  },
  {
   "cell_type": "code",
   "execution_count": 4,
   "metadata": {},
   "outputs": [
    {
     "ename": "KeyboardInterrupt",
     "evalue": "",
     "output_type": "error",
     "traceback": [
      "\u001b[0;31m---------------------------------------------------------------------------\u001b[0m",
      "\u001b[0;31mKeyboardInterrupt\u001b[0m                         Traceback (most recent call last)",
      "\u001b[0;32m<ipython-input-4-2ae3686f6061>\u001b[0m in \u001b[0;36m<module>\u001b[0;34m\u001b[0m\n\u001b[1;32m     16\u001b[0m \u001b[0;32mwhile\u001b[0m \u001b[0;32mTrue\u001b[0m\u001b[0;34m:\u001b[0m\u001b[0;34m\u001b[0m\u001b[0;34m\u001b[0m\u001b[0m\n\u001b[1;32m     17\u001b[0m     \u001b[0;32mfor\u001b[0m \u001b[0mt\u001b[0m \u001b[0;32min\u001b[0m \u001b[0mT\u001b[0m\u001b[0;34m:\u001b[0m\u001b[0;34m\u001b[0m\u001b[0;34m\u001b[0m\u001b[0m\n\u001b[0;32m---> 18\u001b[0;31m         \u001b[0;32mif\u001b[0m \u001b[0mt\u001b[0m\u001b[0;34m[\u001b[0m\u001b[0;36m1\u001b[0m\u001b[0;34m]\u001b[0m \u001b[0;34m*\u001b[0m \u001b[0;34m(\u001b[0m\u001b[0mnp\u001b[0m\u001b[0;34m.\u001b[0m\u001b[0mmatmul\u001b[0m\u001b[0;34m(\u001b[0m\u001b[0mtheata\u001b[0m\u001b[0;34m.\u001b[0m\u001b[0mtranspose\u001b[0m\u001b[0;34m(\u001b[0m\u001b[0;34m)\u001b[0m\u001b[0;34m,\u001b[0m \u001b[0mt\u001b[0m\u001b[0;34m[\u001b[0m\u001b[0;36m0\u001b[0m\u001b[0;34m]\u001b[0m\u001b[0;34m)\u001b[0m \u001b[0;34m+\u001b[0m \u001b[0mtheata_0\u001b[0m\u001b[0;34m)\u001b[0m \u001b[0;34m<=\u001b[0m \u001b[0;36m0\u001b[0m\u001b[0;34m:\u001b[0m\u001b[0;34m\u001b[0m\u001b[0;34m\u001b[0m\u001b[0m\n\u001b[0m\u001b[1;32m     19\u001b[0m             \u001b[0mtheata\u001b[0m \u001b[0;34m=\u001b[0m \u001b[0mtheata\u001b[0m \u001b[0;34m+\u001b[0m \u001b[0mt\u001b[0m\u001b[0;34m[\u001b[0m\u001b[0;36m1\u001b[0m\u001b[0;34m]\u001b[0m \u001b[0;34m*\u001b[0m \u001b[0mt\u001b[0m\u001b[0;34m[\u001b[0m\u001b[0;36m0\u001b[0m\u001b[0;34m]\u001b[0m\u001b[0;34m\u001b[0m\u001b[0;34m\u001b[0m\u001b[0m\n\u001b[1;32m     20\u001b[0m             \u001b[0mtheata_0\u001b[0m \u001b[0;34m=\u001b[0m \u001b[0mtheata_0\u001b[0m \u001b[0;34m+\u001b[0m \u001b[0mt\u001b[0m\u001b[0;34m[\u001b[0m\u001b[0;36m1\u001b[0m\u001b[0;34m]\u001b[0m\u001b[0;34m\u001b[0m\u001b[0;34m\u001b[0m\u001b[0m\n",
      "\u001b[0;31mKeyboardInterrupt\u001b[0m: "
     ]
    }
   ],
   "source": [
    "T = [\n",
    "    [np.array([-4, 2]), 1, 0],\n",
    "    [np.array([-2, 1]), 1, 0],\n",
    "    [np.array([-1, -1]), -1, 0],\n",
    "    [np.array([2, 2]), -1, 0],\n",
    "    [np.array([1, -2]), -1, 0] \n",
    "]\n",
    "\n",
    "\n",
    "theata = np.array([0, 0])\n",
    "theata_0 = 0\n",
    "\n",
    "misclassified = 0\n",
    "\n",
    "# Perceptron(with offset)\n",
    "while True:\n",
    "    for t in T:\n",
    "        if t[1] * (np.matmul(theata.transpose(), t[0]) + theata_0) <= 0:\n",
    "            theata = theata + t[1] * t[0]\n",
    "            theata_0 = theata_0 + t[1]\n",
    "            t[2] += 1\n",
    "            misclassified += 1\n",
    "    if(misclassified == 0):\n",
    "        print(\"hoge\")\n",
    "        break\n",
    "        \n",
    "print('Updated theata: ' + str(theata))\n",
    "print('Updated theata_0: ' + str(theata_0))\n",
    "T"
   ]
  },
  {
   "cell_type": "markdown",
   "metadata": {},
   "source": [
    "## 2.(a)\n",
    "- 有限回に絞って、問題のtimes misclassfiedと同じ回数になるようにする"
   ]
  },
  {
   "cell_type": "code",
   "execution_count": 5,
   "metadata": {},
   "outputs": [
    {
     "name": "stdout",
     "output_type": "stream",
     "text": [
      "sum_misclassified: 3\n",
      "sum_misclassified: 4\n",
      "Run: 2\n",
      "Updated theata: [-4  2]\n",
      "Updated theata_0: -2\n"
     ]
    },
    {
     "data": {
      "text/plain": [
       "[[array([-4,  2]), 1, 1],\n",
       " [array([-2,  1]), 1, 0],\n",
       " [array([-1, -1]), -1, 2],\n",
       " [array([2, 2]), -1, 1],\n",
       " [array([ 1, -2]), -1, 0]]"
      ]
     },
     "execution_count": 5,
     "metadata": {},
     "output_type": "execute_result"
    }
   ],
   "source": [
    "T = [\n",
    "    [np.array([-4, 2]), 1, 0],\n",
    "    [np.array([-2, 1]), 1, 0],\n",
    "    [np.array([-1, -1]), -1, 0],\n",
    "    [np.array([2, 2]), -1, 0],\n",
    "    [np.array([1, -2]), -1, 0] \n",
    "]\n",
    "\n",
    "theata = np.array([0, 0])\n",
    "theata_0 = 0\n",
    "\n",
    "runCnt = 0\n",
    "sum_misclassified = 0\n",
    "\n",
    "\n",
    "# limited Perceptron(with offset)\n",
    "for i in range(1,3):\n",
    "    runCnt += 1;\n",
    "    for t in T:\n",
    "        # t[0]: x^(i)\n",
    "        # t[1]: y^(i)\n",
    "        # t[2]: times misclassfied\n",
    "        if t[1] * (np.matmul(theata.transpose(), t[0]) + theata_0) <= 0:\n",
    "            theata = theata + t[1] * t[0]\n",
    "            theata_0 = theata_0 + t[1]\n",
    "            t[2] += 1\n",
    "            sum_misclassified += 1\n",
    "    print('sum_misclassified: ' + str(sum_misclassified))\n",
    "    if(misclassified == 0):\n",
    "        print(\"hoge\")\n",
    "        break\n",
    "\n",
    "print('Run: ' + str(runCnt))\n",
    "print('Updated theata: ' + str(theata))\n",
    "print('Updated theata_0: ' + str(theata_0))\n",
    "T"
   ]
  },
  {
   "cell_type": "code",
   "execution_count": 9,
   "metadata": {},
   "outputs": [
    {
     "name": "stdout",
     "output_type": "stream",
     "text": [
      "sum_misclassified: 2\n",
      "sum_misclassified: 2\n",
      "sum_misclassified: 2\n",
      "sum_misclassified: 2\n",
      "sum_misclassified: 2\n",
      "sum_misclassified: 2\n",
      "sum_misclassified: 2\n",
      "sum_misclassified: 2\n",
      "sum_misclassified: 2\n",
      "sum_misclassified: 2\n",
      "Run: 10\n",
      "Updated theata: [-1  1]\n",
      "Updated theata_0: 0\n"
     ]
    },
    {
     "data": {
      "text/plain": [
       "[[array([-1,  0]), 1, 1], [array([0, 1]), 1, 1]]"
      ]
     },
     "execution_count": 9,
     "metadata": {},
     "output_type": "execute_result"
    }
   ],
   "source": [
    "T = [\n",
    "    [np.array([-1, 0]), 1, 0],\n",
    "    [np.array([0, 1]), 1, 0],\n",
    "]\n",
    "\n",
    "theata = np.array([0, 0])\n",
    "\n",
    "runCnt = 0\n",
    "sum_misclassified = 0\n",
    "\n",
    "\n",
    "# limited Perceptron(with offset)\n",
    "for i in range(10):\n",
    "    runCnt += 1;\n",
    "    for t in T:\n",
    "        # t[0]: x^(i)\n",
    "        # t[1]: y^(i)\n",
    "        # t[2]: times misclassfied\n",
    "        if t[1] * (np.matmul(theata.transpose(), t[0])) <= 0:\n",
    "            theata = theata + t[1] * t[0]\n",
    "            t[2] += 1\n",
    "            sum_misclassified += 1\n",
    "    print('sum_misclassified: ' + str(sum_misclassified))\n",
    "    if(misclassified == 0):\n",
    "        print(\"complited!\")\n",
    "        break\n",
    "\n",
    "print('Run: ' + str(runCnt))\n",
    "print('Updated theata: ' + str(theata))\n",
    "print('Updated theata_0: ' + str(theata_0))\n",
    "T"
   ]
  },
  {
   "cell_type": "markdown",
   "metadata": {},
   "source": [
    "## 2.(b)\n",
    "- データを手書きで図示してみてある程度、当たりをつけてしまう\n",
    "- do-whileがないので,for-loopで代わりとなる書き方をする\n",
    "https://coderwall.com/p/q_rd1q/emulate-do-while-loop-in-python"
   ]
  },
  {
   "cell_type": "code",
   "execution_count": 49,
   "metadata": {},
   "outputs": [
    {
     "name": "stdout",
     "output_type": "stream",
     "text": [
      "complited!\n",
      "Updated theata: [-1  1]\n",
      "Updated theata_0: -1\n"
     ]
    },
    {
     "data": {
      "text/plain": [
       "[[array([-4,  2]), 1, 0],\n",
       " [array([-2,  1]), 1, 0],\n",
       " [array([-1, -1]), -1, 0],\n",
       " [array([2, 2]), -1, 0],\n",
       " [array([ 1, -2]), -1, 0]]"
      ]
     },
     "execution_count": 49,
     "metadata": {},
     "output_type": "execute_result"
    }
   ],
   "source": [
    "T = [\n",
    "    [np.array([-4, 2]), 1, 0],\n",
    "    [np.array([-2, 1]), 1, 0],\n",
    "    [np.array([-1, -1]), -1, 0],\n",
    "    [np.array([2, 2]), -1, 0],\n",
    "    [np.array([1, -2]), -1, 0] \n",
    "]\n",
    "\n",
    "\n",
    "theata = np.array([-1, 1])\n",
    "theata_0 = -1\n",
    "\n",
    "misclassified = 0\n",
    "\n",
    "# Perceptron(with offset)\n",
    "while True:\n",
    "    for t in T:\n",
    "        if t[1] * (np.matmul(theata.transpose(), t[0]) + theata_0) <= 0:\n",
    "            theata = theata + t[1] * t[0]\n",
    "            theata_0 = theata_0 + t[1]\n",
    "            t[2] += 1\n",
    "            misclassified += 1\n",
    "    if(misclassified == 0):\n",
    "        print(\"complited!\")\n",
    "        break\n",
    "        \n",
    "print('Updated theata: ' + str(theata))\n",
    "print('Updated theata_0: ' + str(theata_0))\n",
    "T"
   ]
  },
  {
   "cell_type": "code",
   "execution_count": 11,
   "metadata": {},
   "outputs": [
    {
     "ename": "KeyboardInterrupt",
     "evalue": "",
     "output_type": "error",
     "traceback": [
      "\u001b[0;31m---------------------------------------------------------------------------\u001b[0m",
      "\u001b[0;31mKeyboardInterrupt\u001b[0m                         Traceback (most recent call last)",
      "\u001b[0;32m<ipython-input-11-bfdbb0b4708b>\u001b[0m in \u001b[0;36m<module>\u001b[0;34m\u001b[0m\n\u001b[1;32m     12\u001b[0m \u001b[0;32mwhile\u001b[0m \u001b[0;32mTrue\u001b[0m\u001b[0;34m:\u001b[0m\u001b[0;34m\u001b[0m\u001b[0;34m\u001b[0m\u001b[0m\n\u001b[1;32m     13\u001b[0m     \u001b[0;32mfor\u001b[0m \u001b[0mt\u001b[0m \u001b[0;32min\u001b[0m \u001b[0mT\u001b[0m\u001b[0;34m:\u001b[0m\u001b[0;34m\u001b[0m\u001b[0;34m\u001b[0m\u001b[0m\n\u001b[0;32m---> 14\u001b[0;31m         \u001b[0;32mif\u001b[0m \u001b[0mt\u001b[0m\u001b[0;34m[\u001b[0m\u001b[0;36m1\u001b[0m\u001b[0;34m]\u001b[0m \u001b[0;34m*\u001b[0m \u001b[0;34m(\u001b[0m\u001b[0mnp\u001b[0m\u001b[0;34m.\u001b[0m\u001b[0mmatmul\u001b[0m\u001b[0;34m(\u001b[0m\u001b[0mtheata\u001b[0m\u001b[0;34m.\u001b[0m\u001b[0mtranspose\u001b[0m\u001b[0;34m(\u001b[0m\u001b[0;34m)\u001b[0m\u001b[0;34m,\u001b[0m \u001b[0mt\u001b[0m\u001b[0;34m[\u001b[0m\u001b[0;36m0\u001b[0m\u001b[0;34m]\u001b[0m\u001b[0;34m)\u001b[0m\u001b[0;34m)\u001b[0m \u001b[0;34m<=\u001b[0m \u001b[0;36m0\u001b[0m\u001b[0;34m:\u001b[0m\u001b[0;34m\u001b[0m\u001b[0;34m\u001b[0m\u001b[0m\n\u001b[0m\u001b[1;32m     15\u001b[0m             \u001b[0mtheata\u001b[0m \u001b[0;34m=\u001b[0m \u001b[0mtheata\u001b[0m \u001b[0;34m+\u001b[0m \u001b[0mt\u001b[0m\u001b[0;34m[\u001b[0m\u001b[0;36m1\u001b[0m\u001b[0;34m]\u001b[0m \u001b[0;34m*\u001b[0m \u001b[0mt\u001b[0m\u001b[0;34m[\u001b[0m\u001b[0;36m0\u001b[0m\u001b[0;34m]\u001b[0m\u001b[0;34m\u001b[0m\u001b[0;34m\u001b[0m\u001b[0m\n\u001b[1;32m     16\u001b[0m             \u001b[0mt\u001b[0m\u001b[0;34m[\u001b[0m\u001b[0;36m2\u001b[0m\u001b[0;34m]\u001b[0m \u001b[0;34m+=\u001b[0m \u001b[0;36m1\u001b[0m\u001b[0;34m\u001b[0m\u001b[0;34m\u001b[0m\u001b[0m\n",
      "\u001b[0;31mKeyboardInterrupt\u001b[0m: "
     ]
    }
   ],
   "source": [
    "T = [\n",
    "    [np.array([-1, 0]), 1, 0],\n",
    "    [np.array([0, 1]), 1, 0],\n",
    "]\n",
    "\n",
    "\n",
    "theata = np.array([0, 0])\n",
    "\n",
    "misclassified = 0\n",
    "\n",
    "# Perceptron(with offset)\n",
    "while True:\n",
    "    for t in T:\n",
    "        if t[1] * (np.matmul(theata.transpose(), t[0])) <= 0:\n",
    "            theata = theata + t[1] * t[0]\n",
    "            t[2] += 1\n",
    "            misclassified += 1\n",
    "    if(misclassified == 0):\n",
    "        print(\"complited!\")\n",
    "        break\n",
    "        \n",
    "print('Updated theata: ' + str(theata))\n",
    "T"
   ]
  },
  {
   "cell_type": "code",
   "execution_count": null,
   "metadata": {},
   "outputs": [],
   "source": []
  }
 ],
 "metadata": {
  "kernelspec": {
   "display_name": "Environment (conda_6.86x)",
   "language": "python",
   "name": "conda_6.86x"
  },
  "language_info": {
   "codemirror_mode": {
    "name": "ipython",
    "version": 3
   },
   "file_extension": ".py",
   "mimetype": "text/x-python",
   "name": "python",
   "nbconvert_exporter": "python",
   "pygments_lexer": "ipython3",
   "version": "3.6.8"
  }
 },
 "nbformat": 4,
 "nbformat_minor": 2
}
