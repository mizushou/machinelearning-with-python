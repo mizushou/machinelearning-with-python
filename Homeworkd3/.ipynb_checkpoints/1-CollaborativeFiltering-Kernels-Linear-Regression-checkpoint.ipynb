{
 "cells": [
  {
   "cell_type": "markdown",
   "metadata": {},
   "source": [
    "# 1. Collaborative Filtering, Kernels, Linear Regression\n",
    "\n",
    "> In this question, we will use the alternating projections algorithm for low-rank matrix factorization, which aims to minimize\n",
    "\n",
    "$\n",
    "J(U, V) = \\underbrace{\\frac{1}{2}\\sum _{(a,i) \\in D} (Y_{ai} - [UV^ T]_{ai})^2}_{\\text {Squared Error}} + \\underbrace{\\frac{\\lambda }{2}\\sum _{a=1}^ n \\sum _{j=1}^ k U_{aj}^2 + \\frac{\\lambda }{2}\\sum _{i=1}^ m \\sum _{j=1}^ k V_{ij}^2}_{\\text {Regularization}}.\n",
    "$\n",
    "\n",
    "> In the following, we will call the first term the squared error term, and the two terms with  𝜆  the regularization terms.\n",
    "\n",
    "> Let  𝑌  be defined as\n",
    "\n",
    "$\n",
    "Y = \\begin{bmatrix}  5 &  ? &  7 \\\\ ? &  2 &  ? \\\\ 4 &  ? &  ? \\\\ ? &  3 &  6 \\\\ \\end{bmatrix}\n",
    "$\n",
    "\n",
    "\n",
    "$D$ is defined as the set of indices  $(a, i)$ , where  $Y_{a,i}$  is not missing. In this problem, we let  $k = \\lambda =1$ . Additionally, $U$  and  $V$  are initialized as  $U^{(0)}=[6,0,3,6]^ T$ , and  $V^{(0)}=[4,2,1]^ T$ ."
   ]
  },
  {
   "cell_type": "markdown",
   "metadata": {},
   "source": [
    "## 1. (a)\n",
    "\n",
    "Compute $X$ , the matrix of predicted rankings $U V^ T$ given the initial values for $U$ and $V$."
   ]
  },
  {
   "cell_type": "code",
   "execution_count": 2,
   "metadata": {},
   "outputs": [],
   "source": [
    "import numpy as np"
   ]
  },
  {
   "cell_type": "code",
   "execution_count": 3,
   "metadata": {},
   "outputs": [],
   "source": [
    "U_0 = np.array([6,0,3,6])"
   ]
  },
  {
   "cell_type": "code",
   "execution_count": 4,
   "metadata": {},
   "outputs": [
    {
     "data": {
      "text/plain": [
       "array([6, 0, 3, 6])"
      ]
     },
     "execution_count": 4,
     "metadata": {},
     "output_type": "execute_result"
    }
   ],
   "source": [
    "U_0"
   ]
  },
  {
   "cell_type": "code",
   "execution_count": 12,
   "metadata": {},
   "outputs": [],
   "source": [
    "V_0 = np.array([4,2,1])"
   ]
  },
  {
   "cell_type": "code",
   "execution_count": 13,
   "metadata": {},
   "outputs": [
    {
     "data": {
      "text/plain": [
       "array([4, 2, 1])"
      ]
     },
     "execution_count": 13,
     "metadata": {},
     "output_type": "execute_result"
    }
   ],
   "source": [
    "V_0"
   ]
  },
  {
   "cell_type": "code",
   "execution_count": 14,
   "metadata": {},
   "outputs": [],
   "source": [
    "X = np.outer(U_0, V_0)"
   ]
  },
  {
   "cell_type": "code",
   "execution_count": 11,
   "metadata": {},
   "outputs": [
    {
     "data": {
      "text/plain": [
       "array([[24, 12,  6],\n",
       "       [ 0,  0,  0],\n",
       "       [12,  6,  3],\n",
       "       [24, 12,  6]])"
      ]
     },
     "execution_count": 11,
     "metadata": {},
     "output_type": "execute_result"
    }
   ],
   "source": [
    "X"
   ]
  },
  {
   "cell_type": "code",
   "execution_count": 66,
   "metadata": {},
   "outputs": [],
   "source": [
    "Y = np.array([[5,\"\",7],[\"\",2,\"\"],[4,\"\",\"\"],[\"\",3,6]] )"
   ]
  },
  {
   "cell_type": "code",
   "execution_count": 67,
   "metadata": {},
   "outputs": [
    {
     "data": {
      "text/plain": [
       "array([['5', '', '7'],\n",
       "       ['', '2', ''],\n",
       "       ['4', '', ''],\n",
       "       ['', '3', '6']], dtype='<U21')"
      ]
     },
     "execution_count": 67,
     "metadata": {},
     "output_type": "execute_result"
    }
   ],
   "source": [
    "Y"
   ]
  },
  {
   "cell_type": "code",
   "execution_count": 72,
   "metadata": {},
   "outputs": [
    {
     "name": "stdout",
     "output_type": "stream",
     "text": [
      "255.5\n"
     ]
    }
   ],
   "source": [
    "row = Y.shape[0]\n",
    "col = Y.shape[1]\n",
    "squared_error = 0.0\n",
    "\n",
    "for a in range(row):\n",
    "    for i in range(col):\n",
    "        if Y[a][i] != \"\":\n",
    "            squared_error += (int(Y[a][i]) - int(X[a][i]))**2\n",
    "\n",
    "squared_error = squared_error/2\n",
    "print(squared_error)"
   ]
  },
  {
   "cell_type": "code",
   "execution_count": 81,
   "metadata": {},
   "outputs": [
    {
     "data": {
      "text/plain": [
       "51.0"
      ]
     },
     "execution_count": 81,
     "metadata": {},
     "output_type": "execute_result"
    }
   ],
   "source": [
    "row = Y.shape[0]\n",
    "col = Y.shape[1]\n",
    "regularization_1 = 0.0\n",
    "regularization_2 = 0.0\n",
    "\n",
    "for a in range(row):\n",
    "    regularization_1 += U_0[a]**2\n",
    "\n",
    "for i in range(col):\n",
    "    regularization_2 += V_0[i]**2\n",
    "    \n",
    "regularization = (regularization_1 + regularization_2)/2\n",
    "regularization"
   ]
  },
  {
   "cell_type": "markdown",
   "metadata": {},
   "source": [
    "## 1. (c)\n",
    "\n",
    "Suppose  $𝑉$  is kept fixed. Run one step of the algorithm to find the new estimate $U^{(1)}$.\n",
    "\n",
    "Enter the  $U^{(1)}$  as a list of numbers,  $[U_1^{(1)}, U_2^{(1)}, U_3^{(1)}, U_4^{(1)}]$ :"
   ]
  },
  {
   "cell_type": "code",
   "execution_count": null,
   "metadata": {},
   "outputs": [],
   "source": []
  }
 ],
 "metadata": {
  "kernelspec": {
   "display_name": "Environment (conda_6.86x)",
   "language": "python",
   "name": "conda_6.86x"
  },
  "language_info": {
   "codemirror_mode": {
    "name": "ipython",
    "version": 3
   },
   "file_extension": ".py",
   "mimetype": "text/x-python",
   "name": "python",
   "nbconvert_exporter": "python",
   "pygments_lexer": "ipython3",
   "version": "3.6.8"
  }
 },
 "nbformat": 4,
 "nbformat_minor": 2
}
